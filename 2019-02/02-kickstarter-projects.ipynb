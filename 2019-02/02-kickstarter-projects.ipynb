{
 "cells": [
  {
   "cell_type": "markdown",
   "metadata": {
    "slideshow": {
     "slide_type": "skip"
    }
   },
   "source": [
    "# Introducción al Análisis Exploratorio de Datos con Pandas\n",
    "\n",
    "Es un enfoque que comprende un conjunto de tareas para analizar conjuntos de datos para poder encontrar sus principales caracteristicas.\n",
    "\n",
    "Estas tareas en general comprenden todo lo que tenemos que hacer desde que se formula una pregunta interesante, se reunen los datos y se desarrolla el proceso necesario para **poder responder esa pregunta**.\n",
    "\n",
    "Su Objetivo es:\n",
    "\n",
    "- Entender los datos.\n",
    "- Ver caracteristicas de los datos.\n",
    "- Detectar irregularidades (outliers) de los datos.\n",
    "- Obtener valores estadisticos de los datos.\n",
    "- Realizar visualizaciones rapidas que faciliten el proceso de exploracion.\n",
    "\n",
    "Usualmente el resultado del mismo suele ser un reporte o un notebook, que reune codigo y visualizaciones para llegar a ciertas **conclusiones o insights**.\n",
    "\n",
    "Es un proceso iterativo, que se retroalimenta.\n",
    "\n",
    "En general realizaremos el análisis del mismo sobre uno o varios Dataframes."
   ]
  },
  {
   "cell_type": "markdown",
   "metadata": {
    "slideshow": {
     "slide_type": "slide"
    }
   },
   "source": [
    "## Temario\n",
    "\n",
    "Estos son algunos de los temas que intentaremos revisar a lo largo del analisis propuesto\n",
    "\n",
    "- Carga de informacion en un DataFrame\n",
    "- Analizando propiedades especificas del set de datos\n",
    "- Analizando utilizacion de memoria del dataframe\n",
    "- Conversion de Datos y mejoras en uso de memoria\n",
    "- Verificacion de Calidad de Datos\n",
    "- Manejo de valores nulos\n",
    "- Manipulando el Data Frame\n",
    "   - Anatomia de un Data Frame\n",
    "   - Manejo de Indices\n",
    "   - Joins\n",
    "   - Agrupamiento (Group By) para: \n",
    "       - Agregacion (agg)\n",
    "       - Filtrado (filter)\n",
    "       - Transformacion (transform y apply).\n"
   ]
  },
  {
   "cell_type": "markdown",
   "metadata": {
    "slideshow": {
     "slide_type": "slide"
    }
   },
   "source": [
    "- Visualizaciones\n",
    "    - Examinando la distribucion de una variables\n",
    "        - Histograma\n",
    "        - Density Plot\n",
    "    - Explorando relacion entre variables\n",
    "        - Overlaid Histogram\n",
    "        - Scatter Plot\n",
    "        - Heatmap\n",
    "    - Comparando Grupos o categorias\n",
    "        - Bar Plot\n",
    "        - Grouped Bar Plot\n",
    "        - Box Plot\n",
    "    - Recomendaciones generales para visualizacion"
   ]
  },
  {
   "cell_type": "code",
   "execution_count": 327,
   "metadata": {
    "slideshow": {
     "slide_type": "skip"
    }
   },
   "outputs": [],
   "source": [
    "# importacion general de librerias y de visualizacion (matplotlib y seaborn)\n",
    "import pandas as pd\n",
    "import numpy as np\n",
    "import matplotlib.pyplot as plt\n",
    "import seaborn as sns\n",
    "\n",
    "%matplotlib inline\n",
    "\n",
    "plt.style.use('default') # haciendo los graficos un poco mas bonitos en matplotlib\n",
    "#plt.rcParams['figure.figsize'] = (20, 10)\n",
    "\n",
    "sns.set(style=\"whitegrid\") # seteando tipo de grid en seaborn\n",
    "\n",
    "pd.options.display.float_format = '{:20,.2f}'.format # suprimimos la notacion cientifica en los outputs\n",
    "\n",
    "import warnings\n",
    "warnings.filterwarnings('ignore')"
   ]
  },
  {
   "cell_type": "markdown",
   "metadata": {
    "slideshow": {
     "slide_type": "slide"
    }
   },
   "source": [
    "## Analisis Exploratorio de Datos: Kickstarter Projects\n",
    "\n",
    "Para comenzar a trabajar en la distintas operaciones que podemos realizar con un data frame vamos a trabajar con el siguiente set de datos:\n",
    "\n",
    "[https://www.kaggle.com/kemical/kickstarter-projects/data](https://www.kaggle.com/kemical/kickstarter-projects/data)\n",
    "\n",
    "Este set de datos posee informacion de unos 300000 proyectos de Kickstarter, la popular plataforma de Crowdsourcing. Nuestro objetivo será realizar un análisis exploratorio sobre esa información, para intentar obtener algunos insights de de la misma.\n",
    "\n",
    "En particular el dataset tiene dos archivos, uno con informacion parcial recopilada anteriormente y uno con informacion hasta inicios del 2018 (con el que estaremos trabajando).\n",
    "\n",
    "**Nota:** para aquellos que quieran realizar analisis de los datos anteriores tener en cuenta que el formato de encoding se encuentra en 'Western(windows 1252)' por lo que al realizar la carga con read_csv hay que indicar el encoding como ```encoding='cp1252'```"
   ]
  },
  {
   "cell_type": "markdown",
   "metadata": {
    "slideshow": {
     "slide_type": "skip"
    }
   },
   "source": [
    "### Carga de Informacion en un Dataframe\n",
    "\n",
    "Pandas soporta distintas fuentes de informacion en distintos formatos (desde archivos de csv, excel, hasta fuentes remotas como urls o bases de datos, etc.). En este caso vamos a cargar la informacion desde un CSV que hemos descargado previamente de kaggle. Esto lo podemos hacer con pandas con ```read_csv```. \n",
    "\n",
    "Inicialmente podremos ver parte del data frame para tener idea de la estructura del mismo."
   ]
  },
  {
   "cell_type": "code",
   "execution_count": 329,
   "metadata": {
    "slideshow": {
     "slide_type": "skip"
    }
   },
   "outputs": [
    {
     "data": {
      "text/html": [
       "<div>\n",
       "<style scoped>\n",
       "    .dataframe tbody tr th:only-of-type {\n",
       "        vertical-align: middle;\n",
       "    }\n",
       "\n",
       "    .dataframe tbody tr th {\n",
       "        vertical-align: top;\n",
       "    }\n",
       "\n",
       "    .dataframe thead th {\n",
       "        text-align: right;\n",
       "    }\n",
       "</style>\n",
       "<table border=\"1\" class=\"dataframe\">\n",
       "  <thead>\n",
       "    <tr style=\"text-align: right;\">\n",
       "      <th></th>\n",
       "      <th>ID</th>\n",
       "      <th>name</th>\n",
       "      <th>category</th>\n",
       "      <th>main_category</th>\n",
       "      <th>currency</th>\n",
       "      <th>deadline</th>\n",
       "      <th>goal</th>\n",
       "      <th>launched</th>\n",
       "      <th>pledged</th>\n",
       "      <th>state</th>\n",
       "      <th>backers</th>\n",
       "      <th>country</th>\n",
       "      <th>usd pledged</th>\n",
       "      <th>usd_pledged_real</th>\n",
       "      <th>usd_goal_real</th>\n",
       "    </tr>\n",
       "  </thead>\n",
       "  <tbody>\n",
       "    <tr>\n",
       "      <td>0</td>\n",
       "      <td>1000002330</td>\n",
       "      <td>The Songs of Adelaide &amp; Abullah</td>\n",
       "      <td>Poetry</td>\n",
       "      <td>Publishing</td>\n",
       "      <td>GBP</td>\n",
       "      <td>2015-10-09</td>\n",
       "      <td>1,000.00</td>\n",
       "      <td>2015-08-11 12:12:28</td>\n",
       "      <td>0.00</td>\n",
       "      <td>failed</td>\n",
       "      <td>0</td>\n",
       "      <td>GB</td>\n",
       "      <td>0.00</td>\n",
       "      <td>0.00</td>\n",
       "      <td>1,533.95</td>\n",
       "    </tr>\n",
       "    <tr>\n",
       "      <td>1</td>\n",
       "      <td>1000003930</td>\n",
       "      <td>Greeting From Earth: ZGAC Arts Capsule For ET</td>\n",
       "      <td>Narrative Film</td>\n",
       "      <td>Film &amp; Video</td>\n",
       "      <td>USD</td>\n",
       "      <td>2017-11-01</td>\n",
       "      <td>30,000.00</td>\n",
       "      <td>2017-09-02 04:43:57</td>\n",
       "      <td>2,421.00</td>\n",
       "      <td>failed</td>\n",
       "      <td>15</td>\n",
       "      <td>US</td>\n",
       "      <td>100.00</td>\n",
       "      <td>2,421.00</td>\n",
       "      <td>30,000.00</td>\n",
       "    </tr>\n",
       "    <tr>\n",
       "      <td>2</td>\n",
       "      <td>1000004038</td>\n",
       "      <td>Where is Hank?</td>\n",
       "      <td>Narrative Film</td>\n",
       "      <td>Film &amp; Video</td>\n",
       "      <td>USD</td>\n",
       "      <td>2013-02-26</td>\n",
       "      <td>45,000.00</td>\n",
       "      <td>2013-01-12 00:20:50</td>\n",
       "      <td>220.00</td>\n",
       "      <td>failed</td>\n",
       "      <td>3</td>\n",
       "      <td>US</td>\n",
       "      <td>220.00</td>\n",
       "      <td>220.00</td>\n",
       "      <td>45,000.00</td>\n",
       "    </tr>\n",
       "    <tr>\n",
       "      <td>3</td>\n",
       "      <td>1000007540</td>\n",
       "      <td>ToshiCapital Rekordz Needs Help to Complete Album</td>\n",
       "      <td>Music</td>\n",
       "      <td>Music</td>\n",
       "      <td>USD</td>\n",
       "      <td>2012-04-16</td>\n",
       "      <td>5,000.00</td>\n",
       "      <td>2012-03-17 03:24:11</td>\n",
       "      <td>1.00</td>\n",
       "      <td>failed</td>\n",
       "      <td>1</td>\n",
       "      <td>US</td>\n",
       "      <td>1.00</td>\n",
       "      <td>1.00</td>\n",
       "      <td>5,000.00</td>\n",
       "    </tr>\n",
       "    <tr>\n",
       "      <td>4</td>\n",
       "      <td>1000011046</td>\n",
       "      <td>Community Film Project: The Art of Neighborhoo...</td>\n",
       "      <td>Film &amp; Video</td>\n",
       "      <td>Film &amp; Video</td>\n",
       "      <td>USD</td>\n",
       "      <td>2015-08-29</td>\n",
       "      <td>19,500.00</td>\n",
       "      <td>2015-07-04 08:35:03</td>\n",
       "      <td>1,283.00</td>\n",
       "      <td>canceled</td>\n",
       "      <td>14</td>\n",
       "      <td>US</td>\n",
       "      <td>1,283.00</td>\n",
       "      <td>1,283.00</td>\n",
       "      <td>19,500.00</td>\n",
       "    </tr>\n",
       "  </tbody>\n",
       "</table>\n",
       "</div>"
      ],
      "text/plain": [
       "           ID                                               name  \\\n",
       "0  1000002330                    The Songs of Adelaide & Abullah   \n",
       "1  1000003930      Greeting From Earth: ZGAC Arts Capsule For ET   \n",
       "2  1000004038                                     Where is Hank?   \n",
       "3  1000007540  ToshiCapital Rekordz Needs Help to Complete Album   \n",
       "4  1000011046  Community Film Project: The Art of Neighborhoo...   \n",
       "\n",
       "         category main_category currency    deadline                 goal  \\\n",
       "0          Poetry    Publishing      GBP  2015-10-09             1,000.00   \n",
       "1  Narrative Film  Film & Video      USD  2017-11-01            30,000.00   \n",
       "2  Narrative Film  Film & Video      USD  2013-02-26            45,000.00   \n",
       "3           Music         Music      USD  2012-04-16             5,000.00   \n",
       "4    Film & Video  Film & Video      USD  2015-08-29            19,500.00   \n",
       "\n",
       "              launched              pledged     state  backers country  \\\n",
       "0  2015-08-11 12:12:28                 0.00    failed        0      GB   \n",
       "1  2017-09-02 04:43:57             2,421.00    failed       15      US   \n",
       "2  2013-01-12 00:20:50               220.00    failed        3      US   \n",
       "3  2012-03-17 03:24:11                 1.00    failed        1      US   \n",
       "4  2015-07-04 08:35:03             1,283.00  canceled       14      US   \n",
       "\n",
       "           usd pledged     usd_pledged_real        usd_goal_real  \n",
       "0                 0.00                 0.00             1,533.95  \n",
       "1               100.00             2,421.00            30,000.00  \n",
       "2               220.00               220.00            45,000.00  \n",
       "3                 1.00                 1.00             5,000.00  \n",
       "4             1,283.00             1,283.00            19,500.00  "
      ]
     },
     "execution_count": 329,
     "metadata": {},
     "output_type": "execute_result"
    }
   ],
   "source": [
    "# %timeit sirve para evaluar el tiempo de ejecucion\n",
    "projects_2017 = pd.read_csv('../data/kickstarter-projects/ks-projects-201801.csv')\n",
    "projects_2017.head()\n",
    "#projects_2017"
   ]
  },
  {
   "cell_type": "code",
   "execution_count": 330,
   "metadata": {
    "slideshow": {
     "slide_type": "skip"
    }
   },
   "outputs": [
    {
     "name": "stdout",
     "output_type": "stream",
     "text": [
      "(378661, 15)\n"
     ]
    }
   ],
   "source": [
    "# nos da las dimensiones del data frame (rows x columns)\n",
    "print(projects_2017.shape)"
   ]
  },
  {
   "cell_type": "code",
   "execution_count": 331,
   "metadata": {},
   "outputs": [
    {
     "data": {
      "text/plain": [
       "5679915"
      ]
     },
     "execution_count": 331,
     "metadata": {},
     "output_type": "execute_result"
    }
   ],
   "source": [
    "# en caso de ser una serie devuelve el numero de rows\n",
    "# en caso de ser un dataframe devuelve el numero de rows x el numero de columns \n",
    "projects_2017.size"
   ]
  },
  {
   "cell_type": "code",
   "execution_count": 332,
   "metadata": {},
   "outputs": [
    {
     "data": {
      "text/plain": [
       "ID                  378661\n",
       "name                378657\n",
       "category            378661\n",
       "main_category       378661\n",
       "currency            378661\n",
       "deadline            378661\n",
       "goal                378661\n",
       "launched            378661\n",
       "pledged             378661\n",
       "state               378661\n",
       "backers             378661\n",
       "country             378661\n",
       "usd pledged         374864\n",
       "usd_pledged_real    378661\n",
       "usd_goal_real       378661\n",
       "dtype: int64"
      ]
     },
     "execution_count": 332,
     "metadata": {},
     "output_type": "execute_result"
    }
   ],
   "source": [
    "# podemos contar la cantidad de elementos elementos no nulos en el data frame\n",
    "projects_2017.count()"
   ]
  },
  {
   "cell_type": "code",
   "execution_count": 333,
   "metadata": {
    "slideshow": {
     "slide_type": "subslide"
    }
   },
   "outputs": [
    {
     "data": {
      "text/plain": [
       "numpy.int64"
      ]
     },
     "execution_count": 333,
     "metadata": {},
     "output_type": "execute_result"
    }
   ],
   "source": [
    "type(projects_2017[\"usd pledged\"].count())"
   ]
  },
  {
   "cell_type": "markdown",
   "metadata": {
    "slideshow": {
     "slide_type": "slide"
    }
   },
   "source": [
    "### Analizando propiedades especificas del set de datos"
   ]
  },
  {
   "cell_type": "markdown",
   "metadata": {
    "slideshow": {
     "slide_type": "subslide"
    }
   },
   "source": [
    "Para poder comenzar a orientar nuestro analisis podemos por ejemplo querer comenzar a analizar algunas variables que nos interesan para aplicar en nuestros analisis.\n",
    "Podemos por ejemplo comenzar las **categorias disponibles principales**"
   ]
  },
  {
   "cell_type": "code",
   "execution_count": 334,
   "metadata": {},
   "outputs": [],
   "source": [
    "main_categories = projects_2017['main_category']"
   ]
  },
  {
   "cell_type": "code",
   "execution_count": 335,
   "metadata": {},
   "outputs": [
    {
     "data": {
      "text/plain": [
       "pandas.core.series.Series"
      ]
     },
     "execution_count": 335,
     "metadata": {},
     "output_type": "execute_result"
    }
   ],
   "source": [
    "type(main_categories)"
   ]
  },
  {
   "cell_type": "code",
   "execution_count": 340,
   "metadata": {
    "slideshow": {
     "slide_type": "subslide"
    }
   },
   "outputs": [
    {
     "data": {
      "text/plain": [
       "Film & Video    63585\n",
       "Music           51918\n",
       "Publishing      39874\n",
       "Games           35231\n",
       "Technology      32569\n",
       "Design          30070\n",
       "Art             28153\n",
       "Food            24602\n",
       "Fashion         22816\n",
       "Theater         10913\n",
       "Comics          10819\n",
       "Photography     10779\n",
       "Crafts           8809\n",
       "Journalism       4755\n",
       "Dance            3768\n",
       "Name: main_category, dtype: int64"
      ]
     },
     "execution_count": 340,
     "metadata": {},
     "output_type": "execute_result"
    }
   ],
   "source": [
    "# de esta forma obtenemos la cantidad de valores que hay para cada una de las main_categories \n",
    "# contando los proyectos por categoria principal\n",
    "main_categories.value_counts()"
   ]
  },
  {
   "cell_type": "markdown",
   "metadata": {
    "slideshow": {
     "slide_type": "subslide"
    }
   },
   "source": [
    "Tambien podemos interesarnos en ver los posibles valores que podemos tener de **estados de un proyectos**"
   ]
  },
  {
   "cell_type": "code",
   "execution_count": 341,
   "metadata": {
    "slideshow": {
     "slide_type": "subslide"
    }
   },
   "outputs": [
    {
     "data": {
      "text/plain": [
       "failed        197719\n",
       "successful    133956\n",
       "canceled       38779\n",
       "undefined       3562\n",
       "live            2799\n",
       "suspended       1846\n",
       "Name: state, dtype: int64"
      ]
     },
     "execution_count": 341,
     "metadata": {},
     "output_type": "execute_result"
    }
   ],
   "source": [
    "states = projects_2017['state']\n",
    "states.value_counts()"
   ]
  },
  {
   "cell_type": "markdown",
   "metadata": {
    "slideshow": {
     "slide_type": "subslide"
    }
   },
   "source": [
    "En ambos casos, podemos considerar a las variables como categoricas que podremos usar para nuestro analisis, las cuales podremos utilizar para agrupar o dividir informacion, o filtrar informacion a considerar en el mismo.\n"
   ]
  },
  {
   "cell_type": "markdown",
   "metadata": {
    "slideshow": {
     "slide_type": "subslide"
    }
   },
   "source": [
    "por otro lado podemos analizar la columna **launched** para entender su uso en el data set."
   ]
  },
  {
   "cell_type": "code",
   "execution_count": 342,
   "metadata": {
    "slideshow": {
     "slide_type": "subslide"
    }
   },
   "outputs": [
    {
     "data": {
      "text/plain": [
       "0    2015-08-11 12:12:28\n",
       "1    2017-09-02 04:43:57\n",
       "2    2013-01-12 00:20:50\n",
       "3    2012-03-17 03:24:11\n",
       "4    2015-07-04 08:35:03\n",
       "Name: launched, dtype: object"
      ]
     },
     "execution_count": 342,
     "metadata": {},
     "output_type": "execute_result"
    }
   ],
   "source": [
    "projects_2017['launched'].head()"
   ]
  },
  {
   "cell_type": "code",
   "execution_count": 343,
   "metadata": {
    "slideshow": {
     "slide_type": "subslide"
    }
   },
   "outputs": [],
   "source": [
    "# generamos nuevas columnas seteando el tipo datetime\n",
    "projects_2017['launched_datetime'] = pd.to_datetime(projects_2017['launched'])\n",
    "# generamos una nueva columna obteniendo el año, esto los usuaremos en visualizacion.\n",
    "projects_2017['year'] = projects_2017['launched_datetime'].dt.year\n"
   ]
  },
  {
   "cell_type": "code",
   "execution_count": 344,
   "metadata": {},
   "outputs": [
    {
     "name": "stdout",
     "output_type": "stream",
     "text": [
      "<class 'pandas.core.frame.DataFrame'>\n",
      "RangeIndex: 378661 entries, 0 to 378660\n",
      "Data columns (total 17 columns):\n",
      "ID                   378661 non-null int64\n",
      "name                 378657 non-null object\n",
      "category             378661 non-null object\n",
      "main_category        378661 non-null object\n",
      "currency             378661 non-null object\n",
      "deadline             378661 non-null object\n",
      "goal                 378661 non-null float64\n",
      "launched             378661 non-null object\n",
      "pledged              378661 non-null float64\n",
      "state                378661 non-null object\n",
      "backers              378661 non-null int64\n",
      "country              378661 non-null object\n",
      "usd pledged          374864 non-null float64\n",
      "usd_pledged_real     378661 non-null float64\n",
      "usd_goal_real        378661 non-null float64\n",
      "launched_datetime    378661 non-null datetime64[ns]\n",
      "year                 378661 non-null int64\n",
      "dtypes: datetime64[ns](1), float64(5), int64(3), object(8)\n",
      "memory usage: 49.1+ MB\n"
     ]
    }
   ],
   "source": [
    "projects_2017.info()"
   ]
  },
  {
   "cell_type": "code",
   "execution_count": 345,
   "metadata": {
    "slideshow": {
     "slide_type": "subslide"
    }
   },
   "outputs": [
    {
     "data": {
      "text/plain": [
       "2015    77300\n",
       "2014    67745\n",
       "2016    57184\n",
       "2017    52200\n",
       "2013    44851\n",
       "2012    41165\n",
       "2011    26237\n",
       "2010    10519\n",
       "2009     1329\n",
       "2018      124\n",
       "1970        7\n",
       "Name: year, dtype: int64"
      ]
     },
     "execution_count": 345,
     "metadata": {},
     "output_type": "execute_result"
    }
   ],
   "source": [
    "projects_2017['year'].value_counts()"
   ]
  },
  {
   "cell_type": "markdown",
   "metadata": {
    "slideshow": {
     "slide_type": "subslide"
    }
   },
   "source": [
    "La cual podemos ver que nos indica la fecha de lanzamiento del proyecto y que podremos utilizar para desarrollar analisis de series de tiempo.\n",
    "\n",
    "Haciendo un analisis de algunas de las otras variables podemos tambien llegar a la conclusion de lo que representan las siguientes variables:\n",
    "\n",
    "- **Goal**: Objetivo a obtener de recaudacion para un proyecto\n",
    "- **Pledged**: Cantidad recaudada para un proyecto\n",
    "- **Backers**: Cantidad de personas que invirtieron en el proyecto."
   ]
  },
  {
   "cell_type": "markdown",
   "metadata": {
    "slideshow": {
     "slide_type": "slide"
    }
   },
   "source": [
    "### Analizando utilizacion de memoria del dataframe\n",
    "\n",
    "Es posible realizar un analisis de utilizacion de memoria del data frame para poder realizar mejoras en el uso de recursos."
   ]
  },
  {
   "cell_type": "code",
   "execution_count": 346,
   "metadata": {
    "slideshow": {
     "slide_type": "skip"
    }
   },
   "outputs": [
    {
     "data": {
      "text/plain": [
       "ID                            int64\n",
       "name                         object\n",
       "category                     object\n",
       "main_category                object\n",
       "currency                     object\n",
       "deadline                     object\n",
       "goal                        float64\n",
       "launched                     object\n",
       "pledged                     float64\n",
       "state                        object\n",
       "backers                       int64\n",
       "country                      object\n",
       "usd pledged                 float64\n",
       "usd_pledged_real            float64\n",
       "usd_goal_real               float64\n",
       "launched_datetime    datetime64[ns]\n",
       "year                          int64\n",
       "dtype: object"
      ]
     },
     "execution_count": 346,
     "metadata": {},
     "output_type": "execute_result"
    }
   ],
   "source": [
    "# si especificamente queremos saber los datatypes que estamos utilizando.\n",
    "# y por ejemplo decidir setear algunos especificamente en carga\n",
    "projects_2017.dtypes"
   ]
  },
  {
   "cell_type": "code",
   "execution_count": 348,
   "metadata": {
    "slideshow": {
     "slide_type": "subslide"
    }
   },
   "outputs": [
    {
     "name": "stdout",
     "output_type": "stream",
     "text": [
      "<class 'pandas.core.frame.DataFrame'>\n",
      "RangeIndex: 378661 entries, 0 to 378660\n",
      "Data columns (total 17 columns):\n",
      "ID                   378661 non-null int64\n",
      "name                 378657 non-null object\n",
      "category             378661 non-null object\n",
      "main_category        378661 non-null object\n",
      "currency             378661 non-null object\n",
      "deadline             378661 non-null object\n",
      "goal                 378661 non-null float64\n",
      "launched             378661 non-null object\n",
      "pledged              378661 non-null float64\n",
      "state                378661 non-null object\n",
      "backers              378661 non-null int64\n",
      "country              378661 non-null object\n",
      "usd pledged          374864 non-null float64\n",
      "usd_pledged_real     378661 non-null float64\n",
      "usd_goal_real        378661 non-null float64\n",
      "launched_datetime    378661 non-null datetime64[ns]\n",
      "year                 378661 non-null int64\n",
      "dtypes: datetime64[ns](1), float64(5), int64(3), object(8)\n",
      "memory usage: 49.1+ MB\n"
     ]
    }
   ],
   "source": [
    "# veamos la informacion general del dataframe con info()\n",
    "# nos brinda informacion de la cantidad de rows, si tiene campos nulos y el tipo\n",
    "projects_2017.info()"
   ]
  },
  {
   "cell_type": "code",
   "execution_count": 352,
   "metadata": {
    "slideshow": {
     "slide_type": "subslide"
    }
   },
   "outputs": [
    {
     "data": {
      "text/plain": [
       "49.112342834472656"
      ]
     },
     "execution_count": 352,
     "metadata": {},
     "output_type": "execute_result"
    }
   ],
   "source": [
    "# indica el uso en bytes de cada columna en bytes\n",
    "# la opcion deep no permite analizar en profundidad el uso que se esta haciendo de memoria a nivel sistema\n",
    "#projects_2017.memory_usage(deep=False)\n",
    "(projects_2017.memory_usage() / (1024 * 1024)).sum()"
   ]
  },
  {
   "cell_type": "markdown",
   "metadata": {
    "slideshow": {
     "slide_type": "slide"
    }
   },
   "source": [
    "Al contar con informacion sobre las columnas del dataframe o analizandolas podemos hacer mejoras en el uso de los tipos del dataframe de tal forma de optimizar el uso de memoria. Los dtypes usados por pandas son esencialmente los dtypes de NumPy."
   ]
  },
  {
   "cell_type": "markdown",
   "metadata": {
    "slideshow": {
     "slide_type": "slide"
    }
   },
   "source": [
    "### Conversion de Datos y mejoras en uso de memoria"
   ]
  },
  {
   "cell_type": "code",
   "execution_count": 357,
   "metadata": {
    "slideshow": {
     "slide_type": "subslide"
    }
   },
   "outputs": [
    {
     "data": {
      "text/plain": [
       "CategoricalDtype(categories=['Art', 'Comics', 'Crafts', 'Dance', 'Design', 'Fashion',\n",
       "                  'Film & Video', 'Food', 'Games', 'Journalism', 'Music',\n",
       "                  'Photography', 'Publishing', 'Technology', 'Theater'],\n",
       "                 ordered=False)"
      ]
     },
     "execution_count": 357,
     "metadata": {},
     "output_type": "execute_result"
    }
   ],
   "source": [
    "# por ejemplo podriamos castear especificamente una serie a un tipo categorico y verificar su dtype\n",
    "# esto reduce mucho la utilizacion de memoria.\n",
    "#main_categories\n",
    "main_categories.astype('category').dtypes"
   ]
  },
  {
   "cell_type": "code",
   "execution_count": 359,
   "metadata": {
    "slideshow": {
     "slide_type": "subslide"
    }
   },
   "outputs": [
    {
     "data": {
      "text/plain": [
       "Index                    128\n",
       "ID                   3029288\n",
       "name                 3029288\n",
       "category             3029288\n",
       "main_category         379421\n",
       "currency             3029288\n",
       "deadline             3029288\n",
       "goal                 3029288\n",
       "launched             3029288\n",
       "pledged              3029288\n",
       "state                3029288\n",
       "backers              3029288\n",
       "country              3029288\n",
       "usd pledged          3029288\n",
       "usd_pledged_real     3029288\n",
       "usd_goal_real        3029288\n",
       "launched_datetime    3029288\n",
       "year                 3029288\n",
       "dtype: int64"
      ]
     },
     "execution_count": 359,
     "metadata": {},
     "output_type": "execute_result"
    }
   ],
   "source": [
    "# lo realiza sobre una columna del dataframe especifico\n",
    "# considerar que devuelve una copia, ver el parametro 'copy'\n",
    "#projects_2017.astype({'main_category':'category'}).dtypes\n",
    "projects_2017.astype({'main_category':'category'}).memory_usage()"
   ]
  },
  {
   "cell_type": "code",
   "execution_count": 360,
   "metadata": {
    "slideshow": {
     "slide_type": "subslide"
    }
   },
   "outputs": [],
   "source": [
    "# otra forma de realizarlo es indicar en lectura de la fuente de datos los tipos\n",
    "projects = pd.read_csv('../data/kickstarter-projects/ks-projects-201801.csv', \\\n",
    "                            dtype={'main_category':'category','category':'category',\\\n",
    "                                   'country':'category'})"
   ]
  },
  {
   "cell_type": "code",
   "execution_count": 361,
   "metadata": {
    "slideshow": {
     "slide_type": "subslide"
    }
   },
   "outputs": [
    {
     "name": "stdout",
     "output_type": "stream",
     "text": [
      "<class 'pandas.core.frame.DataFrame'>\n",
      "RangeIndex: 378661 entries, 0 to 378660\n",
      "Data columns (total 15 columns):\n",
      "ID                  378661 non-null int64\n",
      "name                378657 non-null object\n",
      "category            378661 non-null category\n",
      "main_category       378661 non-null category\n",
      "currency            378661 non-null object\n",
      "deadline            378661 non-null object\n",
      "goal                378661 non-null float64\n",
      "launched            378661 non-null object\n",
      "pledged             378661 non-null float64\n",
      "state               378661 non-null object\n",
      "backers             378661 non-null int64\n",
      "country             378661 non-null category\n",
      "usd pledged         374864 non-null float64\n",
      "usd_pledged_real    378661 non-null float64\n",
      "usd_goal_real       378661 non-null float64\n",
      "dtypes: category(3), float64(5), int64(2), object(5)\n",
      "memory usage: 36.1+ MB\n"
     ]
    }
   ],
   "source": [
    "projects.info()"
   ]
  },
  {
   "cell_type": "code",
   "execution_count": 362,
   "metadata": {
    "slideshow": {
     "slide_type": "subslide"
    }
   },
   "outputs": [
    {
     "data": {
      "text/plain": [
       "Index                   128\n",
       "ID                  3029288\n",
       "name                3029288\n",
       "category             763714\n",
       "main_category        379421\n",
       "currency            3029288\n",
       "deadline            3029288\n",
       "goal                3029288\n",
       "launched            3029288\n",
       "pledged             3029288\n",
       "state               3029288\n",
       "backers             3029288\n",
       "country              379485\n",
       "usd pledged         3029288\n",
       "usd_pledged_real    3029288\n",
       "usd_goal_real       3029288\n",
       "dtype: int64"
      ]
     },
     "execution_count": 362,
     "metadata": {},
     "output_type": "execute_result"
    }
   ],
   "source": [
    "projects.memory_usage()"
   ]
  },
  {
   "cell_type": "code",
   "execution_count": 363,
   "metadata": {
    "slideshow": {
     "slide_type": "subslide"
    }
   },
   "outputs": [
    {
     "data": {
      "text/html": [
       "<div>\n",
       "<style scoped>\n",
       "    .dataframe tbody tr th:only-of-type {\n",
       "        vertical-align: middle;\n",
       "    }\n",
       "\n",
       "    .dataframe tbody tr th {\n",
       "        vertical-align: top;\n",
       "    }\n",
       "\n",
       "    .dataframe thead th {\n",
       "        text-align: right;\n",
       "    }\n",
       "</style>\n",
       "<table border=\"1\" class=\"dataframe\">\n",
       "  <thead>\n",
       "    <tr style=\"text-align: right;\">\n",
       "      <th></th>\n",
       "      <th>ID</th>\n",
       "      <th>goal</th>\n",
       "      <th>pledged</th>\n",
       "      <th>backers</th>\n",
       "      <th>usd pledged</th>\n",
       "      <th>usd_pledged_real</th>\n",
       "      <th>usd_goal_real</th>\n",
       "    </tr>\n",
       "  </thead>\n",
       "  <tbody>\n",
       "    <tr>\n",
       "      <td>0</td>\n",
       "      <td>1000002330</td>\n",
       "      <td>1,000.00</td>\n",
       "      <td>0.00</td>\n",
       "      <td>0</td>\n",
       "      <td>0.00</td>\n",
       "      <td>0.00</td>\n",
       "      <td>1,533.95</td>\n",
       "    </tr>\n",
       "    <tr>\n",
       "      <td>1</td>\n",
       "      <td>1000003930</td>\n",
       "      <td>30,000.00</td>\n",
       "      <td>2,421.00</td>\n",
       "      <td>15</td>\n",
       "      <td>100.00</td>\n",
       "      <td>2,421.00</td>\n",
       "      <td>30,000.00</td>\n",
       "    </tr>\n",
       "    <tr>\n",
       "      <td>2</td>\n",
       "      <td>1000004038</td>\n",
       "      <td>45,000.00</td>\n",
       "      <td>220.00</td>\n",
       "      <td>3</td>\n",
       "      <td>220.00</td>\n",
       "      <td>220.00</td>\n",
       "      <td>45,000.00</td>\n",
       "    </tr>\n",
       "    <tr>\n",
       "      <td>3</td>\n",
       "      <td>1000007540</td>\n",
       "      <td>5,000.00</td>\n",
       "      <td>1.00</td>\n",
       "      <td>1</td>\n",
       "      <td>1.00</td>\n",
       "      <td>1.00</td>\n",
       "      <td>5,000.00</td>\n",
       "    </tr>\n",
       "    <tr>\n",
       "      <td>4</td>\n",
       "      <td>1000011046</td>\n",
       "      <td>19,500.00</td>\n",
       "      <td>1,283.00</td>\n",
       "      <td>14</td>\n",
       "      <td>1,283.00</td>\n",
       "      <td>1,283.00</td>\n",
       "      <td>19,500.00</td>\n",
       "    </tr>\n",
       "    <tr>\n",
       "      <td>...</td>\n",
       "      <td>...</td>\n",
       "      <td>...</td>\n",
       "      <td>...</td>\n",
       "      <td>...</td>\n",
       "      <td>...</td>\n",
       "      <td>...</td>\n",
       "      <td>...</td>\n",
       "    </tr>\n",
       "    <tr>\n",
       "      <td>378656</td>\n",
       "      <td>999976400</td>\n",
       "      <td>50,000.00</td>\n",
       "      <td>25.00</td>\n",
       "      <td>1</td>\n",
       "      <td>25.00</td>\n",
       "      <td>25.00</td>\n",
       "      <td>50,000.00</td>\n",
       "    </tr>\n",
       "    <tr>\n",
       "      <td>378657</td>\n",
       "      <td>999977640</td>\n",
       "      <td>1,500.00</td>\n",
       "      <td>155.00</td>\n",
       "      <td>5</td>\n",
       "      <td>155.00</td>\n",
       "      <td>155.00</td>\n",
       "      <td>1,500.00</td>\n",
       "    </tr>\n",
       "    <tr>\n",
       "      <td>378658</td>\n",
       "      <td>999986353</td>\n",
       "      <td>15,000.00</td>\n",
       "      <td>20.00</td>\n",
       "      <td>1</td>\n",
       "      <td>20.00</td>\n",
       "      <td>20.00</td>\n",
       "      <td>15,000.00</td>\n",
       "    </tr>\n",
       "    <tr>\n",
       "      <td>378659</td>\n",
       "      <td>999987933</td>\n",
       "      <td>15,000.00</td>\n",
       "      <td>200.00</td>\n",
       "      <td>6</td>\n",
       "      <td>200.00</td>\n",
       "      <td>200.00</td>\n",
       "      <td>15,000.00</td>\n",
       "    </tr>\n",
       "    <tr>\n",
       "      <td>378660</td>\n",
       "      <td>999988282</td>\n",
       "      <td>2,000.00</td>\n",
       "      <td>524.00</td>\n",
       "      <td>17</td>\n",
       "      <td>524.00</td>\n",
       "      <td>524.00</td>\n",
       "      <td>2,000.00</td>\n",
       "    </tr>\n",
       "  </tbody>\n",
       "</table>\n",
       "<p>378661 rows × 7 columns</p>\n",
       "</div>"
      ],
      "text/plain": [
       "                ID                 goal              pledged  backers  \\\n",
       "0       1000002330             1,000.00                 0.00        0   \n",
       "1       1000003930            30,000.00             2,421.00       15   \n",
       "2       1000004038            45,000.00               220.00        3   \n",
       "3       1000007540             5,000.00                 1.00        1   \n",
       "4       1000011046            19,500.00             1,283.00       14   \n",
       "...            ...                  ...                  ...      ...   \n",
       "378656   999976400            50,000.00                25.00        1   \n",
       "378657   999977640             1,500.00               155.00        5   \n",
       "378658   999986353            15,000.00                20.00        1   \n",
       "378659   999987933            15,000.00               200.00        6   \n",
       "378660   999988282             2,000.00               524.00       17   \n",
       "\n",
       "                usd pledged     usd_pledged_real        usd_goal_real  \n",
       "0                      0.00                 0.00             1,533.95  \n",
       "1                    100.00             2,421.00            30,000.00  \n",
       "2                    220.00               220.00            45,000.00  \n",
       "3                      1.00                 1.00             5,000.00  \n",
       "4                  1,283.00             1,283.00            19,500.00  \n",
       "...                     ...                  ...                  ...  \n",
       "378656                25.00                25.00            50,000.00  \n",
       "378657               155.00               155.00             1,500.00  \n",
       "378658                20.00                20.00            15,000.00  \n",
       "378659               200.00               200.00            15,000.00  \n",
       "378660               524.00               524.00             2,000.00  \n",
       "\n",
       "[378661 rows x 7 columns]"
      ]
     },
     "execution_count": 363,
     "metadata": {},
     "output_type": "execute_result"
    }
   ],
   "source": [
    "# devuelve solo las columnas de tipo numerico\n",
    "projects.select_dtypes('number')"
   ]
  },
  {
   "cell_type": "code",
   "execution_count": 364,
   "metadata": {
    "slideshow": {
     "slide_type": "subslide"
    }
   },
   "outputs": [
    {
     "data": {
      "text/html": [
       "<div>\n",
       "<style scoped>\n",
       "    .dataframe tbody tr th:only-of-type {\n",
       "        vertical-align: middle;\n",
       "    }\n",
       "\n",
       "    .dataframe tbody tr th {\n",
       "        vertical-align: top;\n",
       "    }\n",
       "\n",
       "    .dataframe thead th {\n",
       "        text-align: right;\n",
       "    }\n",
       "</style>\n",
       "<table border=\"1\" class=\"dataframe\">\n",
       "  <thead>\n",
       "    <tr style=\"text-align: right;\">\n",
       "      <th></th>\n",
       "      <th>category</th>\n",
       "      <th>main_category</th>\n",
       "      <th>country</th>\n",
       "    </tr>\n",
       "  </thead>\n",
       "  <tbody>\n",
       "    <tr>\n",
       "      <td>0</td>\n",
       "      <td>Poetry</td>\n",
       "      <td>Publishing</td>\n",
       "      <td>GB</td>\n",
       "    </tr>\n",
       "    <tr>\n",
       "      <td>1</td>\n",
       "      <td>Narrative Film</td>\n",
       "      <td>Film &amp; Video</td>\n",
       "      <td>US</td>\n",
       "    </tr>\n",
       "    <tr>\n",
       "      <td>2</td>\n",
       "      <td>Narrative Film</td>\n",
       "      <td>Film &amp; Video</td>\n",
       "      <td>US</td>\n",
       "    </tr>\n",
       "    <tr>\n",
       "      <td>3</td>\n",
       "      <td>Music</td>\n",
       "      <td>Music</td>\n",
       "      <td>US</td>\n",
       "    </tr>\n",
       "    <tr>\n",
       "      <td>4</td>\n",
       "      <td>Film &amp; Video</td>\n",
       "      <td>Film &amp; Video</td>\n",
       "      <td>US</td>\n",
       "    </tr>\n",
       "    <tr>\n",
       "      <td>...</td>\n",
       "      <td>...</td>\n",
       "      <td>...</td>\n",
       "      <td>...</td>\n",
       "    </tr>\n",
       "    <tr>\n",
       "      <td>378656</td>\n",
       "      <td>Documentary</td>\n",
       "      <td>Film &amp; Video</td>\n",
       "      <td>US</td>\n",
       "    </tr>\n",
       "    <tr>\n",
       "      <td>378657</td>\n",
       "      <td>Narrative Film</td>\n",
       "      <td>Film &amp; Video</td>\n",
       "      <td>US</td>\n",
       "    </tr>\n",
       "    <tr>\n",
       "      <td>378658</td>\n",
       "      <td>Narrative Film</td>\n",
       "      <td>Film &amp; Video</td>\n",
       "      <td>US</td>\n",
       "    </tr>\n",
       "    <tr>\n",
       "      <td>378659</td>\n",
       "      <td>Technology</td>\n",
       "      <td>Technology</td>\n",
       "      <td>US</td>\n",
       "    </tr>\n",
       "    <tr>\n",
       "      <td>378660</td>\n",
       "      <td>Performance Art</td>\n",
       "      <td>Art</td>\n",
       "      <td>US</td>\n",
       "    </tr>\n",
       "  </tbody>\n",
       "</table>\n",
       "<p>378661 rows × 3 columns</p>\n",
       "</div>"
      ],
      "text/plain": [
       "               category main_category country\n",
       "0                Poetry    Publishing      GB\n",
       "1        Narrative Film  Film & Video      US\n",
       "2        Narrative Film  Film & Video      US\n",
       "3                 Music         Music      US\n",
       "4          Film & Video  Film & Video      US\n",
       "...                 ...           ...     ...\n",
       "378656      Documentary  Film & Video      US\n",
       "378657   Narrative Film  Film & Video      US\n",
       "378658   Narrative Film  Film & Video      US\n",
       "378659       Technology    Technology      US\n",
       "378660  Performance Art           Art      US\n",
       "\n",
       "[378661 rows x 3 columns]"
      ]
     },
     "execution_count": 364,
     "metadata": {},
     "output_type": "execute_result"
    }
   ],
   "source": [
    "# devuelve solo las columnas de tipo categorico que inicializamos en el dataframe\n",
    "projects.select_dtypes('category')"
   ]
  },
  {
   "cell_type": "code",
   "execution_count": 365,
   "metadata": {},
   "outputs": [
    {
     "data": {
      "text/plain": [
       "Film & Video    63585\n",
       "Music           51918\n",
       "Publishing      39874\n",
       "Games           35231\n",
       "Technology      32569\n",
       "Design          30070\n",
       "Art             28153\n",
       "Food            24602\n",
       "Fashion         22816\n",
       "Theater         10913\n",
       "Comics          10819\n",
       "Photography     10779\n",
       "Crafts           8809\n",
       "Journalism       4755\n",
       "Dance            3768\n",
       "Name: main_category, dtype: int64"
      ]
     },
     "execution_count": 365,
     "metadata": {},
     "output_type": "execute_result"
    }
   ],
   "source": [
    "main_categories.value_counts()"
   ]
  },
  {
   "cell_type": "code",
   "execution_count": 366,
   "metadata": {
    "slideshow": {
     "slide_type": "subslide"
    }
   },
   "outputs": [
    {
     "name": "stdout",
     "output_type": "stream",
     "text": [
      "[63585, 51918, 39874, 35231, 32569, 30070, 28153, 24602, 22816, 10913, 10819, 10779, 8809, 4755, 3768]\n",
      "<class 'list'>\n"
     ]
    }
   ],
   "source": [
    "# conversion de pd.Series a python list\n",
    "counts = main_categories.value_counts().tolist()\n",
    "print(counts)\n",
    "print(type(counts))"
   ]
  },
  {
   "cell_type": "code",
   "execution_count": 368,
   "metadata": {},
   "outputs": [
    {
     "data": {
      "text/plain": [
       "Index(['Film & Video', 'Music', 'Publishing', 'Games', 'Technology', 'Design',\n",
       "       'Art', 'Food', 'Fashion', 'Theater', 'Comics', 'Photography', 'Crafts',\n",
       "       'Journalism', 'Dance'],\n",
       "      dtype='object')"
      ]
     },
     "execution_count": 368,
     "metadata": {},
     "output_type": "execute_result"
    }
   ],
   "source": [
    "main_categories.value_counts().index"
   ]
  },
  {
   "cell_type": "code",
   "execution_count": 371,
   "metadata": {
    "slideshow": {
     "slide_type": "subslide"
    }
   },
   "outputs": [
    {
     "data": {
      "text/html": [
       "<div>\n",
       "<style scoped>\n",
       "    .dataframe tbody tr th:only-of-type {\n",
       "        vertical-align: middle;\n",
       "    }\n",
       "\n",
       "    .dataframe tbody tr th {\n",
       "        vertical-align: top;\n",
       "    }\n",
       "\n",
       "    .dataframe thead th {\n",
       "        text-align: right;\n",
       "    }\n",
       "</style>\n",
       "<table border=\"1\" class=\"dataframe\">\n",
       "  <thead>\n",
       "    <tr style=\"text-align: right;\">\n",
       "      <th></th>\n",
       "      <th>main_category</th>\n",
       "    </tr>\n",
       "  </thead>\n",
       "  <tbody>\n",
       "    <tr>\n",
       "      <td>0</td>\n",
       "      <td>Publishing</td>\n",
       "    </tr>\n",
       "    <tr>\n",
       "      <td>1</td>\n",
       "      <td>Film &amp; Video</td>\n",
       "    </tr>\n",
       "    <tr>\n",
       "      <td>2</td>\n",
       "      <td>Film &amp; Video</td>\n",
       "    </tr>\n",
       "    <tr>\n",
       "      <td>3</td>\n",
       "      <td>Music</td>\n",
       "    </tr>\n",
       "    <tr>\n",
       "      <td>4</td>\n",
       "      <td>Film &amp; Video</td>\n",
       "    </tr>\n",
       "    <tr>\n",
       "      <td>...</td>\n",
       "      <td>...</td>\n",
       "    </tr>\n",
       "    <tr>\n",
       "      <td>378656</td>\n",
       "      <td>Film &amp; Video</td>\n",
       "    </tr>\n",
       "    <tr>\n",
       "      <td>378657</td>\n",
       "      <td>Film &amp; Video</td>\n",
       "    </tr>\n",
       "    <tr>\n",
       "      <td>378658</td>\n",
       "      <td>Film &amp; Video</td>\n",
       "    </tr>\n",
       "    <tr>\n",
       "      <td>378659</td>\n",
       "      <td>Technology</td>\n",
       "    </tr>\n",
       "    <tr>\n",
       "      <td>378660</td>\n",
       "      <td>Art</td>\n",
       "    </tr>\n",
       "  </tbody>\n",
       "</table>\n",
       "<p>378661 rows × 1 columns</p>\n",
       "</div>"
      ],
      "text/plain": [
       "       main_category\n",
       "0         Publishing\n",
       "1       Film & Video\n",
       "2       Film & Video\n",
       "3              Music\n",
       "4       Film & Video\n",
       "...              ...\n",
       "378656  Film & Video\n",
       "378657  Film & Video\n",
       "378658  Film & Video\n",
       "378659    Technology\n",
       "378660           Art\n",
       "\n",
       "[378661 rows x 1 columns]"
      ]
     },
     "execution_count": 371,
     "metadata": {},
     "output_type": "execute_result"
    }
   ],
   "source": [
    "# conversion de pd.Series a pd.DataFrame\n",
    "main_categories.to_frame()"
   ]
  },
  {
   "cell_type": "markdown",
   "metadata": {
    "slideshow": {
     "slide_type": "slide"
    }
   },
   "source": [
    "### Verificacion de Calidad de Datos\n",
    "\n",
    "Algunas verificaciones que son utiles para ver la consistencia de los datos, en particular si vienen de una fuente de ese tipo.\n",
    "\n",
    "Podemos verificar las dimensiones del data frame (via ```.shape```), si existen valores nulos (via ```.insnull```) en el mismo y metricas generales de las columnas o features del data frame que podemos analizar via ```.describe```"
   ]
  },
  {
   "cell_type": "code",
   "execution_count": 373,
   "metadata": {
    "slideshow": {
     "slide_type": "subslide"
    }
   },
   "outputs": [
    {
     "data": {
      "text/plain": [
       "ID                   False\n",
       "name                  True\n",
       "category             False\n",
       "main_category        False\n",
       "currency             False\n",
       "deadline             False\n",
       "goal                 False\n",
       "launched             False\n",
       "pledged              False\n",
       "state                False\n",
       "backers              False\n",
       "country              False\n",
       "usd pledged           True\n",
       "usd_pledged_real     False\n",
       "usd_goal_real        False\n",
       "launched_datetime    False\n",
       "year                 False\n",
       "dtype: bool"
      ]
     },
     "execution_count": 373,
     "metadata": {},
     "output_type": "execute_result"
    }
   ],
   "source": [
    "# por ejemplo de la siguiente forma podemos ver los nulos si existen\n",
    "projects_2017.isnull().any()"
   ]
  },
  {
   "cell_type": "code",
   "execution_count": 374,
   "metadata": {
    "slideshow": {
     "slide_type": "subslide"
    }
   },
   "outputs": [
    {
     "data": {
      "text/plain": [
       "ID                      0\n",
       "name                    4\n",
       "category                0\n",
       "main_category           0\n",
       "currency                0\n",
       "deadline                0\n",
       "goal                    0\n",
       "launched                0\n",
       "pledged                 0\n",
       "state                   0\n",
       "backers                 0\n",
       "country                 0\n",
       "usd pledged          3797\n",
       "usd_pledged_real        0\n",
       "usd_goal_real           0\n",
       "launched_datetime       0\n",
       "year                    0\n",
       "dtype: int64"
      ]
     },
     "execution_count": 374,
     "metadata": {},
     "output_type": "execute_result"
    }
   ],
   "source": [
    "projects_2017.isnull().sum()"
   ]
  },
  {
   "cell_type": "markdown",
   "metadata": {
    "slideshow": {
     "slide_type": "subslide"
    }
   },
   "source": [
    "La informacion que podemos considerar en relacion a los nulos nos permite guiarnos sobre la calidad del set de datos que tenemos y casos en los que podemos ver por ejemplo que datos utilizar o no sobre nuestros analisis o si eventualmente tenemos que realizar algun otro tipo de informacion"
   ]
  },
  {
   "cell_type": "code",
   "execution_count": 375,
   "metadata": {
    "slideshow": {
     "slide_type": "subslide"
    }
   },
   "outputs": [
    {
     "data": {
      "text/html": [
       "<div>\n",
       "<style scoped>\n",
       "    .dataframe tbody tr th:only-of-type {\n",
       "        vertical-align: middle;\n",
       "    }\n",
       "\n",
       "    .dataframe tbody tr th {\n",
       "        vertical-align: top;\n",
       "    }\n",
       "\n",
       "    .dataframe thead th {\n",
       "        text-align: right;\n",
       "    }\n",
       "</style>\n",
       "<table border=\"1\" class=\"dataframe\">\n",
       "  <thead>\n",
       "    <tr style=\"text-align: right;\">\n",
       "      <th></th>\n",
       "      <th>ID</th>\n",
       "      <th>goal</th>\n",
       "      <th>pledged</th>\n",
       "      <th>backers</th>\n",
       "      <th>usd pledged</th>\n",
       "      <th>usd_pledged_real</th>\n",
       "      <th>usd_goal_real</th>\n",
       "      <th>year</th>\n",
       "    </tr>\n",
       "  </thead>\n",
       "  <tbody>\n",
       "    <tr>\n",
       "      <td>count</td>\n",
       "      <td>378,661.00</td>\n",
       "      <td>378,661.00</td>\n",
       "      <td>378,661.00</td>\n",
       "      <td>378,661.00</td>\n",
       "      <td>374,864.00</td>\n",
       "      <td>378,661.00</td>\n",
       "      <td>378,661.00</td>\n",
       "      <td>378,661.00</td>\n",
       "    </tr>\n",
       "    <tr>\n",
       "      <td>mean</td>\n",
       "      <td>1,074,731,191.99</td>\n",
       "      <td>49,080.79</td>\n",
       "      <td>9,682.98</td>\n",
       "      <td>105.62</td>\n",
       "      <td>7,036.73</td>\n",
       "      <td>9,058.92</td>\n",
       "      <td>45,454.40</td>\n",
       "      <td>2,014.25</td>\n",
       "    </tr>\n",
       "    <tr>\n",
       "      <td>std</td>\n",
       "      <td>619,086,204.32</td>\n",
       "      <td>1,183,391.26</td>\n",
       "      <td>95,636.01</td>\n",
       "      <td>907.19</td>\n",
       "      <td>78,639.75</td>\n",
       "      <td>90,973.34</td>\n",
       "      <td>1,152,950.06</td>\n",
       "      <td>1.93</td>\n",
       "    </tr>\n",
       "    <tr>\n",
       "      <td>min</td>\n",
       "      <td>5,971.00</td>\n",
       "      <td>0.01</td>\n",
       "      <td>0.00</td>\n",
       "      <td>0.00</td>\n",
       "      <td>0.00</td>\n",
       "      <td>0.00</td>\n",
       "      <td>0.01</td>\n",
       "      <td>1,970.00</td>\n",
       "    </tr>\n",
       "    <tr>\n",
       "      <td>25%</td>\n",
       "      <td>538,263,516.00</td>\n",
       "      <td>2,000.00</td>\n",
       "      <td>30.00</td>\n",
       "      <td>2.00</td>\n",
       "      <td>16.98</td>\n",
       "      <td>31.00</td>\n",
       "      <td>2,000.00</td>\n",
       "      <td>2,013.00</td>\n",
       "    </tr>\n",
       "    <tr>\n",
       "      <td>50%</td>\n",
       "      <td>1,075,275,634.00</td>\n",
       "      <td>5,200.00</td>\n",
       "      <td>620.00</td>\n",
       "      <td>12.00</td>\n",
       "      <td>394.72</td>\n",
       "      <td>624.33</td>\n",
       "      <td>5,500.00</td>\n",
       "      <td>2,014.00</td>\n",
       "    </tr>\n",
       "    <tr>\n",
       "      <td>75%</td>\n",
       "      <td>1,610,148,624.00</td>\n",
       "      <td>16,000.00</td>\n",
       "      <td>4,076.00</td>\n",
       "      <td>56.00</td>\n",
       "      <td>3,034.09</td>\n",
       "      <td>4,050.00</td>\n",
       "      <td>15,500.00</td>\n",
       "      <td>2,016.00</td>\n",
       "    </tr>\n",
       "    <tr>\n",
       "      <td>max</td>\n",
       "      <td>2,147,476,221.00</td>\n",
       "      <td>100,000,000.00</td>\n",
       "      <td>20,338,986.27</td>\n",
       "      <td>219,382.00</td>\n",
       "      <td>20,338,986.27</td>\n",
       "      <td>20,338,986.27</td>\n",
       "      <td>166,361,390.71</td>\n",
       "      <td>2,018.00</td>\n",
       "    </tr>\n",
       "  </tbody>\n",
       "</table>\n",
       "</div>"
      ],
      "text/plain": [
       "                        ID                 goal              pledged  \\\n",
       "count           378,661.00           378,661.00           378,661.00   \n",
       "mean      1,074,731,191.99            49,080.79             9,682.98   \n",
       "std         619,086,204.32         1,183,391.26            95,636.01   \n",
       "min               5,971.00                 0.01                 0.00   \n",
       "25%         538,263,516.00             2,000.00                30.00   \n",
       "50%       1,075,275,634.00             5,200.00               620.00   \n",
       "75%       1,610,148,624.00            16,000.00             4,076.00   \n",
       "max       2,147,476,221.00       100,000,000.00        20,338,986.27   \n",
       "\n",
       "                   backers          usd pledged     usd_pledged_real  \\\n",
       "count           378,661.00           374,864.00           378,661.00   \n",
       "mean                105.62             7,036.73             9,058.92   \n",
       "std                 907.19            78,639.75            90,973.34   \n",
       "min                   0.00                 0.00                 0.00   \n",
       "25%                   2.00                16.98                31.00   \n",
       "50%                  12.00               394.72               624.33   \n",
       "75%                  56.00             3,034.09             4,050.00   \n",
       "max             219,382.00        20,338,986.27        20,338,986.27   \n",
       "\n",
       "             usd_goal_real                 year  \n",
       "count           378,661.00           378,661.00  \n",
       "mean             45,454.40             2,014.25  \n",
       "std           1,152,950.06                 1.93  \n",
       "min                   0.01             1,970.00  \n",
       "25%               2,000.00             2,013.00  \n",
       "50%               5,500.00             2,014.00  \n",
       "75%              15,500.00             2,016.00  \n",
       "max         166,361,390.71             2,018.00  "
      ]
     },
     "execution_count": 375,
     "metadata": {},
     "output_type": "execute_result"
    }
   ],
   "source": [
    "# metricas generales de las columnas o features numericos del data frame que podemos analizar via .describe\n",
    "projects_2017.describe()"
   ]
  },
  {
   "cell_type": "markdown",
   "metadata": {
    "slideshow": {
     "slide_type": "subslide"
    }
   },
   "source": [
    "Para nuestros analisis y considerando los valores de media y desviacion podemos ver que hay una gran dispersion tanto en las columnas de goal, pledged y backers. Esto puede darnos algunos problemas para intentar visualizar esas variables."
   ]
  },
  {
   "cell_type": "code",
   "execution_count": 376,
   "metadata": {
    "slideshow": {
     "slide_type": "skip"
    }
   },
   "outputs": [
    {
     "data": {
      "text/html": [
       "<div>\n",
       "<style scoped>\n",
       "    .dataframe tbody tr th:only-of-type {\n",
       "        vertical-align: middle;\n",
       "    }\n",
       "\n",
       "    .dataframe tbody tr th {\n",
       "        vertical-align: top;\n",
       "    }\n",
       "\n",
       "    .dataframe thead th {\n",
       "        text-align: right;\n",
       "    }\n",
       "</style>\n",
       "<table border=\"1\" class=\"dataframe\">\n",
       "  <thead>\n",
       "    <tr style=\"text-align: right;\">\n",
       "      <th></th>\n",
       "      <th>ID</th>\n",
       "      <th>name</th>\n",
       "      <th>category</th>\n",
       "      <th>main_category</th>\n",
       "      <th>currency</th>\n",
       "      <th>deadline</th>\n",
       "      <th>goal</th>\n",
       "      <th>launched</th>\n",
       "      <th>pledged</th>\n",
       "      <th>state</th>\n",
       "      <th>backers</th>\n",
       "      <th>country</th>\n",
       "      <th>usd pledged</th>\n",
       "      <th>usd_pledged_real</th>\n",
       "      <th>usd_goal_real</th>\n",
       "      <th>launched_datetime</th>\n",
       "      <th>year</th>\n",
       "    </tr>\n",
       "  </thead>\n",
       "  <tbody>\n",
       "    <tr>\n",
       "      <td>count</td>\n",
       "      <td>378,661.00</td>\n",
       "      <td>378657</td>\n",
       "      <td>378661</td>\n",
       "      <td>378661</td>\n",
       "      <td>378661</td>\n",
       "      <td>378661</td>\n",
       "      <td>378,661.00</td>\n",
       "      <td>378661</td>\n",
       "      <td>378,661.00</td>\n",
       "      <td>378661</td>\n",
       "      <td>378,661.00</td>\n",
       "      <td>378661</td>\n",
       "      <td>374,864.00</td>\n",
       "      <td>378,661.00</td>\n",
       "      <td>378,661.00</td>\n",
       "      <td>378661</td>\n",
       "      <td>378,661.00</td>\n",
       "    </tr>\n",
       "    <tr>\n",
       "      <td>unique</td>\n",
       "      <td>nan</td>\n",
       "      <td>375764</td>\n",
       "      <td>159</td>\n",
       "      <td>15</td>\n",
       "      <td>14</td>\n",
       "      <td>3164</td>\n",
       "      <td>nan</td>\n",
       "      <td>378089</td>\n",
       "      <td>nan</td>\n",
       "      <td>6</td>\n",
       "      <td>nan</td>\n",
       "      <td>23</td>\n",
       "      <td>nan</td>\n",
       "      <td>nan</td>\n",
       "      <td>nan</td>\n",
       "      <td>378089</td>\n",
       "      <td>nan</td>\n",
       "    </tr>\n",
       "    <tr>\n",
       "      <td>top</td>\n",
       "      <td>nan</td>\n",
       "      <td>New EP/Music Development</td>\n",
       "      <td>Product Design</td>\n",
       "      <td>Film &amp; Video</td>\n",
       "      <td>USD</td>\n",
       "      <td>2014-08-08</td>\n",
       "      <td>nan</td>\n",
       "      <td>1970-01-01 01:00:00</td>\n",
       "      <td>nan</td>\n",
       "      <td>failed</td>\n",
       "      <td>nan</td>\n",
       "      <td>US</td>\n",
       "      <td>nan</td>\n",
       "      <td>nan</td>\n",
       "      <td>nan</td>\n",
       "      <td>1970-01-01 01:00:00</td>\n",
       "      <td>nan</td>\n",
       "    </tr>\n",
       "    <tr>\n",
       "      <td>freq</td>\n",
       "      <td>nan</td>\n",
       "      <td>41</td>\n",
       "      <td>22314</td>\n",
       "      <td>63585</td>\n",
       "      <td>295365</td>\n",
       "      <td>705</td>\n",
       "      <td>nan</td>\n",
       "      <td>7</td>\n",
       "      <td>nan</td>\n",
       "      <td>197719</td>\n",
       "      <td>nan</td>\n",
       "      <td>292627</td>\n",
       "      <td>nan</td>\n",
       "      <td>nan</td>\n",
       "      <td>nan</td>\n",
       "      <td>7</td>\n",
       "      <td>nan</td>\n",
       "    </tr>\n",
       "    <tr>\n",
       "      <td>first</td>\n",
       "      <td>nan</td>\n",
       "      <td>NaN</td>\n",
       "      <td>NaN</td>\n",
       "      <td>NaN</td>\n",
       "      <td>NaN</td>\n",
       "      <td>NaN</td>\n",
       "      <td>nan</td>\n",
       "      <td>NaN</td>\n",
       "      <td>nan</td>\n",
       "      <td>NaN</td>\n",
       "      <td>nan</td>\n",
       "      <td>NaN</td>\n",
       "      <td>nan</td>\n",
       "      <td>nan</td>\n",
       "      <td>nan</td>\n",
       "      <td>1970-01-01 01:00:00</td>\n",
       "      <td>nan</td>\n",
       "    </tr>\n",
       "    <tr>\n",
       "      <td>last</td>\n",
       "      <td>nan</td>\n",
       "      <td>NaN</td>\n",
       "      <td>NaN</td>\n",
       "      <td>NaN</td>\n",
       "      <td>NaN</td>\n",
       "      <td>NaN</td>\n",
       "      <td>nan</td>\n",
       "      <td>NaN</td>\n",
       "      <td>nan</td>\n",
       "      <td>NaN</td>\n",
       "      <td>nan</td>\n",
       "      <td>NaN</td>\n",
       "      <td>nan</td>\n",
       "      <td>nan</td>\n",
       "      <td>nan</td>\n",
       "      <td>2018-01-02 15:02:31</td>\n",
       "      <td>nan</td>\n",
       "    </tr>\n",
       "    <tr>\n",
       "      <td>mean</td>\n",
       "      <td>1,074,731,191.99</td>\n",
       "      <td>NaN</td>\n",
       "      <td>NaN</td>\n",
       "      <td>NaN</td>\n",
       "      <td>NaN</td>\n",
       "      <td>NaN</td>\n",
       "      <td>49,080.79</td>\n",
       "      <td>NaN</td>\n",
       "      <td>9,682.98</td>\n",
       "      <td>NaN</td>\n",
       "      <td>105.62</td>\n",
       "      <td>NaN</td>\n",
       "      <td>7,036.73</td>\n",
       "      <td>9,058.92</td>\n",
       "      <td>45,454.40</td>\n",
       "      <td>NaN</td>\n",
       "      <td>2,014.25</td>\n",
       "    </tr>\n",
       "    <tr>\n",
       "      <td>std</td>\n",
       "      <td>619,086,204.32</td>\n",
       "      <td>NaN</td>\n",
       "      <td>NaN</td>\n",
       "      <td>NaN</td>\n",
       "      <td>NaN</td>\n",
       "      <td>NaN</td>\n",
       "      <td>1,183,391.26</td>\n",
       "      <td>NaN</td>\n",
       "      <td>95,636.01</td>\n",
       "      <td>NaN</td>\n",
       "      <td>907.19</td>\n",
       "      <td>NaN</td>\n",
       "      <td>78,639.75</td>\n",
       "      <td>90,973.34</td>\n",
       "      <td>1,152,950.06</td>\n",
       "      <td>NaN</td>\n",
       "      <td>1.93</td>\n",
       "    </tr>\n",
       "    <tr>\n",
       "      <td>min</td>\n",
       "      <td>5,971.00</td>\n",
       "      <td>NaN</td>\n",
       "      <td>NaN</td>\n",
       "      <td>NaN</td>\n",
       "      <td>NaN</td>\n",
       "      <td>NaN</td>\n",
       "      <td>0.01</td>\n",
       "      <td>NaN</td>\n",
       "      <td>0.00</td>\n",
       "      <td>NaN</td>\n",
       "      <td>0.00</td>\n",
       "      <td>NaN</td>\n",
       "      <td>0.00</td>\n",
       "      <td>0.00</td>\n",
       "      <td>0.01</td>\n",
       "      <td>NaN</td>\n",
       "      <td>1,970.00</td>\n",
       "    </tr>\n",
       "    <tr>\n",
       "      <td>25%</td>\n",
       "      <td>538,263,516.00</td>\n",
       "      <td>NaN</td>\n",
       "      <td>NaN</td>\n",
       "      <td>NaN</td>\n",
       "      <td>NaN</td>\n",
       "      <td>NaN</td>\n",
       "      <td>2,000.00</td>\n",
       "      <td>NaN</td>\n",
       "      <td>30.00</td>\n",
       "      <td>NaN</td>\n",
       "      <td>2.00</td>\n",
       "      <td>NaN</td>\n",
       "      <td>16.98</td>\n",
       "      <td>31.00</td>\n",
       "      <td>2,000.00</td>\n",
       "      <td>NaN</td>\n",
       "      <td>2,013.00</td>\n",
       "    </tr>\n",
       "    <tr>\n",
       "      <td>50%</td>\n",
       "      <td>1,075,275,634.00</td>\n",
       "      <td>NaN</td>\n",
       "      <td>NaN</td>\n",
       "      <td>NaN</td>\n",
       "      <td>NaN</td>\n",
       "      <td>NaN</td>\n",
       "      <td>5,200.00</td>\n",
       "      <td>NaN</td>\n",
       "      <td>620.00</td>\n",
       "      <td>NaN</td>\n",
       "      <td>12.00</td>\n",
       "      <td>NaN</td>\n",
       "      <td>394.72</td>\n",
       "      <td>624.33</td>\n",
       "      <td>5,500.00</td>\n",
       "      <td>NaN</td>\n",
       "      <td>2,014.00</td>\n",
       "    </tr>\n",
       "    <tr>\n",
       "      <td>75%</td>\n",
       "      <td>1,610,148,624.00</td>\n",
       "      <td>NaN</td>\n",
       "      <td>NaN</td>\n",
       "      <td>NaN</td>\n",
       "      <td>NaN</td>\n",
       "      <td>NaN</td>\n",
       "      <td>16,000.00</td>\n",
       "      <td>NaN</td>\n",
       "      <td>4,076.00</td>\n",
       "      <td>NaN</td>\n",
       "      <td>56.00</td>\n",
       "      <td>NaN</td>\n",
       "      <td>3,034.09</td>\n",
       "      <td>4,050.00</td>\n",
       "      <td>15,500.00</td>\n",
       "      <td>NaN</td>\n",
       "      <td>2,016.00</td>\n",
       "    </tr>\n",
       "    <tr>\n",
       "      <td>max</td>\n",
       "      <td>2,147,476,221.00</td>\n",
       "      <td>NaN</td>\n",
       "      <td>NaN</td>\n",
       "      <td>NaN</td>\n",
       "      <td>NaN</td>\n",
       "      <td>NaN</td>\n",
       "      <td>100,000,000.00</td>\n",
       "      <td>NaN</td>\n",
       "      <td>20,338,986.27</td>\n",
       "      <td>NaN</td>\n",
       "      <td>219,382.00</td>\n",
       "      <td>NaN</td>\n",
       "      <td>20,338,986.27</td>\n",
       "      <td>20,338,986.27</td>\n",
       "      <td>166,361,390.71</td>\n",
       "      <td>NaN</td>\n",
       "      <td>2,018.00</td>\n",
       "    </tr>\n",
       "  </tbody>\n",
       "</table>\n",
       "</div>"
      ],
      "text/plain": [
       "                         ID                      name        category  \\\n",
       "count            378,661.00                    378657          378661   \n",
       "unique                  nan                    375764             159   \n",
       "top                     nan  New EP/Music Development  Product Design   \n",
       "freq                    nan                        41           22314   \n",
       "first                   nan                       NaN             NaN   \n",
       "last                    nan                       NaN             NaN   \n",
       "mean       1,074,731,191.99                       NaN             NaN   \n",
       "std          619,086,204.32                       NaN             NaN   \n",
       "min                5,971.00                       NaN             NaN   \n",
       "25%          538,263,516.00                       NaN             NaN   \n",
       "50%        1,075,275,634.00                       NaN             NaN   \n",
       "75%        1,610,148,624.00                       NaN             NaN   \n",
       "max        2,147,476,221.00                       NaN             NaN   \n",
       "\n",
       "       main_category currency    deadline                 goal  \\\n",
       "count         378661   378661      378661           378,661.00   \n",
       "unique            15       14        3164                  nan   \n",
       "top     Film & Video      USD  2014-08-08                  nan   \n",
       "freq           63585   295365         705                  nan   \n",
       "first            NaN      NaN         NaN                  nan   \n",
       "last             NaN      NaN         NaN                  nan   \n",
       "mean             NaN      NaN         NaN            49,080.79   \n",
       "std              NaN      NaN         NaN         1,183,391.26   \n",
       "min              NaN      NaN         NaN                 0.01   \n",
       "25%              NaN      NaN         NaN             2,000.00   \n",
       "50%              NaN      NaN         NaN             5,200.00   \n",
       "75%              NaN      NaN         NaN            16,000.00   \n",
       "max              NaN      NaN         NaN       100,000,000.00   \n",
       "\n",
       "                   launched              pledged   state              backers  \\\n",
       "count                378661           378,661.00  378661           378,661.00   \n",
       "unique               378089                  nan       6                  nan   \n",
       "top     1970-01-01 01:00:00                  nan  failed                  nan   \n",
       "freq                      7                  nan  197719                  nan   \n",
       "first                   NaN                  nan     NaN                  nan   \n",
       "last                    NaN                  nan     NaN                  nan   \n",
       "mean                    NaN             9,682.98     NaN               105.62   \n",
       "std                     NaN            95,636.01     NaN               907.19   \n",
       "min                     NaN                 0.00     NaN                 0.00   \n",
       "25%                     NaN                30.00     NaN                 2.00   \n",
       "50%                     NaN               620.00     NaN                12.00   \n",
       "75%                     NaN             4,076.00     NaN                56.00   \n",
       "max                     NaN        20,338,986.27     NaN           219,382.00   \n",
       "\n",
       "       country          usd pledged     usd_pledged_real        usd_goal_real  \\\n",
       "count   378661           374,864.00           378,661.00           378,661.00   \n",
       "unique      23                  nan                  nan                  nan   \n",
       "top         US                  nan                  nan                  nan   \n",
       "freq    292627                  nan                  nan                  nan   \n",
       "first      NaN                  nan                  nan                  nan   \n",
       "last       NaN                  nan                  nan                  nan   \n",
       "mean       NaN             7,036.73             9,058.92            45,454.40   \n",
       "std        NaN            78,639.75            90,973.34         1,152,950.06   \n",
       "min        NaN                 0.00                 0.00                 0.01   \n",
       "25%        NaN                16.98                31.00             2,000.00   \n",
       "50%        NaN               394.72               624.33             5,500.00   \n",
       "75%        NaN             3,034.09             4,050.00            15,500.00   \n",
       "max        NaN        20,338,986.27        20,338,986.27       166,361,390.71   \n",
       "\n",
       "          launched_datetime                 year  \n",
       "count                378661           378,661.00  \n",
       "unique               378089                  nan  \n",
       "top     1970-01-01 01:00:00                  nan  \n",
       "freq                      7                  nan  \n",
       "first   1970-01-01 01:00:00                  nan  \n",
       "last    2018-01-02 15:02:31                  nan  \n",
       "mean                    NaN             2,014.25  \n",
       "std                     NaN                 1.93  \n",
       "min                     NaN             1,970.00  \n",
       "25%                     NaN             2,013.00  \n",
       "50%                     NaN             2,014.00  \n",
       "75%                     NaN             2,016.00  \n",
       "max                     NaN             2,018.00  "
      ]
     },
     "execution_count": 376,
     "metadata": {},
     "output_type": "execute_result"
    }
   ],
   "source": [
    "# para visualizar toda la informacion\n",
    "projects_2017.describe(include='all')"
   ]
  },
  {
   "cell_type": "code",
   "execution_count": 377,
   "metadata": {
    "slideshow": {
     "slide_type": "skip"
    }
   },
   "outputs": [],
   "source": [
    "#projects_2017['country'].value_counts()\n",
    "projects_2017 = projects_2017[projects_2017['country'] == 'US']"
   ]
  },
  {
   "cell_type": "code",
   "execution_count": 378,
   "metadata": {
    "slideshow": {
     "slide_type": "skip"
    }
   },
   "outputs": [
    {
     "data": {
      "text/plain": [
       "USD    292627\n",
       "Name: currency, dtype: int64"
      ]
     },
     "execution_count": 378,
     "metadata": {},
     "output_type": "execute_result"
    }
   ],
   "source": [
    "projects_2017['currency'].value_counts()"
   ]
  },
  {
   "cell_type": "markdown",
   "metadata": {
    "slideshow": {
     "slide_type": "slide"
    }
   },
   "source": [
    "### Manejo de valores nulos"
   ]
  },
  {
   "cell_type": "code",
   "execution_count": 379,
   "metadata": {
    "slideshow": {
     "slide_type": "subslide"
    }
   },
   "outputs": [
    {
     "data": {
      "text/plain": [
       "ID                   False\n",
       "name                  True\n",
       "category             False\n",
       "main_category        False\n",
       "currency             False\n",
       "deadline             False\n",
       "goal                 False\n",
       "launched             False\n",
       "pledged              False\n",
       "state                False\n",
       "backers              False\n",
       "country              False\n",
       "usd pledged          False\n",
       "usd_pledged_real     False\n",
       "usd_goal_real        False\n",
       "launched_datetime    False\n",
       "year                 False\n",
       "dtype: bool"
      ]
     },
     "execution_count": 379,
     "metadata": {},
     "output_type": "execute_result"
    }
   ],
   "source": [
    "projects_2017.isnull().any()"
   ]
  },
  {
   "cell_type": "code",
   "execution_count": 384,
   "metadata": {
    "slideshow": {
     "slide_type": "subslide"
    }
   },
   "outputs": [
    {
     "data": {
      "text/plain": [
       "ID                   False\n",
       "name                 False\n",
       "category             False\n",
       "main_category        False\n",
       "currency             False\n",
       "deadline             False\n",
       "goal                 False\n",
       "launched             False\n",
       "pledged              False\n",
       "state                False\n",
       "backers              False\n",
       "country              False\n",
       "usd pledged          False\n",
       "usd_pledged_real     False\n",
       "usd_goal_real        False\n",
       "launched_datetime    False\n",
       "year                 False\n",
       "dtype: bool"
      ]
     },
     "execution_count": 384,
     "metadata": {},
     "output_type": "execute_result"
    }
   ],
   "source": [
    "# podemos eliminar aquellos proyectos que tienen informacion de nula en su nombre\n",
    "# tener en cuenta que es necesario hacer un inplace=True para que modifique el dataframe original\n",
    "projects_2017.dropna(subset=['name']).isnull().any()"
   ]
  },
  {
   "cell_type": "code",
   "execution_count": 385,
   "metadata": {
    "slideshow": {
     "slide_type": "subslide"
    }
   },
   "outputs": [
    {
     "data": {
      "text/plain": [
       "ID                   False\n",
       "name                  True\n",
       "category             False\n",
       "main_category        False\n",
       "currency             False\n",
       "deadline             False\n",
       "goal                 False\n",
       "launched             False\n",
       "pledged              False\n",
       "state                False\n",
       "backers              False\n",
       "country              False\n",
       "usd pledged          False\n",
       "usd_pledged_real     False\n",
       "usd_goal_real        False\n",
       "launched_datetime    False\n",
       "year                 False\n",
       "dtype: bool"
      ]
     },
     "execution_count": 385,
     "metadata": {},
     "output_type": "execute_result"
    }
   ],
   "source": [
    "# podemos especificamente reemplazar esos valores por un valor especifico\n",
    "# en este caso indicamos para que columna queremos hacer el reemplazo\n",
    "# tener en cuenta que se puede realizar tambien inplace en el dataframe\n",
    "projects_2017.fillna(value={'usd pledged': 0}).isnull().any()"
   ]
  },
  {
   "cell_type": "markdown",
   "metadata": {
    "slideshow": {
     "slide_type": "slide"
    }
   },
   "source": [
    "## Manipulando el Data Frame\n",
    "\n",
    "En la siguiente seccion, trabajaremos con este data frame para poder incorporar algunos conceptos y herramientas que pueden sernos de utilidad en nuestro analisis exploratorio."
   ]
  },
  {
   "cell_type": "code",
   "execution_count": 398,
   "metadata": {},
   "outputs": [],
   "source": [
    "projects_2017 = pd.read_csv('../data/kickstarter-projects/ks-projects-201801.csv')\n",
    "# generamos nuevas columnas seteando el tipo datetime\n",
    "projects_2017['launched_datetime'] = pd.to_datetime(projects_2017['launched'])\n",
    "# generamos una nueva columna obteniendo el año, esto los usuaremos en visualizacion.\n",
    "projects_2017['year'] = projects_2017['launched_datetime'].dt.year\n",
    "projects_2017 = projects_2017[projects_2017['country'] == 'US']"
   ]
  },
  {
   "cell_type": "markdown",
   "metadata": {
    "slideshow": {
     "slide_type": "subslide"
    }
   },
   "source": [
    "### Anatomia de un Data Frame"
   ]
  },
  {
   "cell_type": "markdown",
   "metadata": {
    "slideshow": {
     "slide_type": "subslide"
    }
   },
   "source": [
    "![title](img/anatomy_df.png)"
   ]
  },
  {
   "cell_type": "markdown",
   "metadata": {
    "slideshow": {
     "slide_type": "subslide"
    }
   },
   "source": [
    "### Manejo de Indices\n",
    "\n",
    "- Proveen un label para cada una de las filas en el DataFrame\n",
    "- Si un indice no se encuentra indicado explicitamente, un RangeIndex es creado por default con label comenzando en 0.\n",
    "\n",
    "Dado nuestro DataFrame, podemos evaluar el indice actualmente que tiene de la siguiente forma"
   ]
  },
  {
   "cell_type": "code",
   "execution_count": 399,
   "metadata": {
    "slideshow": {
     "slide_type": "subslide"
    }
   },
   "outputs": [
    {
     "data": {
      "text/plain": [
       "Int64Index([     1,      2,      3,      4,      5,      6,      7,      8,\n",
       "                 9,     11,\n",
       "            ...\n",
       "            378648, 378649, 378650, 378653, 378654, 378656, 378657, 378658,\n",
       "            378659, 378660],\n",
       "           dtype='int64', length=292627)"
      ]
     },
     "execution_count": 399,
     "metadata": {},
     "output_type": "execute_result"
    }
   ],
   "source": [
    "projects_2017.index"
   ]
  },
  {
   "cell_type": "code",
   "execution_count": 400,
   "metadata": {
    "slideshow": {
     "slide_type": "subslide"
    }
   },
   "outputs": [
    {
     "data": {
      "text/plain": [
       "pandas.core.indexes.numeric.Int64Index"
      ]
     },
     "execution_count": 400,
     "metadata": {},
     "output_type": "execute_result"
    }
   ],
   "source": [
    "type(projects_2017.index) # en este caso a tomado inicialmente el indice del campo ID del csv."
   ]
  },
  {
   "cell_type": "code",
   "execution_count": 401,
   "metadata": {
    "slideshow": {
     "slide_type": "subslide"
    }
   },
   "outputs": [
    {
     "name": "stdout",
     "output_type": "stream",
     "text": [
      "<class 'pandas.core.frame.DataFrame'>\n",
      "Int64Index: 292627 entries, 1 to 378660\n",
      "Data columns (total 17 columns):\n",
      "ID                   292627 non-null int64\n",
      "name                 292624 non-null object\n",
      "category             292627 non-null object\n",
      "main_category        292627 non-null object\n",
      "currency             292627 non-null object\n",
      "deadline             292627 non-null object\n",
      "goal                 292627 non-null float64\n",
      "launched             292627 non-null object\n",
      "pledged              292627 non-null float64\n",
      "state                292627 non-null object\n",
      "backers              292627 non-null int64\n",
      "country              292627 non-null object\n",
      "usd pledged          292627 non-null float64\n",
      "usd_pledged_real     292627 non-null float64\n",
      "usd_goal_real        292627 non-null float64\n",
      "launched_datetime    292627 non-null datetime64[ns]\n",
      "year                 292627 non-null int64\n",
      "dtypes: datetime64[ns](1), float64(5), int64(3), object(8)\n",
      "memory usage: 40.2+ MB\n"
     ]
    }
   ],
   "source": [
    "projects_2017.info(memory_usage=True)"
   ]
  },
  {
   "cell_type": "markdown",
   "metadata": {
    "slideshow": {
     "slide_type": "subslide"
    }
   },
   "source": [
    "#### Eliminando el indice\n",
    "\n",
    "Para poder eliminar un indice especifico que tiene el DataFrame podemos utilizar el metodo ```reset_index```"
   ]
  },
  {
   "cell_type": "code",
   "execution_count": 402,
   "metadata": {
    "slideshow": {
     "slide_type": "subslide"
    }
   },
   "outputs": [],
   "source": [
    "# en este caso si elimino el indice\n",
    "projects_2017.reset_index(inplace=True) #notar que si queremos hacerlo sobre el mismo DataFrame tenemos que usar"
   ]
  },
  {
   "cell_type": "code",
   "execution_count": 403,
   "metadata": {
    "slideshow": {
     "slide_type": "subslide"
    }
   },
   "outputs": [
    {
     "data": {
      "text/plain": [
       "RangeIndex(start=0, stop=292627, step=1)"
      ]
     },
     "execution_count": 403,
     "metadata": {},
     "output_type": "execute_result"
    }
   ],
   "source": [
    "# obtengo el indice por default de un DataFrame en pandas, RangeIndex\n",
    "projects_2017.index"
   ]
  },
  {
   "cell_type": "markdown",
   "metadata": {
    "slideshow": {
     "slide_type": "subslide"
    }
   },
   "source": [
    "Una caracteristica deseable de un indice es que el mismo nos permita identificar a cada una de las filas y en ese sentido el RangeIndex por default no es muy util. Hace sentido utilizar un campo que pueda identificar cada fila, por ejemplo ```ID``` o ```name```."
   ]
  },
  {
   "cell_type": "code",
   "execution_count": 404,
   "metadata": {
    "slideshow": {
     "slide_type": "subslide"
    }
   },
   "outputs": [
    {
     "data": {
      "text/html": [
       "<div>\n",
       "<style scoped>\n",
       "    .dataframe tbody tr th:only-of-type {\n",
       "        vertical-align: middle;\n",
       "    }\n",
       "\n",
       "    .dataframe tbody tr th {\n",
       "        vertical-align: top;\n",
       "    }\n",
       "\n",
       "    .dataframe thead th {\n",
       "        text-align: right;\n",
       "    }\n",
       "</style>\n",
       "<table border=\"1\" class=\"dataframe\">\n",
       "  <thead>\n",
       "    <tr style=\"text-align: right;\">\n",
       "      <th></th>\n",
       "      <th>index</th>\n",
       "      <th>ID</th>\n",
       "      <th>name</th>\n",
       "      <th>category</th>\n",
       "      <th>main_category</th>\n",
       "      <th>currency</th>\n",
       "      <th>deadline</th>\n",
       "      <th>goal</th>\n",
       "      <th>launched</th>\n",
       "      <th>pledged</th>\n",
       "      <th>state</th>\n",
       "      <th>backers</th>\n",
       "      <th>country</th>\n",
       "      <th>usd pledged</th>\n",
       "      <th>usd_pledged_real</th>\n",
       "      <th>usd_goal_real</th>\n",
       "      <th>launched_datetime</th>\n",
       "      <th>year</th>\n",
       "    </tr>\n",
       "  </thead>\n",
       "  <tbody>\n",
       "    <tr>\n",
       "      <td>0</td>\n",
       "      <td>1</td>\n",
       "      <td>1000003930</td>\n",
       "      <td>Greeting From Earth: ZGAC Arts Capsule For ET</td>\n",
       "      <td>Narrative Film</td>\n",
       "      <td>Film &amp; Video</td>\n",
       "      <td>USD</td>\n",
       "      <td>2017-11-01</td>\n",
       "      <td>30,000.00</td>\n",
       "      <td>2017-09-02 04:43:57</td>\n",
       "      <td>2,421.00</td>\n",
       "      <td>failed</td>\n",
       "      <td>15</td>\n",
       "      <td>US</td>\n",
       "      <td>100.00</td>\n",
       "      <td>2,421.00</td>\n",
       "      <td>30,000.00</td>\n",
       "      <td>2017-09-02 04:43:57</td>\n",
       "      <td>2017</td>\n",
       "    </tr>\n",
       "    <tr>\n",
       "      <td>1</td>\n",
       "      <td>2</td>\n",
       "      <td>1000004038</td>\n",
       "      <td>Where is Hank?</td>\n",
       "      <td>Narrative Film</td>\n",
       "      <td>Film &amp; Video</td>\n",
       "      <td>USD</td>\n",
       "      <td>2013-02-26</td>\n",
       "      <td>45,000.00</td>\n",
       "      <td>2013-01-12 00:20:50</td>\n",
       "      <td>220.00</td>\n",
       "      <td>failed</td>\n",
       "      <td>3</td>\n",
       "      <td>US</td>\n",
       "      <td>220.00</td>\n",
       "      <td>220.00</td>\n",
       "      <td>45,000.00</td>\n",
       "      <td>2013-01-12 00:20:50</td>\n",
       "      <td>2013</td>\n",
       "    </tr>\n",
       "    <tr>\n",
       "      <td>2</td>\n",
       "      <td>3</td>\n",
       "      <td>1000007540</td>\n",
       "      <td>ToshiCapital Rekordz Needs Help to Complete Album</td>\n",
       "      <td>Music</td>\n",
       "      <td>Music</td>\n",
       "      <td>USD</td>\n",
       "      <td>2012-04-16</td>\n",
       "      <td>5,000.00</td>\n",
       "      <td>2012-03-17 03:24:11</td>\n",
       "      <td>1.00</td>\n",
       "      <td>failed</td>\n",
       "      <td>1</td>\n",
       "      <td>US</td>\n",
       "      <td>1.00</td>\n",
       "      <td>1.00</td>\n",
       "      <td>5,000.00</td>\n",
       "      <td>2012-03-17 03:24:11</td>\n",
       "      <td>2012</td>\n",
       "    </tr>\n",
       "    <tr>\n",
       "      <td>3</td>\n",
       "      <td>4</td>\n",
       "      <td>1000011046</td>\n",
       "      <td>Community Film Project: The Art of Neighborhoo...</td>\n",
       "      <td>Film &amp; Video</td>\n",
       "      <td>Film &amp; Video</td>\n",
       "      <td>USD</td>\n",
       "      <td>2015-08-29</td>\n",
       "      <td>19,500.00</td>\n",
       "      <td>2015-07-04 08:35:03</td>\n",
       "      <td>1,283.00</td>\n",
       "      <td>canceled</td>\n",
       "      <td>14</td>\n",
       "      <td>US</td>\n",
       "      <td>1,283.00</td>\n",
       "      <td>1,283.00</td>\n",
       "      <td>19,500.00</td>\n",
       "      <td>2015-07-04 08:35:03</td>\n",
       "      <td>2015</td>\n",
       "    </tr>\n",
       "    <tr>\n",
       "      <td>4</td>\n",
       "      <td>5</td>\n",
       "      <td>1000014025</td>\n",
       "      <td>Monarch Espresso Bar</td>\n",
       "      <td>Restaurants</td>\n",
       "      <td>Food</td>\n",
       "      <td>USD</td>\n",
       "      <td>2016-04-01</td>\n",
       "      <td>50,000.00</td>\n",
       "      <td>2016-02-26 13:38:27</td>\n",
       "      <td>52,375.00</td>\n",
       "      <td>successful</td>\n",
       "      <td>224</td>\n",
       "      <td>US</td>\n",
       "      <td>52,375.00</td>\n",
       "      <td>52,375.00</td>\n",
       "      <td>50,000.00</td>\n",
       "      <td>2016-02-26 13:38:27</td>\n",
       "      <td>2016</td>\n",
       "    </tr>\n",
       "    <tr>\n",
       "      <td>...</td>\n",
       "      <td>...</td>\n",
       "      <td>...</td>\n",
       "      <td>...</td>\n",
       "      <td>...</td>\n",
       "      <td>...</td>\n",
       "      <td>...</td>\n",
       "      <td>...</td>\n",
       "      <td>...</td>\n",
       "      <td>...</td>\n",
       "      <td>...</td>\n",
       "      <td>...</td>\n",
       "      <td>...</td>\n",
       "      <td>...</td>\n",
       "      <td>...</td>\n",
       "      <td>...</td>\n",
       "      <td>...</td>\n",
       "      <td>...</td>\n",
       "      <td>...</td>\n",
       "    </tr>\n",
       "    <tr>\n",
       "      <td>292622</td>\n",
       "      <td>378656</td>\n",
       "      <td>999976400</td>\n",
       "      <td>ChknTruk Nationwide Charity Drive 2014 (Canceled)</td>\n",
       "      <td>Documentary</td>\n",
       "      <td>Film &amp; Video</td>\n",
       "      <td>USD</td>\n",
       "      <td>2014-10-17</td>\n",
       "      <td>50,000.00</td>\n",
       "      <td>2014-09-17 02:35:30</td>\n",
       "      <td>25.00</td>\n",
       "      <td>canceled</td>\n",
       "      <td>1</td>\n",
       "      <td>US</td>\n",
       "      <td>25.00</td>\n",
       "      <td>25.00</td>\n",
       "      <td>50,000.00</td>\n",
       "      <td>2014-09-17 02:35:30</td>\n",
       "      <td>2014</td>\n",
       "    </tr>\n",
       "    <tr>\n",
       "      <td>292623</td>\n",
       "      <td>378657</td>\n",
       "      <td>999977640</td>\n",
       "      <td>The Tribe</td>\n",
       "      <td>Narrative Film</td>\n",
       "      <td>Film &amp; Video</td>\n",
       "      <td>USD</td>\n",
       "      <td>2011-07-19</td>\n",
       "      <td>1,500.00</td>\n",
       "      <td>2011-06-22 03:35:14</td>\n",
       "      <td>155.00</td>\n",
       "      <td>failed</td>\n",
       "      <td>5</td>\n",
       "      <td>US</td>\n",
       "      <td>155.00</td>\n",
       "      <td>155.00</td>\n",
       "      <td>1,500.00</td>\n",
       "      <td>2011-06-22 03:35:14</td>\n",
       "      <td>2011</td>\n",
       "    </tr>\n",
       "    <tr>\n",
       "      <td>292624</td>\n",
       "      <td>378658</td>\n",
       "      <td>999986353</td>\n",
       "      <td>Walls of Remedy- New lesbian Romantic Comedy f...</td>\n",
       "      <td>Narrative Film</td>\n",
       "      <td>Film &amp; Video</td>\n",
       "      <td>USD</td>\n",
       "      <td>2010-08-16</td>\n",
       "      <td>15,000.00</td>\n",
       "      <td>2010-07-01 19:40:30</td>\n",
       "      <td>20.00</td>\n",
       "      <td>failed</td>\n",
       "      <td>1</td>\n",
       "      <td>US</td>\n",
       "      <td>20.00</td>\n",
       "      <td>20.00</td>\n",
       "      <td>15,000.00</td>\n",
       "      <td>2010-07-01 19:40:30</td>\n",
       "      <td>2010</td>\n",
       "    </tr>\n",
       "    <tr>\n",
       "      <td>292625</td>\n",
       "      <td>378659</td>\n",
       "      <td>999987933</td>\n",
       "      <td>BioDefense Education Kit</td>\n",
       "      <td>Technology</td>\n",
       "      <td>Technology</td>\n",
       "      <td>USD</td>\n",
       "      <td>2016-02-13</td>\n",
       "      <td>15,000.00</td>\n",
       "      <td>2016-01-13 18:13:53</td>\n",
       "      <td>200.00</td>\n",
       "      <td>failed</td>\n",
       "      <td>6</td>\n",
       "      <td>US</td>\n",
       "      <td>200.00</td>\n",
       "      <td>200.00</td>\n",
       "      <td>15,000.00</td>\n",
       "      <td>2016-01-13 18:13:53</td>\n",
       "      <td>2016</td>\n",
       "    </tr>\n",
       "    <tr>\n",
       "      <td>292626</td>\n",
       "      <td>378660</td>\n",
       "      <td>999988282</td>\n",
       "      <td>Nou Renmen Ayiti!  We Love Haiti!</td>\n",
       "      <td>Performance Art</td>\n",
       "      <td>Art</td>\n",
       "      <td>USD</td>\n",
       "      <td>2011-08-16</td>\n",
       "      <td>2,000.00</td>\n",
       "      <td>2011-07-19 09:07:47</td>\n",
       "      <td>524.00</td>\n",
       "      <td>failed</td>\n",
       "      <td>17</td>\n",
       "      <td>US</td>\n",
       "      <td>524.00</td>\n",
       "      <td>524.00</td>\n",
       "      <td>2,000.00</td>\n",
       "      <td>2011-07-19 09:07:47</td>\n",
       "      <td>2011</td>\n",
       "    </tr>\n",
       "  </tbody>\n",
       "</table>\n",
       "<p>292627 rows × 18 columns</p>\n",
       "</div>"
      ],
      "text/plain": [
       "         index          ID                                               name  \\\n",
       "0            1  1000003930      Greeting From Earth: ZGAC Arts Capsule For ET   \n",
       "1            2  1000004038                                     Where is Hank?   \n",
       "2            3  1000007540  ToshiCapital Rekordz Needs Help to Complete Album   \n",
       "3            4  1000011046  Community Film Project: The Art of Neighborhoo...   \n",
       "4            5  1000014025                               Monarch Espresso Bar   \n",
       "...        ...         ...                                                ...   \n",
       "292622  378656   999976400  ChknTruk Nationwide Charity Drive 2014 (Canceled)   \n",
       "292623  378657   999977640                                          The Tribe   \n",
       "292624  378658   999986353  Walls of Remedy- New lesbian Romantic Comedy f...   \n",
       "292625  378659   999987933                           BioDefense Education Kit   \n",
       "292626  378660   999988282                  Nou Renmen Ayiti!  We Love Haiti!   \n",
       "\n",
       "               category main_category currency    deadline  \\\n",
       "0        Narrative Film  Film & Video      USD  2017-11-01   \n",
       "1        Narrative Film  Film & Video      USD  2013-02-26   \n",
       "2                 Music         Music      USD  2012-04-16   \n",
       "3          Film & Video  Film & Video      USD  2015-08-29   \n",
       "4           Restaurants          Food      USD  2016-04-01   \n",
       "...                 ...           ...      ...         ...   \n",
       "292622      Documentary  Film & Video      USD  2014-10-17   \n",
       "292623   Narrative Film  Film & Video      USD  2011-07-19   \n",
       "292624   Narrative Film  Film & Video      USD  2010-08-16   \n",
       "292625       Technology    Technology      USD  2016-02-13   \n",
       "292626  Performance Art           Art      USD  2011-08-16   \n",
       "\n",
       "                       goal             launched              pledged  \\\n",
       "0                 30,000.00  2017-09-02 04:43:57             2,421.00   \n",
       "1                 45,000.00  2013-01-12 00:20:50               220.00   \n",
       "2                  5,000.00  2012-03-17 03:24:11                 1.00   \n",
       "3                 19,500.00  2015-07-04 08:35:03             1,283.00   \n",
       "4                 50,000.00  2016-02-26 13:38:27            52,375.00   \n",
       "...                     ...                  ...                  ...   \n",
       "292622            50,000.00  2014-09-17 02:35:30                25.00   \n",
       "292623             1,500.00  2011-06-22 03:35:14               155.00   \n",
       "292624            15,000.00  2010-07-01 19:40:30                20.00   \n",
       "292625            15,000.00  2016-01-13 18:13:53               200.00   \n",
       "292626             2,000.00  2011-07-19 09:07:47               524.00   \n",
       "\n",
       "             state  backers country          usd pledged     usd_pledged_real  \\\n",
       "0           failed       15      US               100.00             2,421.00   \n",
       "1           failed        3      US               220.00               220.00   \n",
       "2           failed        1      US                 1.00                 1.00   \n",
       "3         canceled       14      US             1,283.00             1,283.00   \n",
       "4       successful      224      US            52,375.00            52,375.00   \n",
       "...            ...      ...     ...                  ...                  ...   \n",
       "292622    canceled        1      US                25.00                25.00   \n",
       "292623      failed        5      US               155.00               155.00   \n",
       "292624      failed        1      US                20.00                20.00   \n",
       "292625      failed        6      US               200.00               200.00   \n",
       "292626      failed       17      US               524.00               524.00   \n",
       "\n",
       "              usd_goal_real   launched_datetime  year  \n",
       "0                 30,000.00 2017-09-02 04:43:57  2017  \n",
       "1                 45,000.00 2013-01-12 00:20:50  2013  \n",
       "2                  5,000.00 2012-03-17 03:24:11  2012  \n",
       "3                 19,500.00 2015-07-04 08:35:03  2015  \n",
       "4                 50,000.00 2016-02-26 13:38:27  2016  \n",
       "...                     ...                 ...   ...  \n",
       "292622            50,000.00 2014-09-17 02:35:30  2014  \n",
       "292623             1,500.00 2011-06-22 03:35:14  2011  \n",
       "292624            15,000.00 2010-07-01 19:40:30  2010  \n",
       "292625            15,000.00 2016-01-13 18:13:53  2016  \n",
       "292626             2,000.00 2011-07-19 09:07:47  2011  \n",
       "\n",
       "[292627 rows x 18 columns]"
      ]
     },
     "execution_count": 404,
     "metadata": {},
     "output_type": "execute_result"
    }
   ],
   "source": [
    "projects_2017"
   ]
  },
  {
   "cell_type": "markdown",
   "metadata": {
    "slideshow": {
     "slide_type": "subslide"
    }
   },
   "source": [
    "#### Creando un Indice\n",
    "\n",
    "Lo realizamos mediante el metodo ```set_index```.\n",
    "\n",
    "Tambien se puede hacer esto en lectura del archivo via ```read_csv``` indicando el indice con el parametro ```index_col```."
   ]
  },
  {
   "cell_type": "code",
   "execution_count": 405,
   "metadata": {
    "slideshow": {
     "slide_type": "subslide"
    }
   },
   "outputs": [],
   "source": [
    "projects_2017.set_index('ID', inplace=True) \n",
    "# tambien se puede indicar al cargar el data frame usando el parametro index_col\n",
    "# si no se quiere que se elimine la columna ID, usar parametro drop=False"
   ]
  },
  {
   "cell_type": "code",
   "execution_count": 406,
   "metadata": {
    "slideshow": {
     "slide_type": "subslide"
    }
   },
   "outputs": [
    {
     "data": {
      "text/plain": [
       "Int64Index([1000003930, 1000004038, 1000007540, 1000011046, 1000014025,\n",
       "            1000023410, 1000030581, 1000034518,  100004195,  100005484,\n",
       "            ...\n",
       "             999955533,  999963618,   99996661,  999972264,  999975836,\n",
       "             999976400,  999977640,  999986353,  999987933,  999988282],\n",
       "           dtype='int64', name='ID', length=292627)"
      ]
     },
     "execution_count": 406,
     "metadata": {},
     "output_type": "execute_result"
    }
   ],
   "source": [
    "# volvemos al indice que obtuvimos en carga\n",
    "projects_2017.index"
   ]
  },
  {
   "cell_type": "code",
   "execution_count": 407,
   "metadata": {},
   "outputs": [
    {
     "data": {
      "text/html": [
       "<div>\n",
       "<style scoped>\n",
       "    .dataframe tbody tr th:only-of-type {\n",
       "        vertical-align: middle;\n",
       "    }\n",
       "\n",
       "    .dataframe tbody tr th {\n",
       "        vertical-align: top;\n",
       "    }\n",
       "\n",
       "    .dataframe thead th {\n",
       "        text-align: right;\n",
       "    }\n",
       "</style>\n",
       "<table border=\"1\" class=\"dataframe\">\n",
       "  <thead>\n",
       "    <tr style=\"text-align: right;\">\n",
       "      <th></th>\n",
       "      <th>index</th>\n",
       "      <th>name</th>\n",
       "      <th>category</th>\n",
       "      <th>main_category</th>\n",
       "      <th>currency</th>\n",
       "      <th>deadline</th>\n",
       "      <th>goal</th>\n",
       "      <th>launched</th>\n",
       "      <th>pledged</th>\n",
       "      <th>state</th>\n",
       "      <th>backers</th>\n",
       "      <th>country</th>\n",
       "      <th>usd pledged</th>\n",
       "      <th>usd_pledged_real</th>\n",
       "      <th>usd_goal_real</th>\n",
       "      <th>launched_datetime</th>\n",
       "      <th>year</th>\n",
       "    </tr>\n",
       "    <tr>\n",
       "      <th>ID</th>\n",
       "      <th></th>\n",
       "      <th></th>\n",
       "      <th></th>\n",
       "      <th></th>\n",
       "      <th></th>\n",
       "      <th></th>\n",
       "      <th></th>\n",
       "      <th></th>\n",
       "      <th></th>\n",
       "      <th></th>\n",
       "      <th></th>\n",
       "      <th></th>\n",
       "      <th></th>\n",
       "      <th></th>\n",
       "      <th></th>\n",
       "      <th></th>\n",
       "      <th></th>\n",
       "    </tr>\n",
       "  </thead>\n",
       "  <tbody>\n",
       "    <tr>\n",
       "      <td>1000003930</td>\n",
       "      <td>1</td>\n",
       "      <td>Greeting From Earth: ZGAC Arts Capsule For ET</td>\n",
       "      <td>Narrative Film</td>\n",
       "      <td>Film &amp; Video</td>\n",
       "      <td>USD</td>\n",
       "      <td>2017-11-01</td>\n",
       "      <td>30,000.00</td>\n",
       "      <td>2017-09-02 04:43:57</td>\n",
       "      <td>2,421.00</td>\n",
       "      <td>failed</td>\n",
       "      <td>15</td>\n",
       "      <td>US</td>\n",
       "      <td>100.00</td>\n",
       "      <td>2,421.00</td>\n",
       "      <td>30,000.00</td>\n",
       "      <td>2017-09-02 04:43:57</td>\n",
       "      <td>2017</td>\n",
       "    </tr>\n",
       "    <tr>\n",
       "      <td>1000004038</td>\n",
       "      <td>2</td>\n",
       "      <td>Where is Hank?</td>\n",
       "      <td>Narrative Film</td>\n",
       "      <td>Film &amp; Video</td>\n",
       "      <td>USD</td>\n",
       "      <td>2013-02-26</td>\n",
       "      <td>45,000.00</td>\n",
       "      <td>2013-01-12 00:20:50</td>\n",
       "      <td>220.00</td>\n",
       "      <td>failed</td>\n",
       "      <td>3</td>\n",
       "      <td>US</td>\n",
       "      <td>220.00</td>\n",
       "      <td>220.00</td>\n",
       "      <td>45,000.00</td>\n",
       "      <td>2013-01-12 00:20:50</td>\n",
       "      <td>2013</td>\n",
       "    </tr>\n",
       "    <tr>\n",
       "      <td>1000007540</td>\n",
       "      <td>3</td>\n",
       "      <td>ToshiCapital Rekordz Needs Help to Complete Album</td>\n",
       "      <td>Music</td>\n",
       "      <td>Music</td>\n",
       "      <td>USD</td>\n",
       "      <td>2012-04-16</td>\n",
       "      <td>5,000.00</td>\n",
       "      <td>2012-03-17 03:24:11</td>\n",
       "      <td>1.00</td>\n",
       "      <td>failed</td>\n",
       "      <td>1</td>\n",
       "      <td>US</td>\n",
       "      <td>1.00</td>\n",
       "      <td>1.00</td>\n",
       "      <td>5,000.00</td>\n",
       "      <td>2012-03-17 03:24:11</td>\n",
       "      <td>2012</td>\n",
       "    </tr>\n",
       "    <tr>\n",
       "      <td>1000011046</td>\n",
       "      <td>4</td>\n",
       "      <td>Community Film Project: The Art of Neighborhoo...</td>\n",
       "      <td>Film &amp; Video</td>\n",
       "      <td>Film &amp; Video</td>\n",
       "      <td>USD</td>\n",
       "      <td>2015-08-29</td>\n",
       "      <td>19,500.00</td>\n",
       "      <td>2015-07-04 08:35:03</td>\n",
       "      <td>1,283.00</td>\n",
       "      <td>canceled</td>\n",
       "      <td>14</td>\n",
       "      <td>US</td>\n",
       "      <td>1,283.00</td>\n",
       "      <td>1,283.00</td>\n",
       "      <td>19,500.00</td>\n",
       "      <td>2015-07-04 08:35:03</td>\n",
       "      <td>2015</td>\n",
       "    </tr>\n",
       "    <tr>\n",
       "      <td>1000014025</td>\n",
       "      <td>5</td>\n",
       "      <td>Monarch Espresso Bar</td>\n",
       "      <td>Restaurants</td>\n",
       "      <td>Food</td>\n",
       "      <td>USD</td>\n",
       "      <td>2016-04-01</td>\n",
       "      <td>50,000.00</td>\n",
       "      <td>2016-02-26 13:38:27</td>\n",
       "      <td>52,375.00</td>\n",
       "      <td>successful</td>\n",
       "      <td>224</td>\n",
       "      <td>US</td>\n",
       "      <td>52,375.00</td>\n",
       "      <td>52,375.00</td>\n",
       "      <td>50,000.00</td>\n",
       "      <td>2016-02-26 13:38:27</td>\n",
       "      <td>2016</td>\n",
       "    </tr>\n",
       "    <tr>\n",
       "      <td>...</td>\n",
       "      <td>...</td>\n",
       "      <td>...</td>\n",
       "      <td>...</td>\n",
       "      <td>...</td>\n",
       "      <td>...</td>\n",
       "      <td>...</td>\n",
       "      <td>...</td>\n",
       "      <td>...</td>\n",
       "      <td>...</td>\n",
       "      <td>...</td>\n",
       "      <td>...</td>\n",
       "      <td>...</td>\n",
       "      <td>...</td>\n",
       "      <td>...</td>\n",
       "      <td>...</td>\n",
       "      <td>...</td>\n",
       "      <td>...</td>\n",
       "    </tr>\n",
       "    <tr>\n",
       "      <td>999976400</td>\n",
       "      <td>378656</td>\n",
       "      <td>ChknTruk Nationwide Charity Drive 2014 (Canceled)</td>\n",
       "      <td>Documentary</td>\n",
       "      <td>Film &amp; Video</td>\n",
       "      <td>USD</td>\n",
       "      <td>2014-10-17</td>\n",
       "      <td>50,000.00</td>\n",
       "      <td>2014-09-17 02:35:30</td>\n",
       "      <td>25.00</td>\n",
       "      <td>canceled</td>\n",
       "      <td>1</td>\n",
       "      <td>US</td>\n",
       "      <td>25.00</td>\n",
       "      <td>25.00</td>\n",
       "      <td>50,000.00</td>\n",
       "      <td>2014-09-17 02:35:30</td>\n",
       "      <td>2014</td>\n",
       "    </tr>\n",
       "    <tr>\n",
       "      <td>999977640</td>\n",
       "      <td>378657</td>\n",
       "      <td>The Tribe</td>\n",
       "      <td>Narrative Film</td>\n",
       "      <td>Film &amp; Video</td>\n",
       "      <td>USD</td>\n",
       "      <td>2011-07-19</td>\n",
       "      <td>1,500.00</td>\n",
       "      <td>2011-06-22 03:35:14</td>\n",
       "      <td>155.00</td>\n",
       "      <td>failed</td>\n",
       "      <td>5</td>\n",
       "      <td>US</td>\n",
       "      <td>155.00</td>\n",
       "      <td>155.00</td>\n",
       "      <td>1,500.00</td>\n",
       "      <td>2011-06-22 03:35:14</td>\n",
       "      <td>2011</td>\n",
       "    </tr>\n",
       "    <tr>\n",
       "      <td>999986353</td>\n",
       "      <td>378658</td>\n",
       "      <td>Walls of Remedy- New lesbian Romantic Comedy f...</td>\n",
       "      <td>Narrative Film</td>\n",
       "      <td>Film &amp; Video</td>\n",
       "      <td>USD</td>\n",
       "      <td>2010-08-16</td>\n",
       "      <td>15,000.00</td>\n",
       "      <td>2010-07-01 19:40:30</td>\n",
       "      <td>20.00</td>\n",
       "      <td>failed</td>\n",
       "      <td>1</td>\n",
       "      <td>US</td>\n",
       "      <td>20.00</td>\n",
       "      <td>20.00</td>\n",
       "      <td>15,000.00</td>\n",
       "      <td>2010-07-01 19:40:30</td>\n",
       "      <td>2010</td>\n",
       "    </tr>\n",
       "    <tr>\n",
       "      <td>999987933</td>\n",
       "      <td>378659</td>\n",
       "      <td>BioDefense Education Kit</td>\n",
       "      <td>Technology</td>\n",
       "      <td>Technology</td>\n",
       "      <td>USD</td>\n",
       "      <td>2016-02-13</td>\n",
       "      <td>15,000.00</td>\n",
       "      <td>2016-01-13 18:13:53</td>\n",
       "      <td>200.00</td>\n",
       "      <td>failed</td>\n",
       "      <td>6</td>\n",
       "      <td>US</td>\n",
       "      <td>200.00</td>\n",
       "      <td>200.00</td>\n",
       "      <td>15,000.00</td>\n",
       "      <td>2016-01-13 18:13:53</td>\n",
       "      <td>2016</td>\n",
       "    </tr>\n",
       "    <tr>\n",
       "      <td>999988282</td>\n",
       "      <td>378660</td>\n",
       "      <td>Nou Renmen Ayiti!  We Love Haiti!</td>\n",
       "      <td>Performance Art</td>\n",
       "      <td>Art</td>\n",
       "      <td>USD</td>\n",
       "      <td>2011-08-16</td>\n",
       "      <td>2,000.00</td>\n",
       "      <td>2011-07-19 09:07:47</td>\n",
       "      <td>524.00</td>\n",
       "      <td>failed</td>\n",
       "      <td>17</td>\n",
       "      <td>US</td>\n",
       "      <td>524.00</td>\n",
       "      <td>524.00</td>\n",
       "      <td>2,000.00</td>\n",
       "      <td>2011-07-19 09:07:47</td>\n",
       "      <td>2011</td>\n",
       "    </tr>\n",
       "  </tbody>\n",
       "</table>\n",
       "<p>292627 rows × 17 columns</p>\n",
       "</div>"
      ],
      "text/plain": [
       "             index                                               name  \\\n",
       "ID                                                                      \n",
       "1000003930       1      Greeting From Earth: ZGAC Arts Capsule For ET   \n",
       "1000004038       2                                     Where is Hank?   \n",
       "1000007540       3  ToshiCapital Rekordz Needs Help to Complete Album   \n",
       "1000011046       4  Community Film Project: The Art of Neighborhoo...   \n",
       "1000014025       5                               Monarch Espresso Bar   \n",
       "...            ...                                                ...   \n",
       "999976400   378656  ChknTruk Nationwide Charity Drive 2014 (Canceled)   \n",
       "999977640   378657                                          The Tribe   \n",
       "999986353   378658  Walls of Remedy- New lesbian Romantic Comedy f...   \n",
       "999987933   378659                           BioDefense Education Kit   \n",
       "999988282   378660                  Nou Renmen Ayiti!  We Love Haiti!   \n",
       "\n",
       "                   category main_category currency    deadline  \\\n",
       "ID                                                               \n",
       "1000003930   Narrative Film  Film & Video      USD  2017-11-01   \n",
       "1000004038   Narrative Film  Film & Video      USD  2013-02-26   \n",
       "1000007540            Music         Music      USD  2012-04-16   \n",
       "1000011046     Film & Video  Film & Video      USD  2015-08-29   \n",
       "1000014025      Restaurants          Food      USD  2016-04-01   \n",
       "...                     ...           ...      ...         ...   \n",
       "999976400       Documentary  Film & Video      USD  2014-10-17   \n",
       "999977640    Narrative Film  Film & Video      USD  2011-07-19   \n",
       "999986353    Narrative Film  Film & Video      USD  2010-08-16   \n",
       "999987933        Technology    Technology      USD  2016-02-13   \n",
       "999988282   Performance Art           Art      USD  2011-08-16   \n",
       "\n",
       "                           goal             launched              pledged  \\\n",
       "ID                                                                          \n",
       "1000003930            30,000.00  2017-09-02 04:43:57             2,421.00   \n",
       "1000004038            45,000.00  2013-01-12 00:20:50               220.00   \n",
       "1000007540             5,000.00  2012-03-17 03:24:11                 1.00   \n",
       "1000011046            19,500.00  2015-07-04 08:35:03             1,283.00   \n",
       "1000014025            50,000.00  2016-02-26 13:38:27            52,375.00   \n",
       "...                         ...                  ...                  ...   \n",
       "999976400             50,000.00  2014-09-17 02:35:30                25.00   \n",
       "999977640              1,500.00  2011-06-22 03:35:14               155.00   \n",
       "999986353             15,000.00  2010-07-01 19:40:30                20.00   \n",
       "999987933             15,000.00  2016-01-13 18:13:53               200.00   \n",
       "999988282              2,000.00  2011-07-19 09:07:47               524.00   \n",
       "\n",
       "                 state  backers country          usd pledged  \\\n",
       "ID                                                             \n",
       "1000003930      failed       15      US               100.00   \n",
       "1000004038      failed        3      US               220.00   \n",
       "1000007540      failed        1      US                 1.00   \n",
       "1000011046    canceled       14      US             1,283.00   \n",
       "1000014025  successful      224      US            52,375.00   \n",
       "...                ...      ...     ...                  ...   \n",
       "999976400     canceled        1      US                25.00   \n",
       "999977640       failed        5      US               155.00   \n",
       "999986353       failed        1      US                20.00   \n",
       "999987933       failed        6      US               200.00   \n",
       "999988282       failed       17      US               524.00   \n",
       "\n",
       "               usd_pledged_real        usd_goal_real   launched_datetime  year  \n",
       "ID                                                                              \n",
       "1000003930             2,421.00            30,000.00 2017-09-02 04:43:57  2017  \n",
       "1000004038               220.00            45,000.00 2013-01-12 00:20:50  2013  \n",
       "1000007540                 1.00             5,000.00 2012-03-17 03:24:11  2012  \n",
       "1000011046             1,283.00            19,500.00 2015-07-04 08:35:03  2015  \n",
       "1000014025            52,375.00            50,000.00 2016-02-26 13:38:27  2016  \n",
       "...                         ...                  ...                 ...   ...  \n",
       "999976400                 25.00            50,000.00 2014-09-17 02:35:30  2014  \n",
       "999977640                155.00             1,500.00 2011-06-22 03:35:14  2011  \n",
       "999986353                 20.00            15,000.00 2010-07-01 19:40:30  2010  \n",
       "999987933                200.00            15,000.00 2016-01-13 18:13:53  2016  \n",
       "999988282                524.00             2,000.00 2011-07-19 09:07:47  2011  \n",
       "\n",
       "[292627 rows x 17 columns]"
      ]
     },
     "execution_count": 407,
     "metadata": {},
     "output_type": "execute_result"
    }
   ],
   "source": [
    "projects_2017"
   ]
  },
  {
   "cell_type": "markdown",
   "metadata": {
    "slideshow": {
     "slide_type": "subslide"
    }
   },
   "source": [
    "Por default tanto set_index como read_csv realizan un drop de la columa utilizada como indice del Data Frame. Con set_index es posible mantener la columa en el DataFrame usando el parametro ```drop``` en ```False```"
   ]
  },
  {
   "cell_type": "markdown",
   "metadata": {
    "slideshow": {
     "slide_type": "slide"
    }
   },
   "source": [
    "## Join\n",
    "\n",
    "Ver otro notebook de referencia para desarrollar el ejemplo."
   ]
  },
  {
   "cell_type": "markdown",
   "metadata": {
    "slideshow": {
     "slide_type": "slide"
    }
   },
   "source": [
    "## Agrupamiento (Group By) para agregacion, filtrado y transformacion\n",
    "\n",
    "Al referirnos usualmente a ```groupby```, usualmente hacemos referencia al proceso conocido como split-apply-combine que considera:\n",
    "\n",
    "- Split: Separar los datos en grupos basados en algun tipo de criterio.\n",
    "- Apply: Aplicar una funcion a cada uno de los grupos de forma independiente.\n",
    "- Combine: Combinar los resultados en una estructura de datos resultante."
   ]
  },
  {
   "cell_type": "markdown",
   "metadata": {
    "slideshow": {
     "slide_type": "subslide"
    }
   },
   "source": [
    "\n",
    "El uso mas comun de groupby is para realizar una agregacion (la cual toma varios valores y los convierte en un unico valor)"
   ]
  },
  {
   "cell_type": "code",
   "execution_count": 414,
   "metadata": {
    "slideshow": {
     "slide_type": "subslide"
    }
   },
   "outputs": [
    {
     "data": {
      "text/plain": [
       "<pandas.core.groupby.generic.DataFrameGroupBy object at 0x1a223f9b0>"
      ]
     },
     "execution_count": 414,
     "metadata": {},
     "output_type": "execute_result"
    }
   ],
   "source": [
    "projects_2017.groupby(['main_category','state'])"
   ]
  },
  {
   "cell_type": "code",
   "execution_count": 417,
   "metadata": {
    "slideshow": {
     "slide_type": "subslide"
    }
   },
   "outputs": [],
   "source": [
    "# agrupando usando multiples columnas\n",
    "grouped = projects_2017.groupby(['main_category','state'])\\\n",
    "    .agg({'backers':['mean','sum'],'pledged':'mean', 'goal':'mean'}) "
   ]
  },
  {
   "cell_type": "code",
   "execution_count": 418,
   "metadata": {},
   "outputs": [
    {
     "data": {
      "text/plain": [
       "pandas.core.frame.DataFrame"
      ]
     },
     "execution_count": 418,
     "metadata": {},
     "output_type": "execute_result"
    }
   ],
   "source": [
    "type(grouped)"
   ]
  },
  {
   "cell_type": "code",
   "execution_count": 419,
   "metadata": {
    "slideshow": {
     "slide_type": "subslide"
    }
   },
   "outputs": [
    {
     "data": {
      "text/plain": [
       "MultiIndex([(         'Art',   'canceled'),\n",
       "            (         'Art',     'failed'),\n",
       "            (         'Art',       'live'),\n",
       "            (         'Art', 'successful'),\n",
       "            (         'Art',  'suspended'),\n",
       "            (      'Comics',   'canceled'),\n",
       "            (      'Comics',     'failed'),\n",
       "            (      'Comics',       'live'),\n",
       "            (      'Comics', 'successful'),\n",
       "            (      'Comics',  'suspended'),\n",
       "            (      'Crafts',   'canceled'),\n",
       "            (      'Crafts',     'failed'),\n",
       "            (      'Crafts',       'live'),\n",
       "            (      'Crafts', 'successful'),\n",
       "            (      'Crafts',  'suspended'),\n",
       "            (       'Dance',   'canceled'),\n",
       "            (       'Dance',     'failed'),\n",
       "            (       'Dance',       'live'),\n",
       "            (       'Dance', 'successful'),\n",
       "            (       'Dance',  'suspended'),\n",
       "            (      'Design',   'canceled'),\n",
       "            (      'Design',     'failed'),\n",
       "            (      'Design',       'live'),\n",
       "            (      'Design', 'successful'),\n",
       "            (      'Design',  'suspended'),\n",
       "            (     'Fashion',   'canceled'),\n",
       "            (     'Fashion',     'failed'),\n",
       "            (     'Fashion',       'live'),\n",
       "            (     'Fashion', 'successful'),\n",
       "            (     'Fashion',  'suspended'),\n",
       "            ('Film & Video',   'canceled'),\n",
       "            ('Film & Video',     'failed'),\n",
       "            ('Film & Video',       'live'),\n",
       "            ('Film & Video', 'successful'),\n",
       "            ('Film & Video',  'suspended'),\n",
       "            (        'Food',   'canceled'),\n",
       "            (        'Food',     'failed'),\n",
       "            (        'Food',       'live'),\n",
       "            (        'Food', 'successful'),\n",
       "            (        'Food',  'suspended'),\n",
       "            (       'Games',   'canceled'),\n",
       "            (       'Games',     'failed'),\n",
       "            (       'Games',       'live'),\n",
       "            (       'Games', 'successful'),\n",
       "            (       'Games',  'suspended'),\n",
       "            (  'Journalism',   'canceled'),\n",
       "            (  'Journalism',     'failed'),\n",
       "            (  'Journalism',       'live'),\n",
       "            (  'Journalism', 'successful'),\n",
       "            (  'Journalism',  'suspended'),\n",
       "            (       'Music',   'canceled'),\n",
       "            (       'Music',     'failed'),\n",
       "            (       'Music',       'live'),\n",
       "            (       'Music', 'successful'),\n",
       "            (       'Music',  'suspended'),\n",
       "            ( 'Photography',   'canceled'),\n",
       "            ( 'Photography',     'failed'),\n",
       "            ( 'Photography',       'live'),\n",
       "            ( 'Photography', 'successful'),\n",
       "            ( 'Photography',  'suspended'),\n",
       "            (  'Publishing',   'canceled'),\n",
       "            (  'Publishing',     'failed'),\n",
       "            (  'Publishing',       'live'),\n",
       "            (  'Publishing', 'successful'),\n",
       "            (  'Publishing',  'suspended'),\n",
       "            (  'Technology',   'canceled'),\n",
       "            (  'Technology',     'failed'),\n",
       "            (  'Technology',       'live'),\n",
       "            (  'Technology', 'successful'),\n",
       "            (  'Technology',  'suspended'),\n",
       "            (     'Theater',   'canceled'),\n",
       "            (     'Theater',     'failed'),\n",
       "            (     'Theater',       'live'),\n",
       "            (     'Theater', 'successful'),\n",
       "            (     'Theater',  'suspended')],\n",
       "           names=['main_category', 'state'])"
      ]
     },
     "execution_count": 419,
     "metadata": {},
     "output_type": "execute_result"
    }
   ],
   "source": [
    "grouped.index"
   ]
  },
  {
   "cell_type": "code",
   "execution_count": 420,
   "metadata": {
    "slideshow": {
     "slide_type": "subslide"
    }
   },
   "outputs": [],
   "source": [
    "per_year = projects_2017.groupby('year')\\\n",
    "    .agg({'backers':['mean','sum'],'pledged':['mean','sum'], 'goal': ['mean','sum']})"
   ]
  },
  {
   "cell_type": "code",
   "execution_count": 421,
   "metadata": {
    "slideshow": {
     "slide_type": "subslide"
    }
   },
   "outputs": [
    {
     "data": {
      "text/plain": [
       "Int64Index([1970, 2009, 2010, 2011, 2012, 2013, 2014, 2015, 2016, 2017, 2018], dtype='int64', name='year')"
      ]
     },
     "execution_count": 421,
     "metadata": {},
     "output_type": "execute_result"
    }
   ],
   "source": [
    "per_year.index"
   ]
  },
  {
   "cell_type": "markdown",
   "metadata": {
    "slideshow": {
     "slide_type": "slide"
    }
   },
   "source": [
    "### Agregacion\n",
    "\n",
    "Siguiendo un poco los casos anteriores podemos indicar el campo y la funcion de agregacion para hacerlo por una unica columna"
   ]
  },
  {
   "cell_type": "code",
   "execution_count": 422,
   "metadata": {
    "slideshow": {
     "slide_type": "subslide"
    }
   },
   "outputs": [
    {
     "data": {
      "text/html": [
       "<div>\n",
       "<style scoped>\n",
       "    .dataframe tbody tr th:only-of-type {\n",
       "        vertical-align: middle;\n",
       "    }\n",
       "\n",
       "    .dataframe tbody tr th {\n",
       "        vertical-align: top;\n",
       "    }\n",
       "\n",
       "    .dataframe thead th {\n",
       "        text-align: right;\n",
       "    }\n",
       "</style>\n",
       "<table border=\"1\" class=\"dataframe\">\n",
       "  <thead>\n",
       "    <tr style=\"text-align: right;\">\n",
       "      <th></th>\n",
       "      <th>backers</th>\n",
       "    </tr>\n",
       "    <tr>\n",
       "      <th>year</th>\n",
       "      <th></th>\n",
       "    </tr>\n",
       "  </thead>\n",
       "  <tbody>\n",
       "    <tr>\n",
       "      <td>1970</td>\n",
       "      <td>0</td>\n",
       "    </tr>\n",
       "    <tr>\n",
       "      <td>2009</td>\n",
       "      <td>43758</td>\n",
       "    </tr>\n",
       "    <tr>\n",
       "      <td>2010</td>\n",
       "      <td>406875</td>\n",
       "    </tr>\n",
       "    <tr>\n",
       "      <td>2011</td>\n",
       "      <td>1396473</td>\n",
       "    </tr>\n",
       "    <tr>\n",
       "      <td>2012</td>\n",
       "      <td>4224656</td>\n",
       "    </tr>\n",
       "    <tr>\n",
       "      <td>2013</td>\n",
       "      <td>5705141</td>\n",
       "    </tr>\n",
       "    <tr>\n",
       "      <td>2014</td>\n",
       "      <td>5182188</td>\n",
       "    </tr>\n",
       "    <tr>\n",
       "      <td>2015</td>\n",
       "      <td>5989765</td>\n",
       "    </tr>\n",
       "    <tr>\n",
       "      <td>2016</td>\n",
       "      <td>5388809</td>\n",
       "    </tr>\n",
       "    <tr>\n",
       "      <td>2017</td>\n",
       "      <td>4751487</td>\n",
       "    </tr>\n",
       "    <tr>\n",
       "      <td>2018</td>\n",
       "      <td>704</td>\n",
       "    </tr>\n",
       "  </tbody>\n",
       "</table>\n",
       "</div>"
      ],
      "text/plain": [
       "      backers\n",
       "year         \n",
       "1970        0\n",
       "2009    43758\n",
       "2010   406875\n",
       "2011  1396473\n",
       "2012  4224656\n",
       "2013  5705141\n",
       "2014  5182188\n",
       "2015  5989765\n",
       "2016  5388809\n",
       "2017  4751487\n",
       "2018      704"
      ]
     },
     "execution_count": 422,
     "metadata": {},
     "output_type": "execute_result"
    }
   ],
   "source": [
    "per_year = projects_2017.groupby('year').agg({'backers':'sum'}) # notar que se obtiene un DataFrame\n",
    "per_year"
   ]
  },
  {
   "cell_type": "markdown",
   "metadata": {
    "slideshow": {
     "slide_type": "subslide"
    }
   },
   "source": [
    "Otra variante es indicar la columna en la el metodo agg podemos seleccionarla usando el operador de indexacion"
   ]
  },
  {
   "cell_type": "code",
   "execution_count": 423,
   "metadata": {
    "slideshow": {
     "slide_type": "subslide"
    }
   },
   "outputs": [
    {
     "data": {
      "text/plain": [
       "year\n",
       "1970          0\n",
       "2009      43758\n",
       "2010     406875\n",
       "2011    1396473\n",
       "2012    4224656\n",
       "2013    5705141\n",
       "2014    5182188\n",
       "2015    5989765\n",
       "2016    5388809\n",
       "2017    4751487\n",
       "2018        704\n",
       "Name: backers, dtype: int64"
      ]
     },
     "execution_count": 423,
     "metadata": {},
     "output_type": "execute_result"
    }
   ],
   "source": [
    "per_year = projects_2017.groupby('year')['backers'].agg('sum') # notar que se obteniene una Serie\n",
    "per_year"
   ]
  },
  {
   "cell_type": "code",
   "execution_count": 424,
   "metadata": {
    "slideshow": {
     "slide_type": "subslide"
    }
   },
   "outputs": [
    {
     "data": {
      "text/plain": [
       "year\n",
       "1970          0\n",
       "2009      43758\n",
       "2010     406875\n",
       "2011    1396473\n",
       "2012    4224656\n",
       "2013    5705141\n",
       "2014    5182188\n",
       "2015    5989765\n",
       "2016    5388809\n",
       "2017    4751487\n",
       "2018        704\n",
       "Name: backers, dtype: int64"
      ]
     },
     "execution_count": 424,
     "metadata": {},
     "output_type": "execute_result"
    }
   ],
   "source": [
    "# cuidado entre las funciones de sum de pandas y numpy. (manejo de nulos)\n",
    "per_year = projects_2017.groupby('year')['backers'].agg(np.sum)\n",
    "per_year"
   ]
  },
  {
   "cell_type": "code",
   "execution_count": 425,
   "metadata": {
    "slideshow": {
     "slide_type": "subslide"
    }
   },
   "outputs": [
    {
     "name": "stdout",
     "output_type": "stream",
     "text": [
      "year\n",
      "1970          0\n",
      "2009      43758\n",
      "2010     406875\n",
      "2011    1396473\n",
      "2012    4224656\n",
      "2013    5705141\n",
      "2014    5182188\n",
      "2015    5989765\n",
      "2016    5388809\n",
      "2017    4751487\n",
      "2018        704\n",
      "Name: backers, dtype: int64\n"
     ]
    }
   ],
   "source": [
    "per_year = projects_2017.groupby('year')['backers'].sum()\n",
    "print(per_year)"
   ]
  },
  {
   "cell_type": "markdown",
   "metadata": {
    "slideshow": {
     "slide_type": "subslide"
    }
   },
   "source": [
    "A su vez diferentes funciones pueden aplicarse en la misma operacion y a de distintos tipos a distintas columnas."
   ]
  },
  {
   "cell_type": "code",
   "execution_count": 426,
   "metadata": {
    "slideshow": {
     "slide_type": "subslide"
    }
   },
   "outputs": [],
   "source": [
    "grouped = projects_2017.groupby('year')"
   ]
  },
  {
   "cell_type": "code",
   "execution_count": 427,
   "metadata": {
    "slideshow": {
     "slide_type": "subslide"
    }
   },
   "outputs": [
    {
     "data": {
      "text/plain": [
       "pandas.core.groupby.generic.DataFrameGroupBy"
      ]
     },
     "execution_count": 427,
     "metadata": {},
     "output_type": "execute_result"
    }
   ],
   "source": [
    "type(grouped)"
   ]
  },
  {
   "cell_type": "code",
   "execution_count": 429,
   "metadata": {
    "slideshow": {
     "slide_type": "subslide"
    }
   },
   "outputs": [
    {
     "data": {
      "text/html": [
       "<div>\n",
       "<style scoped>\n",
       "    .dataframe tbody tr th:only-of-type {\n",
       "        vertical-align: middle;\n",
       "    }\n",
       "\n",
       "    .dataframe tbody tr th {\n",
       "        vertical-align: top;\n",
       "    }\n",
       "\n",
       "    .dataframe thead th {\n",
       "        text-align: right;\n",
       "    }\n",
       "</style>\n",
       "<table border=\"1\" class=\"dataframe\">\n",
       "  <thead>\n",
       "    <tr style=\"text-align: right;\">\n",
       "      <th></th>\n",
       "      <th>index</th>\n",
       "      <th>goal</th>\n",
       "      <th>pledged</th>\n",
       "      <th>backers</th>\n",
       "      <th>usd pledged</th>\n",
       "      <th>usd_pledged_real</th>\n",
       "      <th>usd_goal_real</th>\n",
       "    </tr>\n",
       "    <tr>\n",
       "      <th>year</th>\n",
       "      <th></th>\n",
       "      <th></th>\n",
       "      <th></th>\n",
       "      <th></th>\n",
       "      <th></th>\n",
       "      <th></th>\n",
       "      <th></th>\n",
       "    </tr>\n",
       "  </thead>\n",
       "  <tbody>\n",
       "    <tr>\n",
       "      <td>1970</td>\n",
       "      <td>742657</td>\n",
       "      <td>35,200.00</td>\n",
       "      <td>0.00</td>\n",
       "      <td>0</td>\n",
       "      <td>0.00</td>\n",
       "      <td>0.00</td>\n",
       "      <td>35,200.00</td>\n",
       "    </tr>\n",
       "    <tr>\n",
       "      <td>2009</td>\n",
       "      <td>252369024</td>\n",
       "      <td>9,385,495.26</td>\n",
       "      <td>2,845,501.11</td>\n",
       "      <td>43758</td>\n",
       "      <td>2,845,501.11</td>\n",
       "      <td>2,845,501.11</td>\n",
       "      <td>9,385,495.26</td>\n",
       "    </tr>\n",
       "    <tr>\n",
       "      <td>2010</td>\n",
       "      <td>1997134638</td>\n",
       "      <td>138,793,982.64</td>\n",
       "      <td>29,458,272.97</td>\n",
       "      <td>406875</td>\n",
       "      <td>29,458,272.97</td>\n",
       "      <td>29,458,272.97</td>\n",
       "      <td>138,793,982.64</td>\n",
       "    </tr>\n",
       "    <tr>\n",
       "      <td>2011</td>\n",
       "      <td>4952690423</td>\n",
       "      <td>326,340,131.81</td>\n",
       "      <td>103,752,593.77</td>\n",
       "      <td>1396473</td>\n",
       "      <td>103,752,593.77</td>\n",
       "      <td>103,752,593.77</td>\n",
       "      <td>326,340,131.81</td>\n",
       "    </tr>\n",
       "    <tr>\n",
       "      <td>2012</td>\n",
       "      <td>7698258896</td>\n",
       "      <td>800,195,270.26</td>\n",
       "      <td>314,664,113.74</td>\n",
       "      <td>4224656</td>\n",
       "      <td>314,664,113.74</td>\n",
       "      <td>314,664,113.74</td>\n",
       "      <td>800,195,270.26</td>\n",
       "    </tr>\n",
       "    <tr>\n",
       "      <td>2013</td>\n",
       "      <td>7340866638</td>\n",
       "      <td>1,040,509,287.00</td>\n",
       "      <td>429,622,210.70</td>\n",
       "      <td>5705141</td>\n",
       "      <td>429,622,210.70</td>\n",
       "      <td>429,622,210.70</td>\n",
       "      <td>1,040,509,287.00</td>\n",
       "    </tr>\n",
       "    <tr>\n",
       "      <td>2014</td>\n",
       "      <td>9593003721</td>\n",
       "      <td>2,423,187,674.00</td>\n",
       "      <td>433,223,285.43</td>\n",
       "      <td>5182188</td>\n",
       "      <td>433,223,285.43</td>\n",
       "      <td>433,223,285.43</td>\n",
       "      <td>2,423,187,674.00</td>\n",
       "    </tr>\n",
       "    <tr>\n",
       "      <td>2015</td>\n",
       "      <td>10124012976</td>\n",
       "      <td>4,001,328,129.00</td>\n",
       "      <td>558,394,706.09</td>\n",
       "      <td>5989765</td>\n",
       "      <td>558,394,706.09</td>\n",
       "      <td>558,394,706.09</td>\n",
       "      <td>4,001,328,129.00</td>\n",
       "    </tr>\n",
       "    <tr>\n",
       "      <td>2016</td>\n",
       "      <td>7222706785</td>\n",
       "      <td>2,693,072,417.00</td>\n",
       "      <td>503,722,817.56</td>\n",
       "      <td>5388809</td>\n",
       "      <td>284,182,095.34</td>\n",
       "      <td>503,722,817.56</td>\n",
       "      <td>2,693,072,417.00</td>\n",
       "    </tr>\n",
       "    <tr>\n",
       "      <td>2017</td>\n",
       "      <td>6219392219</td>\n",
       "      <td>1,451,721,188.00</td>\n",
       "      <td>454,032,420.13</td>\n",
       "      <td>4751487</td>\n",
       "      <td>90,574,149.43</td>\n",
       "      <td>454,032,420.13</td>\n",
       "      <td>1,451,721,188.00</td>\n",
       "    </tr>\n",
       "    <tr>\n",
       "      <td>2018</td>\n",
       "      <td>14711834</td>\n",
       "      <td>1,252,305.00</td>\n",
       "      <td>43,660.00</td>\n",
       "      <td>704</td>\n",
       "      <td>38,225.00</td>\n",
       "      <td>43,660.00</td>\n",
       "      <td>1,252,305.00</td>\n",
       "    </tr>\n",
       "  </tbody>\n",
       "</table>\n",
       "</div>"
      ],
      "text/plain": [
       "            index                 goal              pledged  backers  \\\n",
       "year                                                                   \n",
       "1970       742657            35,200.00                 0.00        0   \n",
       "2009    252369024         9,385,495.26         2,845,501.11    43758   \n",
       "2010   1997134638       138,793,982.64        29,458,272.97   406875   \n",
       "2011   4952690423       326,340,131.81       103,752,593.77  1396473   \n",
       "2012   7698258896       800,195,270.26       314,664,113.74  4224656   \n",
       "2013   7340866638     1,040,509,287.00       429,622,210.70  5705141   \n",
       "2014   9593003721     2,423,187,674.00       433,223,285.43  5182188   \n",
       "2015  10124012976     4,001,328,129.00       558,394,706.09  5989765   \n",
       "2016   7222706785     2,693,072,417.00       503,722,817.56  5388809   \n",
       "2017   6219392219     1,451,721,188.00       454,032,420.13  4751487   \n",
       "2018     14711834         1,252,305.00            43,660.00      704   \n",
       "\n",
       "              usd pledged     usd_pledged_real        usd_goal_real  \n",
       "year                                                                 \n",
       "1970                 0.00                 0.00            35,200.00  \n",
       "2009         2,845,501.11         2,845,501.11         9,385,495.26  \n",
       "2010        29,458,272.97        29,458,272.97       138,793,982.64  \n",
       "2011       103,752,593.77       103,752,593.77       326,340,131.81  \n",
       "2012       314,664,113.74       314,664,113.74       800,195,270.26  \n",
       "2013       429,622,210.70       429,622,210.70     1,040,509,287.00  \n",
       "2014       433,223,285.43       433,223,285.43     2,423,187,674.00  \n",
       "2015       558,394,706.09       558,394,706.09     4,001,328,129.00  \n",
       "2016       284,182,095.34       503,722,817.56     2,693,072,417.00  \n",
       "2017        90,574,149.43       454,032,420.13     1,451,721,188.00  \n",
       "2018            38,225.00            43,660.00         1,252,305.00  "
      ]
     },
     "execution_count": 429,
     "metadata": {},
     "output_type": "execute_result"
    }
   ],
   "source": [
    "# con np.sqrt esto va a fallar ya que la funcion no realiza agregacion\n",
    "# con np.sum va a funcionar bien\n",
    "#projects_2017.groupby('year').agg(np.sqrt)\n",
    "projects_2017.groupby('year').agg(np.sum)"
   ]
  },
  {
   "cell_type": "code",
   "execution_count": 430,
   "metadata": {
    "slideshow": {
     "slide_type": "subslide"
    }
   },
   "outputs": [
    {
     "data": {
      "text/html": [
       "<div>\n",
       "<style scoped>\n",
       "    .dataframe tbody tr th:only-of-type {\n",
       "        vertical-align: middle;\n",
       "    }\n",
       "\n",
       "    .dataframe tbody tr th {\n",
       "        vertical-align: top;\n",
       "    }\n",
       "\n",
       "    .dataframe thead tr th {\n",
       "        text-align: left;\n",
       "    }\n",
       "\n",
       "    .dataframe thead tr:last-of-type th {\n",
       "        text-align: right;\n",
       "    }\n",
       "</style>\n",
       "<table border=\"1\" class=\"dataframe\">\n",
       "  <thead>\n",
       "    <tr>\n",
       "      <th></th>\n",
       "      <th>backers</th>\n",
       "      <th colspan=\"2\" halign=\"left\">pledged</th>\n",
       "    </tr>\n",
       "    <tr>\n",
       "      <th></th>\n",
       "      <th>sum</th>\n",
       "      <th>mean</th>\n",
       "      <th>sum</th>\n",
       "    </tr>\n",
       "    <tr>\n",
       "      <th>year</th>\n",
       "      <th></th>\n",
       "      <th></th>\n",
       "      <th></th>\n",
       "    </tr>\n",
       "  </thead>\n",
       "  <tbody>\n",
       "    <tr>\n",
       "      <td>1970</td>\n",
       "      <td>0</td>\n",
       "      <td>0.00</td>\n",
       "      <td>0.00</td>\n",
       "    </tr>\n",
       "    <tr>\n",
       "      <td>2009</td>\n",
       "      <td>43758</td>\n",
       "      <td>2,141.08</td>\n",
       "      <td>2,845,501.11</td>\n",
       "    </tr>\n",
       "    <tr>\n",
       "      <td>2010</td>\n",
       "      <td>406875</td>\n",
       "      <td>2,800.48</td>\n",
       "      <td>29,458,272.97</td>\n",
       "    </tr>\n",
       "    <tr>\n",
       "      <td>2011</td>\n",
       "      <td>1396473</td>\n",
       "      <td>3,954.44</td>\n",
       "      <td>103,752,593.77</td>\n",
       "    </tr>\n",
       "    <tr>\n",
       "      <td>2012</td>\n",
       "      <td>4224656</td>\n",
       "      <td>7,760.48</td>\n",
       "      <td>314,664,113.74</td>\n",
       "    </tr>\n",
       "    <tr>\n",
       "      <td>2013</td>\n",
       "      <td>5705141</td>\n",
       "      <td>11,105.08</td>\n",
       "      <td>429,622,210.70</td>\n",
       "    </tr>\n",
       "    <tr>\n",
       "      <td>2014</td>\n",
       "      <td>5182188</td>\n",
       "      <td>8,533.22</td>\n",
       "      <td>433,223,285.43</td>\n",
       "    </tr>\n",
       "    <tr>\n",
       "      <td>2015</td>\n",
       "      <td>5989765</td>\n",
       "      <td>10,428.90</td>\n",
       "      <td>558,394,706.09</td>\n",
       "    </tr>\n",
       "    <tr>\n",
       "      <td>2016</td>\n",
       "      <td>5388809</td>\n",
       "      <td>13,245.41</td>\n",
       "      <td>503,722,817.56</td>\n",
       "    </tr>\n",
       "    <tr>\n",
       "      <td>2017</td>\n",
       "      <td>4751487</td>\n",
       "      <td>13,809.61</td>\n",
       "      <td>454,032,420.13</td>\n",
       "    </tr>\n",
       "    <tr>\n",
       "      <td>2018</td>\n",
       "      <td>704</td>\n",
       "      <td>532.44</td>\n",
       "      <td>43,660.00</td>\n",
       "    </tr>\n",
       "  </tbody>\n",
       "</table>\n",
       "</div>"
      ],
      "text/plain": [
       "      backers              pledged                     \n",
       "          sum                 mean                  sum\n",
       "year                                                   \n",
       "1970        0                 0.00                 0.00\n",
       "2009    43758             2,141.08         2,845,501.11\n",
       "2010   406875             2,800.48        29,458,272.97\n",
       "2011  1396473             3,954.44       103,752,593.77\n",
       "2012  4224656             7,760.48       314,664,113.74\n",
       "2013  5705141            11,105.08       429,622,210.70\n",
       "2014  5182188             8,533.22       433,223,285.43\n",
       "2015  5989765            10,428.90       558,394,706.09\n",
       "2016  5388809            13,245.41       503,722,817.56\n",
       "2017  4751487            13,809.61       454,032,420.13\n",
       "2018      704               532.44            43,660.00"
      ]
     },
     "execution_count": 430,
     "metadata": {},
     "output_type": "execute_result"
    }
   ],
   "source": [
    "# notar que se indica una funcion built-in y una custom (la de numpy)\n",
    "per_year = projects_2017.groupby('year').agg({'backers':np.sum,'pledged': ['mean', 'sum']})\n",
    "per_year"
   ]
  },
  {
   "cell_type": "code",
   "execution_count": 431,
   "metadata": {},
   "outputs": [
    {
     "data": {
      "text/plain": [
       "MultiIndex([('backers',  'sum'),\n",
       "            ('pledged', 'mean'),\n",
       "            ('pledged',  'sum')],\n",
       "           )"
      ]
     },
     "execution_count": 431,
     "metadata": {},
     "output_type": "execute_result"
    }
   ],
   "source": [
    "# tenemos un multi indice de columnas\n",
    "# tiene en el top level las columnas de agregacion\n",
    "# tiene en el bottom level el resultado de aplicar las funciones de agregacion\n",
    "per_year.columns"
   ]
  },
  {
   "cell_type": "code",
   "execution_count": 432,
   "metadata": {
    "slideshow": {
     "slide_type": "subslide"
    }
   },
   "outputs": [],
   "source": [
    "per_year.reset_index(inplace=True)"
   ]
  },
  {
   "cell_type": "code",
   "execution_count": 433,
   "metadata": {
    "slideshow": {
     "slide_type": "subslide"
    }
   },
   "outputs": [
    {
     "data": {
      "text/html": [
       "<div>\n",
       "<style scoped>\n",
       "    .dataframe tbody tr th:only-of-type {\n",
       "        vertical-align: middle;\n",
       "    }\n",
       "\n",
       "    .dataframe tbody tr th {\n",
       "        vertical-align: top;\n",
       "    }\n",
       "\n",
       "    .dataframe thead tr th {\n",
       "        text-align: left;\n",
       "    }\n",
       "</style>\n",
       "<table border=\"1\" class=\"dataframe\">\n",
       "  <thead>\n",
       "    <tr>\n",
       "      <th></th>\n",
       "      <th>year</th>\n",
       "      <th>backers</th>\n",
       "      <th colspan=\"2\" halign=\"left\">pledged</th>\n",
       "    </tr>\n",
       "    <tr>\n",
       "      <th></th>\n",
       "      <th></th>\n",
       "      <th>sum</th>\n",
       "      <th>mean</th>\n",
       "      <th>sum</th>\n",
       "    </tr>\n",
       "  </thead>\n",
       "  <tbody>\n",
       "    <tr>\n",
       "      <td>0</td>\n",
       "      <td>1970</td>\n",
       "      <td>0</td>\n",
       "      <td>0.00</td>\n",
       "      <td>0.00</td>\n",
       "    </tr>\n",
       "    <tr>\n",
       "      <td>1</td>\n",
       "      <td>2009</td>\n",
       "      <td>43758</td>\n",
       "      <td>2,141.08</td>\n",
       "      <td>2,845,501.11</td>\n",
       "    </tr>\n",
       "    <tr>\n",
       "      <td>2</td>\n",
       "      <td>2010</td>\n",
       "      <td>406875</td>\n",
       "      <td>2,800.48</td>\n",
       "      <td>29,458,272.97</td>\n",
       "    </tr>\n",
       "    <tr>\n",
       "      <td>3</td>\n",
       "      <td>2011</td>\n",
       "      <td>1396473</td>\n",
       "      <td>3,954.44</td>\n",
       "      <td>103,752,593.77</td>\n",
       "    </tr>\n",
       "    <tr>\n",
       "      <td>4</td>\n",
       "      <td>2012</td>\n",
       "      <td>4224656</td>\n",
       "      <td>7,760.48</td>\n",
       "      <td>314,664,113.74</td>\n",
       "    </tr>\n",
       "    <tr>\n",
       "      <td>5</td>\n",
       "      <td>2013</td>\n",
       "      <td>5705141</td>\n",
       "      <td>11,105.08</td>\n",
       "      <td>429,622,210.70</td>\n",
       "    </tr>\n",
       "    <tr>\n",
       "      <td>6</td>\n",
       "      <td>2014</td>\n",
       "      <td>5182188</td>\n",
       "      <td>8,533.22</td>\n",
       "      <td>433,223,285.43</td>\n",
       "    </tr>\n",
       "    <tr>\n",
       "      <td>7</td>\n",
       "      <td>2015</td>\n",
       "      <td>5989765</td>\n",
       "      <td>10,428.90</td>\n",
       "      <td>558,394,706.09</td>\n",
       "    </tr>\n",
       "    <tr>\n",
       "      <td>8</td>\n",
       "      <td>2016</td>\n",
       "      <td>5388809</td>\n",
       "      <td>13,245.41</td>\n",
       "      <td>503,722,817.56</td>\n",
       "    </tr>\n",
       "    <tr>\n",
       "      <td>9</td>\n",
       "      <td>2017</td>\n",
       "      <td>4751487</td>\n",
       "      <td>13,809.61</td>\n",
       "      <td>454,032,420.13</td>\n",
       "    </tr>\n",
       "    <tr>\n",
       "      <td>10</td>\n",
       "      <td>2018</td>\n",
       "      <td>704</td>\n",
       "      <td>532.44</td>\n",
       "      <td>43,660.00</td>\n",
       "    </tr>\n",
       "  </tbody>\n",
       "</table>\n",
       "</div>"
      ],
      "text/plain": [
       "    year  backers              pledged                     \n",
       "              sum                 mean                  sum\n",
       "0   1970        0                 0.00                 0.00\n",
       "1   2009    43758             2,141.08         2,845,501.11\n",
       "2   2010   406875             2,800.48        29,458,272.97\n",
       "3   2011  1396473             3,954.44       103,752,593.77\n",
       "4   2012  4224656             7,760.48       314,664,113.74\n",
       "5   2013  5705141            11,105.08       429,622,210.70\n",
       "6   2014  5182188             8,533.22       433,223,285.43\n",
       "7   2015  5989765            10,428.90       558,394,706.09\n",
       "8   2016  5388809            13,245.41       503,722,817.56\n",
       "9   2017  4751487            13,809.61       454,032,420.13\n",
       "10  2018      704               532.44            43,660.00"
      ]
     },
     "execution_count": 433,
     "metadata": {},
     "output_type": "execute_result"
    }
   ],
   "source": [
    "per_year"
   ]
  },
  {
   "cell_type": "code",
   "execution_count": 434,
   "metadata": {
    "slideshow": {
     "slide_type": "subslide"
    }
   },
   "outputs": [],
   "source": [
    "per_year.columns = ['year', 'backers_sum', 'pledged_mean', 'pledge_sum']"
   ]
  },
  {
   "cell_type": "code",
   "execution_count": 435,
   "metadata": {
    "slideshow": {
     "slide_type": "subslide"
    }
   },
   "outputs": [
    {
     "data": {
      "text/html": [
       "<div>\n",
       "<style scoped>\n",
       "    .dataframe tbody tr th:only-of-type {\n",
       "        vertical-align: middle;\n",
       "    }\n",
       "\n",
       "    .dataframe tbody tr th {\n",
       "        vertical-align: top;\n",
       "    }\n",
       "\n",
       "    .dataframe thead th {\n",
       "        text-align: right;\n",
       "    }\n",
       "</style>\n",
       "<table border=\"1\" class=\"dataframe\">\n",
       "  <thead>\n",
       "    <tr style=\"text-align: right;\">\n",
       "      <th></th>\n",
       "      <th>year</th>\n",
       "      <th>backers_sum</th>\n",
       "      <th>pledged_mean</th>\n",
       "      <th>pledge_sum</th>\n",
       "    </tr>\n",
       "  </thead>\n",
       "  <tbody>\n",
       "    <tr>\n",
       "      <td>0</td>\n",
       "      <td>1970</td>\n",
       "      <td>0</td>\n",
       "      <td>0.00</td>\n",
       "      <td>0.00</td>\n",
       "    </tr>\n",
       "    <tr>\n",
       "      <td>1</td>\n",
       "      <td>2009</td>\n",
       "      <td>43758</td>\n",
       "      <td>2,141.08</td>\n",
       "      <td>2,845,501.11</td>\n",
       "    </tr>\n",
       "    <tr>\n",
       "      <td>2</td>\n",
       "      <td>2010</td>\n",
       "      <td>406875</td>\n",
       "      <td>2,800.48</td>\n",
       "      <td>29,458,272.97</td>\n",
       "    </tr>\n",
       "    <tr>\n",
       "      <td>3</td>\n",
       "      <td>2011</td>\n",
       "      <td>1396473</td>\n",
       "      <td>3,954.44</td>\n",
       "      <td>103,752,593.77</td>\n",
       "    </tr>\n",
       "    <tr>\n",
       "      <td>4</td>\n",
       "      <td>2012</td>\n",
       "      <td>4224656</td>\n",
       "      <td>7,760.48</td>\n",
       "      <td>314,664,113.74</td>\n",
       "    </tr>\n",
       "    <tr>\n",
       "      <td>5</td>\n",
       "      <td>2013</td>\n",
       "      <td>5705141</td>\n",
       "      <td>11,105.08</td>\n",
       "      <td>429,622,210.70</td>\n",
       "    </tr>\n",
       "    <tr>\n",
       "      <td>6</td>\n",
       "      <td>2014</td>\n",
       "      <td>5182188</td>\n",
       "      <td>8,533.22</td>\n",
       "      <td>433,223,285.43</td>\n",
       "    </tr>\n",
       "    <tr>\n",
       "      <td>7</td>\n",
       "      <td>2015</td>\n",
       "      <td>5989765</td>\n",
       "      <td>10,428.90</td>\n",
       "      <td>558,394,706.09</td>\n",
       "    </tr>\n",
       "    <tr>\n",
       "      <td>8</td>\n",
       "      <td>2016</td>\n",
       "      <td>5388809</td>\n",
       "      <td>13,245.41</td>\n",
       "      <td>503,722,817.56</td>\n",
       "    </tr>\n",
       "    <tr>\n",
       "      <td>9</td>\n",
       "      <td>2017</td>\n",
       "      <td>4751487</td>\n",
       "      <td>13,809.61</td>\n",
       "      <td>454,032,420.13</td>\n",
       "    </tr>\n",
       "    <tr>\n",
       "      <td>10</td>\n",
       "      <td>2018</td>\n",
       "      <td>704</td>\n",
       "      <td>532.44</td>\n",
       "      <td>43,660.00</td>\n",
       "    </tr>\n",
       "  </tbody>\n",
       "</table>\n",
       "</div>"
      ],
      "text/plain": [
       "    year  backers_sum         pledged_mean           pledge_sum\n",
       "0   1970            0                 0.00                 0.00\n",
       "1   2009        43758             2,141.08         2,845,501.11\n",
       "2   2010       406875             2,800.48        29,458,272.97\n",
       "3   2011      1396473             3,954.44       103,752,593.77\n",
       "4   2012      4224656             7,760.48       314,664,113.74\n",
       "5   2013      5705141            11,105.08       429,622,210.70\n",
       "6   2014      5182188             8,533.22       433,223,285.43\n",
       "7   2015      5989765            10,428.90       558,394,706.09\n",
       "8   2016      5388809            13,245.41       503,722,817.56\n",
       "9   2017      4751487            13,809.61       454,032,420.13\n",
       "10  2018          704               532.44            43,660.00"
      ]
     },
     "execution_count": 435,
     "metadata": {},
     "output_type": "execute_result"
    }
   ],
   "source": [
    "per_year"
   ]
  },
  {
   "cell_type": "code",
   "execution_count": 436,
   "metadata": {},
   "outputs": [],
   "source": [
    "# en caso de querer volver a tener el indice por año\n",
    "per_year.set_index('year', inplace=True)"
   ]
  },
  {
   "cell_type": "code",
   "execution_count": 437,
   "metadata": {},
   "outputs": [
    {
     "data": {
      "text/html": [
       "<div>\n",
       "<style scoped>\n",
       "    .dataframe tbody tr th:only-of-type {\n",
       "        vertical-align: middle;\n",
       "    }\n",
       "\n",
       "    .dataframe tbody tr th {\n",
       "        vertical-align: top;\n",
       "    }\n",
       "\n",
       "    .dataframe thead th {\n",
       "        text-align: right;\n",
       "    }\n",
       "</style>\n",
       "<table border=\"1\" class=\"dataframe\">\n",
       "  <thead>\n",
       "    <tr style=\"text-align: right;\">\n",
       "      <th></th>\n",
       "      <th>backers_sum</th>\n",
       "      <th>pledged_mean</th>\n",
       "      <th>pledge_sum</th>\n",
       "    </tr>\n",
       "    <tr>\n",
       "      <th>year</th>\n",
       "      <th></th>\n",
       "      <th></th>\n",
       "      <th></th>\n",
       "    </tr>\n",
       "  </thead>\n",
       "  <tbody>\n",
       "    <tr>\n",
       "      <td>1970</td>\n",
       "      <td>0</td>\n",
       "      <td>0.00</td>\n",
       "      <td>0.00</td>\n",
       "    </tr>\n",
       "    <tr>\n",
       "      <td>2009</td>\n",
       "      <td>43758</td>\n",
       "      <td>2,141.08</td>\n",
       "      <td>2,845,501.11</td>\n",
       "    </tr>\n",
       "    <tr>\n",
       "      <td>2010</td>\n",
       "      <td>406875</td>\n",
       "      <td>2,800.48</td>\n",
       "      <td>29,458,272.97</td>\n",
       "    </tr>\n",
       "    <tr>\n",
       "      <td>2011</td>\n",
       "      <td>1396473</td>\n",
       "      <td>3,954.44</td>\n",
       "      <td>103,752,593.77</td>\n",
       "    </tr>\n",
       "    <tr>\n",
       "      <td>2012</td>\n",
       "      <td>4224656</td>\n",
       "      <td>7,760.48</td>\n",
       "      <td>314,664,113.74</td>\n",
       "    </tr>\n",
       "    <tr>\n",
       "      <td>2013</td>\n",
       "      <td>5705141</td>\n",
       "      <td>11,105.08</td>\n",
       "      <td>429,622,210.70</td>\n",
       "    </tr>\n",
       "    <tr>\n",
       "      <td>2014</td>\n",
       "      <td>5182188</td>\n",
       "      <td>8,533.22</td>\n",
       "      <td>433,223,285.43</td>\n",
       "    </tr>\n",
       "    <tr>\n",
       "      <td>2015</td>\n",
       "      <td>5989765</td>\n",
       "      <td>10,428.90</td>\n",
       "      <td>558,394,706.09</td>\n",
       "    </tr>\n",
       "    <tr>\n",
       "      <td>2016</td>\n",
       "      <td>5388809</td>\n",
       "      <td>13,245.41</td>\n",
       "      <td>503,722,817.56</td>\n",
       "    </tr>\n",
       "    <tr>\n",
       "      <td>2017</td>\n",
       "      <td>4751487</td>\n",
       "      <td>13,809.61</td>\n",
       "      <td>454,032,420.13</td>\n",
       "    </tr>\n",
       "    <tr>\n",
       "      <td>2018</td>\n",
       "      <td>704</td>\n",
       "      <td>532.44</td>\n",
       "      <td>43,660.00</td>\n",
       "    </tr>\n",
       "  </tbody>\n",
       "</table>\n",
       "</div>"
      ],
      "text/plain": [
       "      backers_sum         pledged_mean           pledge_sum\n",
       "year                                                       \n",
       "1970            0                 0.00                 0.00\n",
       "2009        43758             2,141.08         2,845,501.11\n",
       "2010       406875             2,800.48        29,458,272.97\n",
       "2011      1396473             3,954.44       103,752,593.77\n",
       "2012      4224656             7,760.48       314,664,113.74\n",
       "2013      5705141            11,105.08       429,622,210.70\n",
       "2014      5182188             8,533.22       433,223,285.43\n",
       "2015      5989765            10,428.90       558,394,706.09\n",
       "2016      5388809            13,245.41       503,722,817.56\n",
       "2017      4751487            13,809.61       454,032,420.13\n",
       "2018          704               532.44            43,660.00"
      ]
     },
     "execution_count": 437,
     "metadata": {},
     "output_type": "execute_result"
    }
   ],
   "source": [
    "per_year"
   ]
  },
  {
   "cell_type": "markdown",
   "metadata": {
    "slideshow": {
     "slide_type": "slide"
    }
   },
   "source": [
    "### Agregacion por multiples columnas"
   ]
  },
  {
   "cell_type": "markdown",
   "metadata": {
    "slideshow": {
     "slide_type": "subslide"
    }
   },
   "source": [
    "Group by puede recibir un conjunto de columnas, por ejemplo volviendo a nuestro **anterior analisis por categoria y estado del proyecto.**"
   ]
  },
  {
   "cell_type": "code",
   "execution_count": 442,
   "metadata": {
    "slideshow": {
     "slide_type": "subslide"
    }
   },
   "outputs": [],
   "source": [
    "grouped = projects_2017.groupby(['main_category','state'])"
   ]
  },
  {
   "cell_type": "code",
   "execution_count": 443,
   "metadata": {
    "slideshow": {
     "slide_type": "subslide"
    }
   },
   "outputs": [
    {
     "data": {
      "text/html": [
       "<div>\n",
       "<style scoped>\n",
       "    .dataframe tbody tr th:only-of-type {\n",
       "        vertical-align: middle;\n",
       "    }\n",
       "\n",
       "    .dataframe tbody tr th {\n",
       "        vertical-align: top;\n",
       "    }\n",
       "\n",
       "    .dataframe thead th {\n",
       "        text-align: right;\n",
       "    }\n",
       "</style>\n",
       "<table border=\"1\" class=\"dataframe\">\n",
       "  <thead>\n",
       "    <tr style=\"text-align: right;\">\n",
       "      <th></th>\n",
       "      <th></th>\n",
       "      <th>index</th>\n",
       "      <th>name</th>\n",
       "      <th>category</th>\n",
       "      <th>currency</th>\n",
       "      <th>deadline</th>\n",
       "      <th>goal</th>\n",
       "      <th>launched</th>\n",
       "      <th>pledged</th>\n",
       "      <th>backers</th>\n",
       "      <th>country</th>\n",
       "      <th>usd pledged</th>\n",
       "      <th>usd_pledged_real</th>\n",
       "      <th>usd_goal_real</th>\n",
       "      <th>launched_datetime</th>\n",
       "      <th>year</th>\n",
       "    </tr>\n",
       "    <tr>\n",
       "      <th>main_category</th>\n",
       "      <th>state</th>\n",
       "      <th></th>\n",
       "      <th></th>\n",
       "      <th></th>\n",
       "      <th></th>\n",
       "      <th></th>\n",
       "      <th></th>\n",
       "      <th></th>\n",
       "      <th></th>\n",
       "      <th></th>\n",
       "      <th></th>\n",
       "      <th></th>\n",
       "      <th></th>\n",
       "      <th></th>\n",
       "      <th></th>\n",
       "      <th></th>\n",
       "    </tr>\n",
       "  </thead>\n",
       "  <tbody>\n",
       "    <tr>\n",
       "      <td rowspan=\"5\" valign=\"top\">Art</td>\n",
       "      <td>canceled</td>\n",
       "      <td>1667</td>\n",
       "      <td>1667</td>\n",
       "      <td>1667</td>\n",
       "      <td>1667</td>\n",
       "      <td>1667</td>\n",
       "      <td>1667</td>\n",
       "      <td>1667</td>\n",
       "      <td>1667</td>\n",
       "      <td>1667</td>\n",
       "      <td>1667</td>\n",
       "      <td>1667</td>\n",
       "      <td>1667</td>\n",
       "      <td>1667</td>\n",
       "      <td>1667</td>\n",
       "      <td>1667</td>\n",
       "    </tr>\n",
       "    <tr>\n",
       "      <td>failed</td>\n",
       "      <td>10953</td>\n",
       "      <td>10952</td>\n",
       "      <td>10953</td>\n",
       "      <td>10953</td>\n",
       "      <td>10953</td>\n",
       "      <td>10953</td>\n",
       "      <td>10953</td>\n",
       "      <td>10953</td>\n",
       "      <td>10953</td>\n",
       "      <td>10953</td>\n",
       "      <td>10953</td>\n",
       "      <td>10953</td>\n",
       "      <td>10953</td>\n",
       "      <td>10953</td>\n",
       "      <td>10953</td>\n",
       "    </tr>\n",
       "    <tr>\n",
       "      <td>live</td>\n",
       "      <td>124</td>\n",
       "      <td>124</td>\n",
       "      <td>124</td>\n",
       "      <td>124</td>\n",
       "      <td>124</td>\n",
       "      <td>124</td>\n",
       "      <td>124</td>\n",
       "      <td>124</td>\n",
       "      <td>124</td>\n",
       "      <td>124</td>\n",
       "      <td>124</td>\n",
       "      <td>124</td>\n",
       "      <td>124</td>\n",
       "      <td>124</td>\n",
       "      <td>124</td>\n",
       "    </tr>\n",
       "    <tr>\n",
       "      <td>successful</td>\n",
       "      <td>9496</td>\n",
       "      <td>9496</td>\n",
       "      <td>9496</td>\n",
       "      <td>9496</td>\n",
       "      <td>9496</td>\n",
       "      <td>9496</td>\n",
       "      <td>9496</td>\n",
       "      <td>9496</td>\n",
       "      <td>9496</td>\n",
       "      <td>9496</td>\n",
       "      <td>9496</td>\n",
       "      <td>9496</td>\n",
       "      <td>9496</td>\n",
       "      <td>9496</td>\n",
       "      <td>9496</td>\n",
       "    </tr>\n",
       "    <tr>\n",
       "      <td>suspended</td>\n",
       "      <td>71</td>\n",
       "      <td>71</td>\n",
       "      <td>71</td>\n",
       "      <td>71</td>\n",
       "      <td>71</td>\n",
       "      <td>71</td>\n",
       "      <td>71</td>\n",
       "      <td>71</td>\n",
       "      <td>71</td>\n",
       "      <td>71</td>\n",
       "      <td>71</td>\n",
       "      <td>71</td>\n",
       "      <td>71</td>\n",
       "      <td>71</td>\n",
       "      <td>71</td>\n",
       "    </tr>\n",
       "  </tbody>\n",
       "</table>\n",
       "</div>"
      ],
      "text/plain": [
       "                          index   name  category  currency  deadline   goal  \\\n",
       "main_category state                                                           \n",
       "Art           canceled     1667   1667      1667      1667      1667   1667   \n",
       "              failed      10953  10952     10953     10953     10953  10953   \n",
       "              live          124    124       124       124       124    124   \n",
       "              successful   9496   9496      9496      9496      9496   9496   \n",
       "              suspended      71     71        71        71        71     71   \n",
       "\n",
       "                          launched  pledged  backers  country  usd pledged  \\\n",
       "main_category state                                                          \n",
       "Art           canceled        1667     1667     1667     1667         1667   \n",
       "              failed         10953    10953    10953    10953        10953   \n",
       "              live             124      124      124      124          124   \n",
       "              successful      9496     9496     9496     9496         9496   \n",
       "              suspended         71       71       71       71           71   \n",
       "\n",
       "                          usd_pledged_real  usd_goal_real  launched_datetime  \\\n",
       "main_category state                                                            \n",
       "Art           canceled                1667           1667               1667   \n",
       "              failed                 10953          10953              10953   \n",
       "              live                     124            124                124   \n",
       "              successful              9496           9496               9496   \n",
       "              suspended                 71             71                 71   \n",
       "\n",
       "                           year  \n",
       "main_category state              \n",
       "Art           canceled     1667  \n",
       "              failed      10953  \n",
       "              live          124  \n",
       "              successful   9496  \n",
       "              suspended      71  "
      ]
     },
     "execution_count": 443,
     "metadata": {},
     "output_type": "execute_result"
    }
   ],
   "source": [
    "grouped.count().head(5)"
   ]
  },
  {
   "cell_type": "code",
   "execution_count": 444,
   "metadata": {
    "slideshow": {
     "slide_type": "subslide"
    }
   },
   "outputs": [
    {
     "data": {
      "text/plain": [
       "pandas.core.indexes.multi.MultiIndex"
      ]
     },
     "execution_count": 444,
     "metadata": {},
     "output_type": "execute_result"
    }
   ],
   "source": [
    "type(grouped.count().index)"
   ]
  },
  {
   "cell_type": "markdown",
   "metadata": {
    "slideshow": {
     "slide_type": "subslide"
    }
   },
   "source": [
    "Inevitablemente al utilizar group by, vamos a estar creando un **MultiIndex** en las columnas, filas o ambas. Los DataFrames con MultiIndexes son mas dificiles de navegar y ocasionalmente tienen nombres de columnas mas confusos."
   ]
  },
  {
   "cell_type": "code",
   "execution_count": 445,
   "metadata": {
    "slideshow": {
     "slide_type": "subslide"
    }
   },
   "outputs": [],
   "source": [
    "by_main_category_state = projects_2017.groupby(['main_category','state'])\\\n",
    "    .agg({'backers':['mean','sum'],'pledged':'mean', 'goal':'mean'}) "
   ]
  },
  {
   "cell_type": "code",
   "execution_count": 446,
   "metadata": {},
   "outputs": [
    {
     "data": {
      "text/html": [
       "<div>\n",
       "<style scoped>\n",
       "    .dataframe tbody tr th:only-of-type {\n",
       "        vertical-align: middle;\n",
       "    }\n",
       "\n",
       "    .dataframe tbody tr th {\n",
       "        vertical-align: top;\n",
       "    }\n",
       "\n",
       "    .dataframe thead tr th {\n",
       "        text-align: left;\n",
       "    }\n",
       "\n",
       "    .dataframe thead tr:last-of-type th {\n",
       "        text-align: right;\n",
       "    }\n",
       "</style>\n",
       "<table border=\"1\" class=\"dataframe\">\n",
       "  <thead>\n",
       "    <tr>\n",
       "      <th></th>\n",
       "      <th></th>\n",
       "      <th colspan=\"2\" halign=\"left\">backers</th>\n",
       "      <th>pledged</th>\n",
       "      <th>goal</th>\n",
       "    </tr>\n",
       "    <tr>\n",
       "      <th></th>\n",
       "      <th></th>\n",
       "      <th>mean</th>\n",
       "      <th>sum</th>\n",
       "      <th>mean</th>\n",
       "      <th>mean</th>\n",
       "    </tr>\n",
       "    <tr>\n",
       "      <th>main_category</th>\n",
       "      <th>state</th>\n",
       "      <th></th>\n",
       "      <th></th>\n",
       "      <th></th>\n",
       "      <th></th>\n",
       "    </tr>\n",
       "  </thead>\n",
       "  <tbody>\n",
       "    <tr>\n",
       "      <td rowspan=\"5\" valign=\"top\">Art</td>\n",
       "      <td>canceled</td>\n",
       "      <td>8.08</td>\n",
       "      <td>13468</td>\n",
       "      <td>520.37</td>\n",
       "      <td>42,709.40</td>\n",
       "    </tr>\n",
       "    <tr>\n",
       "      <td>failed</td>\n",
       "      <td>9.12</td>\n",
       "      <td>99860</td>\n",
       "      <td>641.06</td>\n",
       "      <td>56,330.52</td>\n",
       "    </tr>\n",
       "    <tr>\n",
       "      <td>live</td>\n",
       "      <td>16.99</td>\n",
       "      <td>2107</td>\n",
       "      <td>1,126.16</td>\n",
       "      <td>21,166.93</td>\n",
       "    </tr>\n",
       "    <tr>\n",
       "      <td>successful</td>\n",
       "      <td>88.85</td>\n",
       "      <td>843718</td>\n",
       "      <td>6,919.10</td>\n",
       "      <td>4,522.81</td>\n",
       "    </tr>\n",
       "    <tr>\n",
       "      <td>suspended</td>\n",
       "      <td>12.21</td>\n",
       "      <td>867</td>\n",
       "      <td>584.49</td>\n",
       "      <td>11,931.52</td>\n",
       "    </tr>\n",
       "    <tr>\n",
       "      <td>...</td>\n",
       "      <td>...</td>\n",
       "      <td>...</td>\n",
       "      <td>...</td>\n",
       "      <td>...</td>\n",
       "      <td>...</td>\n",
       "    </tr>\n",
       "    <tr>\n",
       "      <td rowspan=\"5\" valign=\"top\">Theater</td>\n",
       "      <td>canceled</td>\n",
       "      <td>13.51</td>\n",
       "      <td>6415</td>\n",
       "      <td>1,407.74</td>\n",
       "      <td>114,751.53</td>\n",
       "    </tr>\n",
       "    <tr>\n",
       "      <td>failed</td>\n",
       "      <td>12.25</td>\n",
       "      <td>36434</td>\n",
       "      <td>1,035.45</td>\n",
       "      <td>54,260.62</td>\n",
       "    </tr>\n",
       "    <tr>\n",
       "      <td>live</td>\n",
       "      <td>30.76</td>\n",
       "      <td>892</td>\n",
       "      <td>3,793.40</td>\n",
       "      <td>11,427.59</td>\n",
       "    </tr>\n",
       "    <tr>\n",
       "      <td>successful</td>\n",
       "      <td>75.54</td>\n",
       "      <td>394405</td>\n",
       "      <td>6,422.14</td>\n",
       "      <td>5,562.83</td>\n",
       "    </tr>\n",
       "    <tr>\n",
       "      <td>suspended</td>\n",
       "      <td>4.64</td>\n",
       "      <td>51</td>\n",
       "      <td>105.27</td>\n",
       "      <td>34,531.45</td>\n",
       "    </tr>\n",
       "  </tbody>\n",
       "</table>\n",
       "<p>75 rows × 4 columns</p>\n",
       "</div>"
      ],
      "text/plain": [
       "                                      backers                      pledged  \\\n",
       "                                         mean     sum                 mean   \n",
       "main_category state                                                          \n",
       "Art           canceled                   8.08   13468               520.37   \n",
       "              failed                     9.12   99860               641.06   \n",
       "              live                      16.99    2107             1,126.16   \n",
       "              successful                88.85  843718             6,919.10   \n",
       "              suspended                 12.21     867               584.49   \n",
       "...                                       ...     ...                  ...   \n",
       "Theater       canceled                  13.51    6415             1,407.74   \n",
       "              failed                    12.25   36434             1,035.45   \n",
       "              live                      30.76     892             3,793.40   \n",
       "              successful                75.54  394405             6,422.14   \n",
       "              suspended                  4.64      51               105.27   \n",
       "\n",
       "                                         goal  \n",
       "                                         mean  \n",
       "main_category state                            \n",
       "Art           canceled              42,709.40  \n",
       "              failed                56,330.52  \n",
       "              live                  21,166.93  \n",
       "              successful             4,522.81  \n",
       "              suspended             11,931.52  \n",
       "...                                       ...  \n",
       "Theater       canceled             114,751.53  \n",
       "              failed                54,260.62  \n",
       "              live                  11,427.59  \n",
       "              successful             5,562.83  \n",
       "              suspended             34,531.45  \n",
       "\n",
       "[75 rows x 4 columns]"
      ]
     },
     "execution_count": 446,
     "metadata": {},
     "output_type": "execute_result"
    }
   ],
   "source": [
    "by_main_category_state"
   ]
  },
  {
   "cell_type": "markdown",
   "metadata": {
    "slideshow": {
     "slide_type": "subslide"
    }
   },
   "source": [
    "Al hacer esto, obtenemos una estructura con dos niveles de indices. Esto dificulta el acceso a los datos.\n",
    "\n",
    "Es por eso que intentaremos simplificar la estructura, para ello intentemos entender como esta la informacion en cada nivel de la misma"
   ]
  },
  {
   "cell_type": "code",
   "execution_count": 447,
   "metadata": {
    "slideshow": {
     "slide_type": "subslide"
    }
   },
   "outputs": [],
   "source": [
    "level0 = by_main_category_state.columns.get_level_values(0)"
   ]
  },
  {
   "cell_type": "code",
   "execution_count": 448,
   "metadata": {
    "slideshow": {
     "slide_type": "subslide"
    }
   },
   "outputs": [
    {
     "data": {
      "text/plain": [
       "Index(['backers', 'backers', 'pledged', 'goal'], dtype='object')"
      ]
     },
     "execution_count": 448,
     "metadata": {},
     "output_type": "execute_result"
    }
   ],
   "source": [
    "level0"
   ]
  },
  {
   "cell_type": "code",
   "execution_count": 449,
   "metadata": {
    "slideshow": {
     "slide_type": "subslide"
    }
   },
   "outputs": [],
   "source": [
    "level1 = by_main_category_state.columns.get_level_values(1)"
   ]
  },
  {
   "cell_type": "code",
   "execution_count": 450,
   "metadata": {
    "slideshow": {
     "slide_type": "subslide"
    }
   },
   "outputs": [
    {
     "data": {
      "text/plain": [
       "Index(['mean', 'sum', 'mean', 'mean'], dtype='object')"
      ]
     },
     "execution_count": 450,
     "metadata": {},
     "output_type": "execute_result"
    }
   ],
   "source": [
    "level1"
   ]
  },
  {
   "cell_type": "markdown",
   "metadata": {
    "slideshow": {
     "slide_type": "subslide"
    }
   },
   "source": [
    "Podemos ver que tenemos multiples columnas que se llaman mean, cada una correspondiente a backers, pledged y goal respectivamente.\n",
    "\n",
    "vamos a intentar reducir esta estructura, concatenando ambos niveles en el mismo nombre de columna"
   ]
  },
  {
   "cell_type": "code",
   "execution_count": 461,
   "metadata": {},
   "outputs": [],
   "source": [
    "by_main_category_state.columns = [level0,level1] #inmortalizar"
   ]
  },
  {
   "cell_type": "code",
   "execution_count": 457,
   "metadata": {
    "slideshow": {
     "slide_type": "subslide"
    }
   },
   "outputs": [],
   "source": [
    "by_main_category_state.columns = level0 + '_' + level1"
   ]
  },
  {
   "cell_type": "code",
   "execution_count": 458,
   "metadata": {
    "slideshow": {
     "slide_type": "subslide"
    }
   },
   "outputs": [
    {
     "data": {
      "text/plain": [
       "Index(['backers_mean', 'backers_sum', 'pledged_mean', 'goal_mean'], dtype='object')"
      ]
     },
     "execution_count": 458,
     "metadata": {},
     "output_type": "execute_result"
    }
   ],
   "source": [
    "by_main_category_state.columns"
   ]
  },
  {
   "cell_type": "code",
   "execution_count": 463,
   "metadata": {},
   "outputs": [
    {
     "data": {
      "text/html": [
       "<div>\n",
       "<style scoped>\n",
       "    .dataframe tbody tr th:only-of-type {\n",
       "        vertical-align: middle;\n",
       "    }\n",
       "\n",
       "    .dataframe tbody tr th {\n",
       "        vertical-align: top;\n",
       "    }\n",
       "\n",
       "    .dataframe thead th {\n",
       "        text-align: right;\n",
       "    }\n",
       "</style>\n",
       "<table border=\"1\" class=\"dataframe\">\n",
       "  <thead>\n",
       "    <tr style=\"text-align: right;\">\n",
       "      <th></th>\n",
       "      <th></th>\n",
       "      <th>0</th>\n",
       "      <th>1</th>\n",
       "      <th>2</th>\n",
       "      <th>3</th>\n",
       "    </tr>\n",
       "    <tr>\n",
       "      <th>main_category</th>\n",
       "      <th>state</th>\n",
       "      <th></th>\n",
       "      <th></th>\n",
       "      <th></th>\n",
       "      <th></th>\n",
       "    </tr>\n",
       "  </thead>\n",
       "  <tbody>\n",
       "    <tr>\n",
       "      <td>level_0</td>\n",
       "      <td></td>\n",
       "      <td>backers</td>\n",
       "      <td>backers</td>\n",
       "      <td>pledged</td>\n",
       "      <td>goal</td>\n",
       "    </tr>\n",
       "    <tr>\n",
       "      <td>level_1</td>\n",
       "      <td></td>\n",
       "      <td>mean</td>\n",
       "      <td>sum</td>\n",
       "      <td>mean</td>\n",
       "      <td>mean</td>\n",
       "    </tr>\n",
       "    <tr>\n",
       "      <td rowspan=\"3\" valign=\"top\">Art</td>\n",
       "      <td>canceled</td>\n",
       "      <td>8.08</td>\n",
       "      <td>13,468.00</td>\n",
       "      <td>520.37</td>\n",
       "      <td>42,709.40</td>\n",
       "    </tr>\n",
       "    <tr>\n",
       "      <td>failed</td>\n",
       "      <td>9.12</td>\n",
       "      <td>99,860.00</td>\n",
       "      <td>641.06</td>\n",
       "      <td>56,330.52</td>\n",
       "    </tr>\n",
       "    <tr>\n",
       "      <td>live</td>\n",
       "      <td>16.99</td>\n",
       "      <td>2,107.00</td>\n",
       "      <td>1,126.16</td>\n",
       "      <td>21,166.93</td>\n",
       "    </tr>\n",
       "    <tr>\n",
       "      <td>...</td>\n",
       "      <td>...</td>\n",
       "      <td>...</td>\n",
       "      <td>...</td>\n",
       "      <td>...</td>\n",
       "      <td>...</td>\n",
       "    </tr>\n",
       "    <tr>\n",
       "      <td rowspan=\"5\" valign=\"top\">Theater</td>\n",
       "      <td>canceled</td>\n",
       "      <td>13.51</td>\n",
       "      <td>6,415.00</td>\n",
       "      <td>1,407.74</td>\n",
       "      <td>114,751.53</td>\n",
       "    </tr>\n",
       "    <tr>\n",
       "      <td>failed</td>\n",
       "      <td>12.25</td>\n",
       "      <td>36,434.00</td>\n",
       "      <td>1,035.45</td>\n",
       "      <td>54,260.62</td>\n",
       "    </tr>\n",
       "    <tr>\n",
       "      <td>live</td>\n",
       "      <td>30.76</td>\n",
       "      <td>892.00</td>\n",
       "      <td>3,793.40</td>\n",
       "      <td>11,427.59</td>\n",
       "    </tr>\n",
       "    <tr>\n",
       "      <td>successful</td>\n",
       "      <td>75.54</td>\n",
       "      <td>394,405.00</td>\n",
       "      <td>6,422.14</td>\n",
       "      <td>5,562.83</td>\n",
       "    </tr>\n",
       "    <tr>\n",
       "      <td>suspended</td>\n",
       "      <td>4.64</td>\n",
       "      <td>51.00</td>\n",
       "      <td>105.27</td>\n",
       "      <td>34,531.45</td>\n",
       "    </tr>\n",
       "  </tbody>\n",
       "</table>\n",
       "<p>77 rows × 4 columns</p>\n",
       "</div>"
      ],
      "text/plain": [
       "                                            0                    1  \\\n",
       "main_category state                                                  \n",
       "level_0                               backers              backers   \n",
       "level_1                                  mean                  sum   \n",
       "Art           canceled                   8.08            13,468.00   \n",
       "              failed                     9.12            99,860.00   \n",
       "              live                      16.99             2,107.00   \n",
       "...                                       ...                  ...   \n",
       "Theater       canceled                  13.51             6,415.00   \n",
       "              failed                    12.25            36,434.00   \n",
       "              live                      30.76               892.00   \n",
       "              successful                75.54           394,405.00   \n",
       "              suspended                  4.64                51.00   \n",
       "\n",
       "                                            2                    3  \n",
       "main_category state                                                 \n",
       "level_0                               pledged                 goal  \n",
       "level_1                                  mean                 mean  \n",
       "Art           canceled                 520.37            42,709.40  \n",
       "              failed                   641.06            56,330.52  \n",
       "              live                   1,126.16            21,166.93  \n",
       "...                                       ...                  ...  \n",
       "Theater       canceled               1,407.74           114,751.53  \n",
       "              failed                 1,035.45            54,260.62  \n",
       "              live                   3,793.40            11,427.59  \n",
       "              successful             6,422.14             5,562.83  \n",
       "              suspended                105.27            34,531.45  \n",
       "\n",
       "[77 rows x 4 columns]"
      ]
     },
     "execution_count": 463,
     "metadata": {},
     "output_type": "execute_result"
    }
   ],
   "source": [
    "by_main_category_state.T.reset_index().T"
   ]
  },
  {
   "cell_type": "markdown",
   "metadata": {
    "slideshow": {
     "slide_type": "subslide"
    }
   },
   "source": [
    "Podemos ver que todavia tenemos dos niveles pero esto podemos reducirlo realizando un ```reset_index```"
   ]
  },
  {
   "cell_type": "code",
   "execution_count": 460,
   "metadata": {
    "slideshow": {
     "slide_type": "subslide"
    }
   },
   "outputs": [
    {
     "data": {
      "text/html": [
       "<div>\n",
       "<style scoped>\n",
       "    .dataframe tbody tr th:only-of-type {\n",
       "        vertical-align: middle;\n",
       "    }\n",
       "\n",
       "    .dataframe tbody tr th {\n",
       "        vertical-align: top;\n",
       "    }\n",
       "\n",
       "    .dataframe thead th {\n",
       "        text-align: right;\n",
       "    }\n",
       "</style>\n",
       "<table border=\"1\" class=\"dataframe\">\n",
       "  <thead>\n",
       "    <tr style=\"text-align: right;\">\n",
       "      <th></th>\n",
       "      <th>main_category</th>\n",
       "      <th>state</th>\n",
       "      <th>backers_mean</th>\n",
       "      <th>backers_sum</th>\n",
       "      <th>pledged_mean</th>\n",
       "      <th>goal_mean</th>\n",
       "    </tr>\n",
       "  </thead>\n",
       "  <tbody>\n",
       "    <tr>\n",
       "      <td>0</td>\n",
       "      <td>Art</td>\n",
       "      <td>canceled</td>\n",
       "      <td>8.08</td>\n",
       "      <td>13468</td>\n",
       "      <td>520.37</td>\n",
       "      <td>42,709.40</td>\n",
       "    </tr>\n",
       "    <tr>\n",
       "      <td>1</td>\n",
       "      <td>Art</td>\n",
       "      <td>failed</td>\n",
       "      <td>9.12</td>\n",
       "      <td>99860</td>\n",
       "      <td>641.06</td>\n",
       "      <td>56,330.52</td>\n",
       "    </tr>\n",
       "    <tr>\n",
       "      <td>2</td>\n",
       "      <td>Art</td>\n",
       "      <td>live</td>\n",
       "      <td>16.99</td>\n",
       "      <td>2107</td>\n",
       "      <td>1,126.16</td>\n",
       "      <td>21,166.93</td>\n",
       "    </tr>\n",
       "    <tr>\n",
       "      <td>3</td>\n",
       "      <td>Art</td>\n",
       "      <td>successful</td>\n",
       "      <td>88.85</td>\n",
       "      <td>843718</td>\n",
       "      <td>6,919.10</td>\n",
       "      <td>4,522.81</td>\n",
       "    </tr>\n",
       "    <tr>\n",
       "      <td>4</td>\n",
       "      <td>Art</td>\n",
       "      <td>suspended</td>\n",
       "      <td>12.21</td>\n",
       "      <td>867</td>\n",
       "      <td>584.49</td>\n",
       "      <td>11,931.52</td>\n",
       "    </tr>\n",
       "    <tr>\n",
       "      <td>...</td>\n",
       "      <td>...</td>\n",
       "      <td>...</td>\n",
       "      <td>...</td>\n",
       "      <td>...</td>\n",
       "      <td>...</td>\n",
       "      <td>...</td>\n",
       "    </tr>\n",
       "    <tr>\n",
       "      <td>70</td>\n",
       "      <td>Theater</td>\n",
       "      <td>canceled</td>\n",
       "      <td>13.51</td>\n",
       "      <td>6415</td>\n",
       "      <td>1,407.74</td>\n",
       "      <td>114,751.53</td>\n",
       "    </tr>\n",
       "    <tr>\n",
       "      <td>71</td>\n",
       "      <td>Theater</td>\n",
       "      <td>failed</td>\n",
       "      <td>12.25</td>\n",
       "      <td>36434</td>\n",
       "      <td>1,035.45</td>\n",
       "      <td>54,260.62</td>\n",
       "    </tr>\n",
       "    <tr>\n",
       "      <td>72</td>\n",
       "      <td>Theater</td>\n",
       "      <td>live</td>\n",
       "      <td>30.76</td>\n",
       "      <td>892</td>\n",
       "      <td>3,793.40</td>\n",
       "      <td>11,427.59</td>\n",
       "    </tr>\n",
       "    <tr>\n",
       "      <td>73</td>\n",
       "      <td>Theater</td>\n",
       "      <td>successful</td>\n",
       "      <td>75.54</td>\n",
       "      <td>394405</td>\n",
       "      <td>6,422.14</td>\n",
       "      <td>5,562.83</td>\n",
       "    </tr>\n",
       "    <tr>\n",
       "      <td>74</td>\n",
       "      <td>Theater</td>\n",
       "      <td>suspended</td>\n",
       "      <td>4.64</td>\n",
       "      <td>51</td>\n",
       "      <td>105.27</td>\n",
       "      <td>34,531.45</td>\n",
       "    </tr>\n",
       "  </tbody>\n",
       "</table>\n",
       "<p>75 rows × 6 columns</p>\n",
       "</div>"
      ],
      "text/plain": [
       "   main_category       state         backers_mean  backers_sum  \\\n",
       "0            Art    canceled                 8.08        13468   \n",
       "1            Art      failed                 9.12        99860   \n",
       "2            Art        live                16.99         2107   \n",
       "3            Art  successful                88.85       843718   \n",
       "4            Art   suspended                12.21          867   \n",
       "..           ...         ...                  ...          ...   \n",
       "70       Theater    canceled                13.51         6415   \n",
       "71       Theater      failed                12.25        36434   \n",
       "72       Theater        live                30.76          892   \n",
       "73       Theater  successful                75.54       394405   \n",
       "74       Theater   suspended                 4.64           51   \n",
       "\n",
       "           pledged_mean            goal_mean  \n",
       "0                520.37            42,709.40  \n",
       "1                641.06            56,330.52  \n",
       "2              1,126.16            21,166.93  \n",
       "3              6,919.10             4,522.81  \n",
       "4                584.49            11,931.52  \n",
       "..                  ...                  ...  \n",
       "70             1,407.74           114,751.53  \n",
       "71             1,035.45            54,260.62  \n",
       "72             3,793.40            11,427.59  \n",
       "73             6,422.14             5,562.83  \n",
       "74               105.27            34,531.45  \n",
       "\n",
       "[75 rows x 6 columns]"
      ]
     },
     "execution_count": 460,
     "metadata": {},
     "output_type": "execute_result"
    }
   ],
   "source": [
    "by_main_category_state.reset_index()"
   ]
  },
  {
   "cell_type": "markdown",
   "metadata": {
    "slideshow": {
     "slide_type": "subslide"
    }
   },
   "source": [
    "Si queremos realizar el cambio de forma permanente en el DataFrame debemos realizarlo inPlace"
   ]
  },
  {
   "cell_type": "code",
   "execution_count": null,
   "metadata": {
    "slideshow": {
     "slide_type": "subslide"
    }
   },
   "outputs": [],
   "source": [
    "by_main_category_state.reset_index(inplace=True)"
   ]
  },
  {
   "cell_type": "code",
   "execution_count": null,
   "metadata": {
    "slideshow": {
     "slide_type": "subslide"
    }
   },
   "outputs": [],
   "source": [
    "by_main_category_state"
   ]
  },
  {
   "cell_type": "markdown",
   "metadata": {
    "slideshow": {
     "slide_type": "subslide"
    }
   },
   "source": [
    "Por ultimo es importante notar que dependiendo del nivel de agrupamiento podriamos contar con multiples niveles"
   ]
  },
  {
   "cell_type": "code",
   "execution_count": null,
   "metadata": {
    "slideshow": {
     "slide_type": "subslide"
    }
   },
   "outputs": [],
   "source": [
    "# por ejemplo agrupando por main_category, category (sub categoria) y state \n",
    "projects_2017.groupby(['main_category','category','state']).agg({'backers':['mean','sum'],'pledged':'mean', 'goal':'mean'}) "
   ]
  },
  {
   "cell_type": "markdown",
   "metadata": {
    "slideshow": {
     "slide_type": "slide"
    }
   },
   "source": [
    "## Filtrado (Filtering)"
   ]
  },
  {
   "cell_type": "code",
   "execution_count": null,
   "metadata": {
    "slideshow": {
     "slide_type": "subslide"
    }
   },
   "outputs": [],
   "source": [
    "projects_2017.groupby('year')['backers'].agg('mean') # notar que se obteniene una Serie"
   ]
  },
  {
   "cell_type": "code",
   "execution_count": null,
   "metadata": {
    "slideshow": {
     "slide_type": "subslide"
    }
   },
   "outputs": [],
   "source": [
    "per_year = projects_2017.groupby('year')\n",
    "per_year.ngroups"
   ]
  },
  {
   "cell_type": "code",
   "execution_count": null,
   "metadata": {
    "slideshow": {
     "slide_type": "subslide"
    }
   },
   "outputs": [],
   "source": [
    "def check_backers_threshold(df, threshold):\n",
    "    return df['backers'].mean() >= threshold"
   ]
  },
  {
   "cell_type": "code",
   "execution_count": null,
   "metadata": {
    "slideshow": {
     "slide_type": "subslide"
    }
   },
   "outputs": [],
   "source": [
    "per_year_filtered = per_year.filter(check_backers_threshold, threshold=100)"
   ]
  },
  {
   "cell_type": "code",
   "execution_count": null,
   "metadata": {
    "slideshow": {
     "slide_type": "subslide"
    }
   },
   "outputs": [],
   "source": [
    "per_year_filtered.groupby('year')['backers'].agg('mean')"
   ]
  },
  {
   "cell_type": "markdown",
   "metadata": {
    "slideshow": {
     "slide_type": "slide"
    }
   },
   "source": [
    "## Transform\n"
   ]
  },
  {
   "cell_type": "code",
   "execution_count": null,
   "metadata": {
    "slideshow": {
     "slide_type": "subslide"
    }
   },
   "outputs": [],
   "source": [
    "#calculamos el porcentaje que representa dentro de un año, categoria principal y categoria\n",
    "percentages = projects_2017.groupby(['year','main_category','category'])['goal','pledged']\\\n",
    "                    .transform((lambda x: (x * 100) / x.sum()))\n",
    "percentages"
   ]
  },
  {
   "cell_type": "code",
   "execution_count": null,
   "metadata": {
    "slideshow": {
     "slide_type": "subslide"
    }
   },
   "outputs": [],
   "source": [
    "projects_2017.shape"
   ]
  },
  {
   "cell_type": "markdown",
   "metadata": {
    "slideshow": {
     "slide_type": "slide"
    }
   },
   "source": [
    "## Apply"
   ]
  },
  {
   "cell_type": "code",
   "execution_count": null,
   "metadata": {
    "slideshow": {
     "slide_type": "subslide"
    }
   },
   "outputs": [],
   "source": [
    "from collections import OrderedDict\n",
    "\n",
    "def perform_stats(df):\n",
    "    # lo usamos para preservar el orden de insercion\n",
    "    data = OrderedDict()\n",
    "    \n",
    "    data['money_to_reach_goal'] = df['pledged'].sum() - df['goal'].sum()\n",
    "    data['count'] = len(df)\n",
    "\n",
    "    return pd.Series(data)\n",
    "    "
   ]
  },
  {
   "cell_type": "code",
   "execution_count": null,
   "metadata": {
    "slideshow": {
     "slide_type": "subslide"
    }
   },
   "outputs": [],
   "source": [
    "result = projects_2017.groupby(['main_category','category']).apply(perform_stats)"
   ]
  },
  {
   "cell_type": "code",
   "execution_count": null,
   "metadata": {
    "slideshow": {
     "slide_type": "subslide"
    }
   },
   "outputs": [],
   "source": [
    "result"
   ]
  },
  {
   "cell_type": "markdown",
   "metadata": {
    "slideshow": {
     "slide_type": "slide"
    }
   },
   "source": [
    "## Analizando la distribucion de variables"
   ]
  },
  {
   "cell_type": "markdown",
   "metadata": {
    "slideshow": {
     "slide_type": "subslide"
    }
   },
   "source": [
    "Un primer analisis que podemos comenzar a realizar como parte de nuestro analisis exploratorio es intentar comprender la distribucion los distintos valores por cada columna o feature que tenemos en nuestro data frame que queramos analizar.\n",
    "\n",
    "Entendemos como distribucion a la cantidad de veces que la variable toma determinados valores."
   ]
  },
  {
   "cell_type": "markdown",
   "metadata": {
    "slideshow": {
     "slide_type": "subslide"
    }
   },
   "source": [
    "Por lo analizado anteriormente mediante el describe dado que **hay un gran rango de valores posibles para visualizar no vamos a poder realizar en la escala normal** que tienen los datos, es por eso que los llevaremos a analizar **a escala logaritmica**, para poder graficar.\n",
    "\n",
    "Tener en cuenta que en una escala logarítmica, una diferencia igual en orden de magnitud se representa por una distancia igual. La media geométrica de dos números está a medio camino entre los números y esto facilita graficar.\n",
    "\n",
    "**IMPORTANTE:** Debemos ser cuidadosos con las conclusiones que obtengamos de analizar bajo la escala logaritmica, dado que su utilizacion hace compleja el analisis."
   ]
  },
  {
   "cell_type": "code",
   "execution_count": null,
   "metadata": {
    "slideshow": {
     "slide_type": "subslide"
    }
   },
   "outputs": [],
   "source": [
    "projects_2017.describe()"
   ]
  },
  {
   "cell_type": "code",
   "execution_count": null,
   "metadata": {
    "slideshow": {
     "slide_type": "subslide"
    }
   },
   "outputs": [],
   "source": [
    "# es importante que el grafico tenga un correcto titulo y valores descriptivos en barras\n",
    "# https://matplotlib.org/api/_as_gen/matplotlib.pyplot.hist.html\n",
    "g = projects_2017[\"pledged\"].plot.hist(bins=50, color='lightblue')\n",
    "g.set_title(\"Histograma de pledged [Cantidad de dinero invertido en proyecto]\", fontsize=18)\n",
    "g.set_xlabel(\"Pledged\",fontsize=18)\n",
    "g.set_ylabel(\"Frecuencia\", fontsize=18)"
   ]
  },
  {
   "cell_type": "code",
   "execution_count": null,
   "metadata": {
    "slideshow": {
     "slide_type": "subslide"
    }
   },
   "outputs": [],
   "source": [
    "# creamos nuevas columnas en escala logaritmica\n",
    "projects_2017[\"pledged_log\"] = np.log(projects_2017[\"pledged\"]+1)\n",
    "projects_2017[\"goal_log\"] = np.log(projects_2017[\"goal\"]+1)"
   ]
  },
  {
   "cell_type": "markdown",
   "metadata": {
    "slideshow": {
     "slide_type": "slide"
    }
   },
   "source": [
    "### Histograma\n",
    "\n",
    "Un histograma sirve para mostrar la distribucion de una determinada variable. Para construirlo hacen falta dos parametros: la variable en cuestion que tiene que ser numerica (continua o discreta) y el ancho que van a tener las columnas del histograma. Este valor se fija en matplotlib con el valor de bins, que indica cuanto discretizamos los intervalos.\n"
   ]
  },
  {
   "cell_type": "code",
   "execution_count": null,
   "metadata": {
    "slideshow": {
     "slide_type": "subslide"
    }
   },
   "outputs": [],
   "source": [
    "# es importante que el grafico tenga un correcto titulo y valores descriptivos en barras\n",
    "# https://matplotlib.org/api/_as_gen/matplotlib.pyplot.hist.html\n",
    "g = projects_2017[\"pledged_log\"].plot.hist(bins=50, color='lightblue')\n",
    "g.set_title(\"Histograma de pledged (log) [Cantidad de dinero invertido en proyecto]\", fontsize=18)\n",
    "g.set_xlabel(\"Pledged (log)\",fontsize=18)\n",
    "g.set_ylabel(\"Frecuencia\", fontsize=18)"
   ]
  },
  {
   "cell_type": "code",
   "execution_count": null,
   "metadata": {
    "slideshow": {
     "slide_type": "subslide"
    }
   },
   "outputs": [],
   "source": [
    "g = projects_2017[\"goal_log\"].plot.hist(bins=50, color='goldenrod')\n",
    "g.set_title(\"Histograma de Goal (log) [Cantidad de dinero a recaudar por un proyecto]\", fontsize=18)\n",
    "g.set_xlabel(\"Goal (log)\",fontsize=18)\n",
    "g.set_ylabel(\"Frecuencia\", fontsize=18)"
   ]
  },
  {
   "cell_type": "markdown",
   "metadata": {
    "slideshow": {
     "slide_type": "slide"
    }
   },
   "source": [
    "### Density Plot\n",
    "\n",
    "Un plot de densidad es una version continua de un histograma (no es necesario indicar el tamaño de los bins). Lo que se muestra es como se distribuye la densidad de la variable numerica a lo largo de todos sus valores posibles."
   ]
  },
  {
   "cell_type": "code",
   "execution_count": null,
   "metadata": {
    "slideshow": {
     "slide_type": "subslide"
    }
   },
   "outputs": [],
   "source": [
    "# https://seaborn.pydata.org/generated/seaborn.distplot.html\n",
    "g = sns.distplot(projects_2017[\"pledged_log\"])\n",
    "g.set_title(\"Densidad de Pledged (log) [Cantidad de dinero invertido en proyecto]\", fontsize=18)\n",
    "g.set_xlabel(\"Pledged (log)\",fontsize=18)\n",
    "g.set_ylabel(\"Densidad\", fontsize=18)"
   ]
  },
  {
   "cell_type": "code",
   "execution_count": null,
   "metadata": {
    "slideshow": {
     "slide_type": "subslide"
    }
   },
   "outputs": [],
   "source": [
    "g = sns.distplot(projects_2017[\"goal_log\"], color='goldenrod')\n",
    "g.set_title(\"Densidad de Goal (log) [Cantidad de dinero a recaudar por un proyecto]\", fontsize=18)\n",
    "g.set_xlabel(\"Goal (log)\",fontsize=18)\n",
    "g.set_ylabel(\"Densidad\", fontsize=18)"
   ]
  },
  {
   "cell_type": "markdown",
   "metadata": {
    "slideshow": {
     "slide_type": "slide"
    }
   },
   "source": [
    "## Overlaid Histogram\n",
    "\n",
    "Una forma de comparar distribuciones sobre una misma base es realizar un overlay de distintos histogramas."
   ]
  },
  {
   "cell_type": "code",
   "execution_count": null,
   "metadata": {
    "slideshow": {
     "slide_type": "subslide"
    }
   },
   "outputs": [],
   "source": [
    "# ambos histogramas juntos\n",
    "g = projects_2017[[\"pledged_log\",\"goal_log\"]].plot.hist(bins=50,alpha=0.5)\n",
    "g.set_title(\"Distribucion de Pledged (log) x Goal (log)\", fontsize=18)\n",
    "g.set_ylabel(\"Frecuencia\", fontsize=18)"
   ]
  },
  {
   "cell_type": "markdown",
   "metadata": {
    "slideshow": {
     "slide_type": "subslide"
    }
   },
   "source": [
    "## Overlaid Density Plots\n",
    "\n",
    "O tambien se pueden analizar directamente comparando sus densidades"
   ]
  },
  {
   "cell_type": "code",
   "execution_count": null,
   "metadata": {
    "slideshow": {
     "slide_type": "subslide"
    }
   },
   "outputs": [],
   "source": [
    "# TODO referencias por color en la visualizacion\n",
    "g = sns.distplot(projects_2017['pledged_log'], color='blue', label='pledged (log)')\n",
    "g = sns.distplot(projects_2017['goal_log'], color='orange', label='goal (log)')\n",
    "g.set_title(\"Pledged x Goal cross distribuition\", fontsize=18)"
   ]
  },
  {
   "cell_type": "markdown",
   "metadata": {
    "slideshow": {
     "slide_type": "slide"
    }
   },
   "source": [
    "## Analizando por Estado del proyecto\n",
    "\n",
    "Otro aspecto que podriamos considerar es analizar los proyecto segun su estado final (variable categorica), para ello podemos sacar inicialmente algunas estadisticas que pueden servirnos para el analisis en relacion a su media y desvio."
   ]
  },
  {
   "cell_type": "code",
   "execution_count": null,
   "metadata": {
    "slideshow": {
     "slide_type": "subslide"
    }
   },
   "outputs": [],
   "source": [
    "print(\"Calculando la media por estado final del proyecto\")\n",
    "print(round(projects_2017.groupby([\"state\"])[\"goal\", \"pledged\"].mean(),2))"
   ]
  },
  {
   "cell_type": "code",
   "execution_count": null,
   "metadata": {
    "slideshow": {
     "slide_type": "subslide"
    }
   },
   "outputs": [],
   "source": [
    "print(\"Calculando el desvio standard por estado final del proyecto\")\n",
    "print(round(projects_2017.groupby([\"state\"])[\"goal\", \"pledged\"].std(),2))"
   ]
  },
  {
   "cell_type": "markdown",
   "metadata": {
    "slideshow": {
     "slide_type": "subslide"
    }
   },
   "source": [
    "## Boxplot\n",
    "\n",
    "Una forma de ver esta misma informacion es utilizar una visualizacion conocida como boxplot. Usualmente usamos un boxplot para ver la distribucion de una variable numerica de acuerdo a una variable categorica (en este caso los distintos estados posibles de un proyecto)."
   ]
  },
  {
   "cell_type": "code",
   "execution_count": null,
   "metadata": {
    "slideshow": {
     "slide_type": "subslide"
    }
   },
   "outputs": [],
   "source": [
    "# https://seaborn.pydata.org/generated/seaborn.boxplot.html\n",
    "g = sns.boxplot(x=\"state\", y=\"pledged_log\", \n",
    "                     data=projects_2017, palette=\"hls\")\n",
    "g.set_title(\"Pledged segun estado de proyecto\", fontsize=18)\n",
    "g.set_xlabel(\"Estado del proyecto\", fontsize=18)\n",
    "g.set_ylabel(\"Pledged (Log)\", fontsize=18)"
   ]
  },
  {
   "cell_type": "markdown",
   "metadata": {
    "slideshow": {
     "slide_type": "subslide"
    }
   },
   "source": [
    "Para leerlo tenemos que considerar que la 'caja' del boxplot va desde el primer al tercer cuantil, es decir que el 25% de los datos estan por debajo de la caja y el 25% de los datos estan por encima de la caja. La caja concentra entonces el 50% de los datos. Las lıneas que salen de la caja van desde el primer cuantil hasta el valor minimo y maximo y los puntos son valores anomalos (outliers)."
   ]
  },
  {
   "cell_type": "markdown",
   "metadata": {
    "slideshow": {
     "slide_type": "skip"
    }
   },
   "source": [
    "## TODO: Scatter Plot\n",
    "\n",
    "Es una de las visualizaciones mas comunes, y versatiles. En un scatter plot representamos dos variables numericas en los ejes X e Y y por cada instancia de nuestro set de datos dibujamos un punto en las coordenadas indicadas.\n",
    "Estos plots nos dan una idea de la dependencia que existe entre las dos variables y de las caracteristicas de esta dependencia: lineal, no-lineal, etc. Por otro lado podemos sumar mas dimensiones al analisis teniendo en cuenta que podemos darles distintos colores a los distintos puntos del plot.\n",
    "\n",
    "En nuestro caso podemos querer analizar la relacion entre el pledge (log) y el goal (log) analizando su relacion solamente de los proyectos que fueron exitosos y los que no lo fueron. Tener en cuenta para el analisis que ambos se encuentran en escala logaritmica."
   ]
  },
  {
   "cell_type": "code",
   "execution_count": null,
   "metadata": {
    "slideshow": {
     "slide_type": "skip"
    }
   },
   "outputs": [],
   "source": [
    "# https://seaborn.pydata.org/generated/seaborn.regplot.html\n",
    "# TODO: indicar referencias de colores\n",
    "#g = sns.regplot(x=\"goal_log\", y=\"pledged_log\", \n",
    "#                    data=success, color=\"lightgreen\",)\n",
    "g = sns.regplot(x=\"goal\", y=\"pledged\", \n",
    "                    data=failed, color=\"orange\")\n",
    "g.set_title(\"Relacion entre Goal (log) y Pledged (log) values sobre proyectos exitosos y fallidos\", fontsize=20)\n",
    "g.set_xlabel(\"Goal Values(log)\", fontsize=20)\n",
    "g.set_ylabel(\"Pledged Values(log)\", fontsize=20)\n",
    "g.set_xticklabels(g.get_xticklabels(),rotation=90)"
   ]
  },
  {
   "cell_type": "code",
   "execution_count": null,
   "metadata": {
    "slideshow": {
     "slide_type": "skip"
    }
   },
   "outputs": [],
   "source": [
    "#sacar los live\n",
    "g = plt.scatter(projects_2017.loc[projects_2017['state'] == 'successful','goal_log'],projects_2017.loc[projects_2017['state'] == 'successful','pledged_log'], alpha='0.25', color='lightgreen', label='successful');\n",
    "g = plt.scatter(projects_2017.loc[projects_2017['state'] != 'successful','goal_log'],projects_2017.loc[projects_2017['state'] != 'successful','pledged_log'], alpha='0.25', color='orangered', label='failed');\n",
    "plt.legend();\n",
    "plt.title(\"Relacion entre Goal y Pledged values sobre proyectos exitosos y no exitosos\", fontsize=20)\n",
    "plt.xlabel(\"Goal Values(log)\", fontsize=20)\n",
    "plt.ylabel(\"Pledged Values(log)\", fontsize=20)\n",
    "\n"
   ]
  },
  {
   "cell_type": "markdown",
   "metadata": {
    "slideshow": {
     "slide_type": "subslide"
    }
   },
   "source": [
    "# Categoria com mayor cantidad de proyectos\n",
    "\n",
    "Pasando a las variables categoricas podriamos querer analizar cuales son las categorias que tienen la mayor cantidad de proyectos."
   ]
  },
  {
   "cell_type": "code",
   "execution_count": null,
   "metadata": {
    "slideshow": {
     "slide_type": "subslide"
    }
   },
   "outputs": [],
   "source": [
    "main_categories_counts = projects_2017[\"main_category\"].value_counts()\n",
    "main_categories_counts"
   ]
  },
  {
   "cell_type": "markdown",
   "metadata": {
    "slideshow": {
     "slide_type": "slide"
    }
   },
   "source": [
    "## Bar Plot\n",
    "\n",
    "Una forma de poder visualizar este tipo de informacion es utiliza un Bar Plot, de uso bastante popular y donde se cometen muchos errores. Algunas cosas que hay que tener en cuenta es que una de las variables a considerar debe ser categorica y por otro lado, los valores a evaluar deben comenzar en 0.\n",
    "\n",
    "Existen otras variantes haciendo stacking de valores o directamente indicandolos en barras separadas de forma de que queden agrupados."
   ]
  },
  {
   "cell_type": "code",
   "execution_count": null,
   "metadata": {
    "slideshow": {
     "slide_type": "subslide"
    }
   },
   "outputs": [],
   "source": [
    "# https://seaborn.pydata.org/generated/seaborn.barplot.html\n",
    "g = sns.barplot(x=main_categories_counts.values, y=main_categories_counts.index, orient='h')\n",
    "g.set_title(\"Projects per Main Category\", fontsize=15)\n",
    "g.set_xlabel(\"Number of Projects\", fontsize=12)\n",
    "g.set_ylabel(\"Name of Category\", fontsize=12)"
   ]
  },
  {
   "cell_type": "code",
   "execution_count": null,
   "metadata": {
    "slideshow": {
     "slide_type": "subslide"
    }
   },
   "outputs": [],
   "source": [
    "# https://seaborn.pydata.org/generated/seaborn.countplot.html\n",
    "# simplificacion para hacerlo via seaborn con countplot\n",
    "g = sns.countplot(x='main_category', data=projects_2017, order=projects_2017['main_category'].value_counts().index, orient='v')\n",
    "g.set_xticklabels(g.get_xticklabels(),rotation=90)\n",
    "g.set_xlabel(\"Name of Category\", fontsize=15)\n",
    "g.set_ylabel(\"Number of Projects\", fontsize=15)\n",
    "g.set_title(\"Projects per Main Category\", fontsize=15)"
   ]
  },
  {
   "cell_type": "markdown",
   "metadata": {
    "slideshow": {
     "slide_type": "skip"
    }
   },
   "source": [
    "## Analisis por Categorias Exitosas y Fallidas\n",
    "\n",
    "Podemos utilizar este tipo de visualizacion para realizar analisis por categorias exitosas y fallidas."
   ]
  },
  {
   "cell_type": "code",
   "execution_count": null,
   "metadata": {
    "slideshow": {
     "slide_type": "skip"
    }
   },
   "outputs": [],
   "source": [
    "categories_failed = projects_2017[projects_2017[\"state\"] == \"failed\"][\"category\"].value_counts()[:25]\n",
    "categories_failed"
   ]
  },
  {
   "cell_type": "code",
   "execution_count": null,
   "metadata": {
    "slideshow": {
     "slide_type": "skip"
    }
   },
   "outputs": [],
   "source": [
    "g = sns.barplot(x= categories_failed.values, y=categories_failed.index)\n",
    "g.set_title(\"Proyectos fallidos por categoria\", fontsize=15)\n",
    "g.set_xlabel(\"Total de proyectos fallidos\", fontsize=12)\n",
    "g.set_ylabel(\"Nombre de la categoria\", fontsize=12)"
   ]
  },
  {
   "cell_type": "code",
   "execution_count": null,
   "metadata": {
    "slideshow": {
     "slide_type": "skip"
    }
   },
   "outputs": [],
   "source": [
    "categories_sucessful = projects_2017[projects_2017[\"state\"] == \"successful\"][\"category\"].value_counts()[:25]\n",
    "categories_sucessful"
   ]
  },
  {
   "cell_type": "code",
   "execution_count": null,
   "metadata": {
    "slideshow": {
     "slide_type": "skip"
    }
   },
   "outputs": [],
   "source": [
    "g = sns.barplot(x= categories_sucessful.values, y=categories_sucessful.index)\n",
    "g.set_title(\"Projects exitosos por categoria\", fontsize=15)\n",
    "g.set_xlabel(\"Total de proyectos exitosos\", fontsize=12)\n",
    "g.set_ylabel(\"Nombre de categoria\", fontsize=12)"
   ]
  },
  {
   "cell_type": "markdown",
   "metadata": {
    "slideshow": {
     "slide_type": "slide"
    }
   },
   "source": [
    "## Analisis Temporal \n",
    "\n",
    "Para poder facilitar el analisis temporal de la informacion agregamos a nuestro data frame algunas columnas a partir del procesamiento de el valor de launched como datetime, y generamos algunas columnas para permitir agrupamientos por año, mes y dia de la semana."
   ]
  },
  {
   "cell_type": "code",
   "execution_count": null,
   "metadata": {
    "slideshow": {
     "slide_type": "subslide"
    }
   },
   "outputs": [],
   "source": [
    "# procesamiento de fechas de lanzamiento en mes y año\n",
    "projects_2017['launched'] = pd.to_datetime(projects_2017['launched'])\n",
    "projects_2017['launch_month'] = projects_2017['launched'].dt.month\n",
    "projects_2017['launch_year'] = projects_2017['launched'].dt.year\n",
    "projects_2017['launch_weekday_name'] = projects_2017['launched'].dt.weekday_name"
   ]
  },
  {
   "cell_type": "markdown",
   "metadata": {
    "slideshow": {
     "slide_type": "subslide"
    }
   },
   "source": [
    "Para poder entender algunos aspectos de los datos, utilizamos [crosstab](https://pandas.pydata.org/pandas-docs/stable/generated/pandas.crosstab.html) para obtener una cross tabulacion de dos factores. Por default utiliza la frecuencia."
   ]
  },
  {
   "cell_type": "code",
   "execution_count": null,
   "metadata": {
    "slideshow": {
     "slide_type": "subslide"
    }
   },
   "outputs": [],
   "source": [
    "#cantidades por estado y año\n",
    "pd.crosstab(projects_2017.launch_year, projects_2017.state)"
   ]
  },
  {
   "cell_type": "markdown",
   "metadata": {
    "slideshow": {
     "slide_type": "subslide"
    }
   },
   "source": [
    "## Grouped Bar Plot\n",
    "\n",
    "Para visualizar esta informacion podemos crear un Grouped Bar Plot agrupando por el estado del proyecto\n"
   ]
  },
  {
   "cell_type": "code",
   "execution_count": null,
   "metadata": {
    "slideshow": {
     "slide_type": "subslide"
    }
   },
   "outputs": [],
   "source": [
    "g = sns.countplot(x=\"launch_year\", hue=\"state\", data=projects_2017, palette=\"hls\")\n",
    "g.set_title(\"Cantidad de Proyectos por Año\", fontsize=18)\n",
    "g.set_xlabel(\"Año\", fontsize=18)\n",
    "g.set_ylabel(\"Cantidad de Proyectos\", fontsize=18)\n",
    "\n",
    "# Nota: Stacked Bar Plot\n",
    "# al creador de seaborn no le gustan los stacked http://randyzwitch.com/creating-stacked-bar-chart-seaborn/\n",
    "# Investigar como realizarlo en https://matplotlib.org/gallery/lines_bars_and_markers/bar_stacked.html"
   ]
  },
  {
   "cell_type": "markdown",
   "metadata": {
    "slideshow": {
     "slide_type": "subslide"
    }
   },
   "source": [
    "Tambien podemos con la informacion temporal que tenemos analizar la distribucion de algunas de las variables continuas que consideramos temporalmente, por ejemplo la cantidad de dinero invertido en proyectos por los usuarios (pledged) por año."
   ]
  },
  {
   "cell_type": "code",
   "execution_count": null,
   "metadata": {
    "slideshow": {
     "slide_type": "subslide"
    }
   },
   "outputs": [],
   "source": [
    "g = sns.boxplot(x=\"launch_year\", y=\"pledged_log\", \n",
    "                     data=projects_2017, palette=\"hls\")\n",
    "g.set_title(\"Pledged (log) por Año\", fontsize=20)\n",
    "g.set_xlabel(\"Año\", fontsize=18)\n",
    "g.set_ylabel(\"Pledged (log)\", fontsize=18)"
   ]
  },
  {
   "cell_type": "markdown",
   "metadata": {
    "slideshow": {
     "slide_type": "slide"
    }
   },
   "source": [
    "## Heatmap\n",
    "\n",
    "Supongamos que tenemos un set de datos de la forma (name,variable,value) por ejemplo (\"Año Lanzamiento de Proyecto\", \"Mes de Lanzamiento de Proyecto\", \"Goal del Proyecto\") indicando que en el año 2017, en el mes de Marzo hubo un promedio de 76000 dolares por proyecto. \n",
    "\n",
    "Un heatmap representa en el eje Y todos los puntos, instancias (años) y en el eje X cada una de las categorias posibles (meses en este caso). Los ejes suelen ser intercambiables sin que afecte la visualizacin. \n",
    "\n",
    "El heatmap es entonces una matriz en donde cada celda muestra el valor que toma la variable del eje X para el punto del eje Y, tomando con valores de un cierto color cuando son mas altos y de otro cuando son mas bajos."
   ]
  },
  {
   "cell_type": "markdown",
   "metadata": {
    "slideshow": {
     "slide_type": "subslide"
    }
   },
   "source": [
    "## Analizando Goal por Año y Mes"
   ]
  },
  {
   "cell_type": "code",
   "execution_count": null,
   "metadata": {},
   "outputs": [],
   "source": [
    "# llevamos a una representacion de ese tipo usando una tabla pivot (se vera en detalle en la proxima clase).\n",
    "# tener en cuenta que no puede haber valores duplicados por el indice por lo cual es necesario usar algun tipo\n",
    "# funcion de agregacion\n",
    "for_heatmap = projects_2017[projects_2017['state'] == 'successful'].pivot_table(index='launch_year', columns='launch_month', values='goal', aggfunc='mean')"
   ]
  },
  {
   "cell_type": "code",
   "execution_count": null,
   "metadata": {
    "slideshow": {
     "slide_type": "subslide"
    }
   },
   "outputs": [],
   "source": [
    "for_heatmap"
   ]
  },
  {
   "cell_type": "code",
   "execution_count": null,
   "metadata": {
    "slideshow": {
     "slide_type": "subslide"
    }
   },
   "outputs": [],
   "source": [
    "# https://en.wikipedia.org/wiki/Kickstarter\n",
    "# notar que segun la empresa de lanzo en 2009 en abril\n",
    "# Launched April 28, 2009; 8 years ago\n",
    "g = sns.heatmap(for_heatmap,  cmap=\"YlGnBu\")\n",
    "g.set_title(\"Promedio de Goal de Proyecto Exitoso por combinacion de Año y Mes\", fontsize=22)\n",
    "g.set_xlabel(\"Mes de Lanzamiento del Proyecto\",fontsize=18)\n",
    "g.set_ylabel(\"Año de Lanzamiento del Proyecto\", fontsize=18)"
   ]
  },
  {
   "cell_type": "code",
   "execution_count": null,
   "metadata": {
    "slideshow": {
     "slide_type": "subslide"
    }
   },
   "outputs": [],
   "source": [
    "# llevamos a una representacion de ese tipo usando una tabla pivot (se vera en detalle en la proxima clase).\n",
    "# tener en cuenta que no puede haber valores duplicados por el indice por lo cual es necesario usar algun tipo\n",
    "# funcion de agregacion\n",
    "for_heatmap = projects_2017[projects_2017['state'] == 'failed'].pivot_table(index='launch_year', columns='launch_month', values='goal', aggfunc='mean')\n",
    "g = sns.heatmap(for_heatmap,  cmap=\"YlGnBu\")\n",
    "g.set_title(\"Promedio de Goal de Proyectos Fallidos por combinacion de Año y Mes\", fontsize=22)\n",
    "g.set_xlabel(\"Mes de Lanzamiento del Proyecto\",fontsize=18)\n",
    "g.set_ylabel(\"Año de Lanzamiento del Proyecto\", fontsize=18)"
   ]
  },
  {
   "cell_type": "markdown",
   "metadata": {
    "slideshow": {
     "slide_type": "subslide"
    }
   },
   "source": [
    "## Analizando Lanzamientos de proyectos por año y mes"
   ]
  },
  {
   "cell_type": "code",
   "execution_count": null,
   "metadata": {
    "slideshow": {
     "slide_type": "subslide"
    }
   },
   "outputs": [],
   "source": [
    "# generamos una columna para agregar y procesar mediante una tabla pivot\n",
    "projects_2017['active_project'] = 1\n",
    "for_heatmap = projects_2017.pivot_table(index='launch_year', columns='launch_month', values='active_project', aggfunc='sum')"
   ]
  },
  {
   "cell_type": "code",
   "execution_count": null,
   "metadata": {
    "slideshow": {
     "slide_type": "subslide"
    }
   },
   "outputs": [],
   "source": [
    "for_heatmap"
   ]
  },
  {
   "cell_type": "code",
   "execution_count": null,
   "metadata": {
    "slideshow": {
     "slide_type": "subslide"
    }
   },
   "outputs": [],
   "source": [
    "g = sns.heatmap(for_heatmap, linewidths=.5, cmap=\"YlGnBu\") # annot=True\n",
    "g.set_title(\"Cantidad de Proyectos por combinacion de Año y Mes\", fontsize=22)\n",
    "g.set_xlabel(\"Mes de Lanzamiento del Proyecto\",fontsize=18)\n",
    "g.set_ylabel(\"Año de Lanzamiento del Proyecto\", fontsize=18)"
   ]
  }
 ],
 "metadata": {
  "celltoolbar": "Slideshow",
  "kernelspec": {
   "display_name": "Python 3",
   "language": "python",
   "name": "python3"
  },
  "language_info": {
   "codemirror_mode": {
    "name": "ipython",
    "version": 3
   },
   "file_extension": ".py",
   "mimetype": "text/x-python",
   "name": "python",
   "nbconvert_exporter": "python",
   "pygments_lexer": "ipython3",
   "version": "3.6.4"
  }
 },
 "nbformat": 4,
 "nbformat_minor": 2
}
