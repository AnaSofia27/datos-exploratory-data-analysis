{
 "cells": [
  {
   "cell_type": "markdown",
   "metadata": {
    "slideshow": {
     "slide_type": "skip"
    }
   },
   "source": [
    "# Introducción al Análisis Exploratorio de Datos con Pandas: Operaciones Avanzadas\n",
    "\n",
    "El objetivo de este notebook es introducir algunas operaciones avanzadas que podemos realizar sobre dataframes. Estas operaciones permitiran convertir completamente el formato del dataframe en cuestion facilitando distintos analisis que podemos realizar sobre los datos asi como visualizaciones.\n"
   ]
  },
  {
   "cell_type": "markdown",
   "metadata": {
    "slideshow": {
     "slide_type": "slide"
    }
   },
   "source": [
    "## Temario\n",
    "\n",
    "Estos son algunos de los temas que intentaremos revisar a lo largo del analisis propuesto\n",
    "\n",
    "- Descripcion del set de datos y analisis general de sus caractericas: Kickstarter Projects.\n",
    "- Analizando propiedades especificas del set de datos\n",
    "- Analizando utilizacion de memoria del dataframe\n",
    "- Conversion de Datos y mejoras en uso de memoria\n",
    "- Manipulando el Data Frame: Reestructurando Datos\n",
    "    - Stack / Unstack\n",
    "    - Pivot Table\n",
    "    - Pivot\n"
   ]
  },
  {
   "cell_type": "code",
   "execution_count": 14,
   "metadata": {
    "slideshow": {
     "slide_type": "skip"
    }
   },
   "outputs": [],
   "source": [
    "# importacion general de librerias y de visualizacion (matplotlib y seaborn)\n",
    "import pandas as pd\n",
    "import numpy as np\n",
    "import matplotlib.pyplot as plt\n",
    "import seaborn as sns\n",
    "\n",
    "%matplotlib inline\n",
    "\n",
    "plt.style.use('default') # haciendo los graficos un poco mas bonitos en matplotlib\n",
    "#plt.rcParams['figure.figsize'] = (20, 10)\n",
    "\n",
    "sns.set(style=\"whitegrid\") # seteando tipo de grid en seaborn\n",
    "\n",
    "pd.options.display.float_format = '{:20,.2f}'.format # suprimimos la notacion cientifica en los outputs\n",
    "\n",
    "import warnings\n",
    "warnings.filterwarnings('ignore')"
   ]
  },
  {
   "cell_type": "markdown",
   "metadata": {
    "slideshow": {
     "slide_type": "slide"
    }
   },
   "source": [
    "## Descripcion del set de datos y analisis general de sus caractericas: Kickstarter Projects\n",
    "\n",
    "Para comenzar a trabajar en la distintas operaciones que podemos realizar con un data frame vamos a trabajar con el siguiente set de datos:\n",
    "\n",
    "[https://www.kaggle.com/kemical/kickstarter-projects/data](https://www.kaggle.com/kemical/kickstarter-projects/data)\n",
    "\n",
    "Este set de datos posee informacion de unos 300000 proyectos de Kickstarter, la popular plataforma de Crowdsourcing. Utilizaremos este set de datos para poder explicar algunos conceptos de reestructuracion de datos que nos seran utiles para nuestros analisis y visualizaciones.\n",
    "\n",
    "En particular el dataset tiene dos archivos, uno con informacion parcial recopilada anteriormente y uno con informacion hasta inicios del 2018 (con el que estaremos trabajando).\n",
    "\n",
    "**Nota Bene:** para aquellos que quieran realizar analisis de los datos anteriores tener en cuenta que el formato de encoding se encuentra en 'Western(windows 1252)' por lo que al realizar la carga con read_csv hay que indicar el encoding como ```encoding='cp1252'```"
   ]
  },
  {
   "cell_type": "markdown",
   "metadata": {
    "slideshow": {
     "slide_type": "skip"
    }
   },
   "source": [
    "### Carga de Informacion en un Dataframe\n",
    "\n",
    "Pandas soporta distintas fuentes de informacion en distintos formatos (desde archivos de csv, excel, hasta fuentes remotas como urls o bases de datos, etc.). En este caso vamos a cargar la informacion desde un CSV que hemos descargado previamente de kaggle. Esto lo podemos hacer con pandas con ```read_csv```. \n",
    "\n",
    "Inicialmente podremos ver parte del data frame para tener idea de la estructura del mismo."
   ]
  },
  {
   "cell_type": "code",
   "execution_count": 6,
   "metadata": {
    "slideshow": {
     "slide_type": "skip"
    }
   },
   "outputs": [
    {
     "data": {
      "text/html": [
       "<div>\n",
       "<style scoped>\n",
       "    .dataframe tbody tr th:only-of-type {\n",
       "        vertical-align: middle;\n",
       "    }\n",
       "\n",
       "    .dataframe tbody tr th {\n",
       "        vertical-align: top;\n",
       "    }\n",
       "\n",
       "    .dataframe thead th {\n",
       "        text-align: right;\n",
       "    }\n",
       "</style>\n",
       "<table border=\"1\" class=\"dataframe\">\n",
       "  <thead>\n",
       "    <tr style=\"text-align: right;\">\n",
       "      <th></th>\n",
       "      <th>ID</th>\n",
       "      <th>name</th>\n",
       "      <th>category</th>\n",
       "      <th>main_category</th>\n",
       "      <th>currency</th>\n",
       "      <th>deadline</th>\n",
       "      <th>goal</th>\n",
       "      <th>launched</th>\n",
       "      <th>pledged</th>\n",
       "      <th>state</th>\n",
       "      <th>backers</th>\n",
       "      <th>country</th>\n",
       "      <th>usd pledged</th>\n",
       "      <th>usd_pledged_real</th>\n",
       "      <th>usd_goal_real</th>\n",
       "    </tr>\n",
       "  </thead>\n",
       "  <tbody>\n",
       "    <tr>\n",
       "      <th>0</th>\n",
       "      <td>1000002330</td>\n",
       "      <td>The Songs of Adelaide &amp; Abullah</td>\n",
       "      <td>Poetry</td>\n",
       "      <td>Publishing</td>\n",
       "      <td>GBP</td>\n",
       "      <td>2015-10-09</td>\n",
       "      <td>1,000.00</td>\n",
       "      <td>2015-08-11 12:12:28</td>\n",
       "      <td>0.00</td>\n",
       "      <td>failed</td>\n",
       "      <td>0</td>\n",
       "      <td>GB</td>\n",
       "      <td>0.00</td>\n",
       "      <td>0.00</td>\n",
       "      <td>1,533.95</td>\n",
       "    </tr>\n",
       "    <tr>\n",
       "      <th>1</th>\n",
       "      <td>1000003930</td>\n",
       "      <td>Greeting From Earth: ZGAC Arts Capsule For ET</td>\n",
       "      <td>Narrative Film</td>\n",
       "      <td>Film &amp; Video</td>\n",
       "      <td>USD</td>\n",
       "      <td>2017-11-01</td>\n",
       "      <td>30,000.00</td>\n",
       "      <td>2017-09-02 04:43:57</td>\n",
       "      <td>2,421.00</td>\n",
       "      <td>failed</td>\n",
       "      <td>15</td>\n",
       "      <td>US</td>\n",
       "      <td>100.00</td>\n",
       "      <td>2,421.00</td>\n",
       "      <td>30,000.00</td>\n",
       "    </tr>\n",
       "    <tr>\n",
       "      <th>2</th>\n",
       "      <td>1000004038</td>\n",
       "      <td>Where is Hank?</td>\n",
       "      <td>Narrative Film</td>\n",
       "      <td>Film &amp; Video</td>\n",
       "      <td>USD</td>\n",
       "      <td>2013-02-26</td>\n",
       "      <td>45,000.00</td>\n",
       "      <td>2013-01-12 00:20:50</td>\n",
       "      <td>220.00</td>\n",
       "      <td>failed</td>\n",
       "      <td>3</td>\n",
       "      <td>US</td>\n",
       "      <td>220.00</td>\n",
       "      <td>220.00</td>\n",
       "      <td>45,000.00</td>\n",
       "    </tr>\n",
       "    <tr>\n",
       "      <th>3</th>\n",
       "      <td>1000007540</td>\n",
       "      <td>ToshiCapital Rekordz Needs Help to Complete Album</td>\n",
       "      <td>Music</td>\n",
       "      <td>Music</td>\n",
       "      <td>USD</td>\n",
       "      <td>2012-04-16</td>\n",
       "      <td>5,000.00</td>\n",
       "      <td>2012-03-17 03:24:11</td>\n",
       "      <td>1.00</td>\n",
       "      <td>failed</td>\n",
       "      <td>1</td>\n",
       "      <td>US</td>\n",
       "      <td>1.00</td>\n",
       "      <td>1.00</td>\n",
       "      <td>5,000.00</td>\n",
       "    </tr>\n",
       "    <tr>\n",
       "      <th>4</th>\n",
       "      <td>1000011046</td>\n",
       "      <td>Community Film Project: The Art of Neighborhoo...</td>\n",
       "      <td>Film &amp; Video</td>\n",
       "      <td>Film &amp; Video</td>\n",
       "      <td>USD</td>\n",
       "      <td>2015-08-29</td>\n",
       "      <td>19,500.00</td>\n",
       "      <td>2015-07-04 08:35:03</td>\n",
       "      <td>1,283.00</td>\n",
       "      <td>canceled</td>\n",
       "      <td>14</td>\n",
       "      <td>US</td>\n",
       "      <td>1,283.00</td>\n",
       "      <td>1,283.00</td>\n",
       "      <td>19,500.00</td>\n",
       "    </tr>\n",
       "  </tbody>\n",
       "</table>\n",
       "</div>"
      ],
      "text/plain": [
       "           ID                                               name  \\\n",
       "0  1000002330                    The Songs of Adelaide & Abullah   \n",
       "1  1000003930      Greeting From Earth: ZGAC Arts Capsule For ET   \n",
       "2  1000004038                                     Where is Hank?   \n",
       "3  1000007540  ToshiCapital Rekordz Needs Help to Complete Album   \n",
       "4  1000011046  Community Film Project: The Art of Neighborhoo...   \n",
       "\n",
       "         category main_category currency    deadline                 goal  \\\n",
       "0          Poetry    Publishing      GBP  2015-10-09             1,000.00   \n",
       "1  Narrative Film  Film & Video      USD  2017-11-01            30,000.00   \n",
       "2  Narrative Film  Film & Video      USD  2013-02-26            45,000.00   \n",
       "3           Music         Music      USD  2012-04-16             5,000.00   \n",
       "4    Film & Video  Film & Video      USD  2015-08-29            19,500.00   \n",
       "\n",
       "              launched              pledged     state  backers country  \\\n",
       "0  2015-08-11 12:12:28                 0.00    failed        0      GB   \n",
       "1  2017-09-02 04:43:57             2,421.00    failed       15      US   \n",
       "2  2013-01-12 00:20:50               220.00    failed        3      US   \n",
       "3  2012-03-17 03:24:11                 1.00    failed        1      US   \n",
       "4  2015-07-04 08:35:03             1,283.00  canceled       14      US   \n",
       "\n",
       "           usd pledged     usd_pledged_real        usd_goal_real  \n",
       "0                 0.00                 0.00             1,533.95  \n",
       "1               100.00             2,421.00            30,000.00  \n",
       "2               220.00               220.00            45,000.00  \n",
       "3                 1.00                 1.00             5,000.00  \n",
       "4             1,283.00             1,283.00            19,500.00  "
      ]
     },
     "execution_count": 6,
     "metadata": {},
     "output_type": "execute_result"
    }
   ],
   "source": [
    "# %timeit sirve para evaluar el tiempo de ejecucion\n",
    "projects_2017 = pd.read_csv('../data/kickstarter-projects/ks-projects-201801.csv')\n",
    "projects_2017.head()"
   ]
  },
  {
   "cell_type": "code",
   "execution_count": 7,
   "metadata": {
    "slideshow": {
     "slide_type": "skip"
    }
   },
   "outputs": [
    {
     "name": "stdout",
     "output_type": "stream",
     "text": [
      "(378661, 15)\n"
     ]
    }
   ],
   "source": [
    "# nos da las dimensiones del data frame (rows x columns)\n",
    "print(projects_2017.shape)"
   ]
  },
  {
   "cell_type": "code",
   "execution_count": 8,
   "metadata": {},
   "outputs": [
    {
     "data": {
      "text/plain": [
       "5679915"
      ]
     },
     "execution_count": 8,
     "metadata": {},
     "output_type": "execute_result"
    }
   ],
   "source": [
    "# en caso de ser una serie devuelve el numero de rows\n",
    "# en caso de ser un dataframe devuelve el numero de rows x el numero de columns \n",
    "projects_2017.size"
   ]
  },
  {
   "cell_type": "code",
   "execution_count": 9,
   "metadata": {},
   "outputs": [
    {
     "data": {
      "text/plain": [
       "ID                  378661\n",
       "name                378657\n",
       "category            378661\n",
       "main_category       378661\n",
       "currency            378661\n",
       "deadline            378661\n",
       "goal                378661\n",
       "launched            378661\n",
       "pledged             378661\n",
       "state               378661\n",
       "backers             378661\n",
       "country             378661\n",
       "usd pledged         374864\n",
       "usd_pledged_real    378661\n",
       "usd_goal_real       378661\n",
       "dtype: int64"
      ]
     },
     "execution_count": 9,
     "metadata": {},
     "output_type": "execute_result"
    }
   ],
   "source": [
    "# podemos contar la cantidad de elementos elementos no nulos en el data frame\n",
    "projects_2017.count()"
   ]
  },
  {
   "cell_type": "code",
   "execution_count": 10,
   "metadata": {
    "slideshow": {
     "slide_type": "subslide"
    }
   },
   "outputs": [
    {
     "data": {
      "text/plain": [
       "numpy.int64"
      ]
     },
     "execution_count": 10,
     "metadata": {},
     "output_type": "execute_result"
    }
   ],
   "source": [
    "type(projects_2017[\"usd pledged\"].count())"
   ]
  },
  {
   "cell_type": "markdown",
   "metadata": {
    "slideshow": {
     "slide_type": "slide"
    }
   },
   "source": [
    "### Analizando propiedades especificas del set de datos"
   ]
  },
  {
   "cell_type": "markdown",
   "metadata": {
    "slideshow": {
     "slide_type": "subslide"
    }
   },
   "source": [
    "Para poder comenzar a orientar nuestro analisis podemos por ejemplo querer comenzar a analizar algunas variables que nos interesan para aplicar en nuestros analisis.\n",
    "Podemos por ejemplo comenzar las **categorias disponibles principales**"
   ]
  },
  {
   "cell_type": "code",
   "execution_count": 15,
   "metadata": {},
   "outputs": [],
   "source": [
    "main_categories = projects_2017['main_category']"
   ]
  },
  {
   "cell_type": "code",
   "execution_count": 16,
   "metadata": {},
   "outputs": [
    {
     "data": {
      "text/plain": [
       "pandas.core.series.Series"
      ]
     },
     "execution_count": 16,
     "metadata": {},
     "output_type": "execute_result"
    }
   ],
   "source": [
    "type(main_categories)"
   ]
  },
  {
   "cell_type": "code",
   "execution_count": 17,
   "metadata": {
    "slideshow": {
     "slide_type": "subslide"
    }
   },
   "outputs": [
    {
     "data": {
      "text/plain": [
       "Film & Video    63585\n",
       "Music           51918\n",
       "Publishing      39874\n",
       "Games           35231\n",
       "Technology      32569\n",
       "Design          30070\n",
       "Art             28153\n",
       "Food            24602\n",
       "Fashion         22816\n",
       "Theater         10913\n",
       "Comics          10819\n",
       "Photography     10779\n",
       "Crafts           8809\n",
       "Journalism       4755\n",
       "Dance            3768\n",
       "Name: main_category, dtype: int64"
      ]
     },
     "execution_count": 17,
     "metadata": {},
     "output_type": "execute_result"
    }
   ],
   "source": [
    "# de esta forma obtenemos la cantidad de valores que hay para cada una de las main_categories \n",
    "# contando los proyectos por categoria principal\n",
    "main_categories.value_counts()"
   ]
  },
  {
   "cell_type": "markdown",
   "metadata": {
    "slideshow": {
     "slide_type": "subslide"
    }
   },
   "source": [
    "Tambien podemos interesarnos en ver los posibles valores que podemos tener de **estados de un proyectos**"
   ]
  },
  {
   "cell_type": "code",
   "execution_count": 18,
   "metadata": {
    "slideshow": {
     "slide_type": "subslide"
    }
   },
   "outputs": [
    {
     "data": {
      "text/plain": [
       "failed        197719\n",
       "successful    133956\n",
       "canceled       38779\n",
       "undefined       3562\n",
       "live            2799\n",
       "suspended       1846\n",
       "Name: state, dtype: int64"
      ]
     },
     "execution_count": 18,
     "metadata": {},
     "output_type": "execute_result"
    }
   ],
   "source": [
    "states = projects_2017['state']\n",
    "states.value_counts()"
   ]
  },
  {
   "cell_type": "markdown",
   "metadata": {
    "slideshow": {
     "slide_type": "subslide"
    }
   },
   "source": [
    "En ambos casos, podemos considerar a las variables como categoricas que podremos usar para nuestro analisis, las cuales podremos utilizar para agrupar o dividir informacion, o filtrar informacion a considerar en el mismo.\n"
   ]
  },
  {
   "cell_type": "markdown",
   "metadata": {
    "slideshow": {
     "slide_type": "subslide"
    }
   },
   "source": [
    "por otro lado podemos analizar la columna **launched** para entender su uso en el data set."
   ]
  },
  {
   "cell_type": "code",
   "execution_count": 19,
   "metadata": {
    "slideshow": {
     "slide_type": "subslide"
    }
   },
   "outputs": [
    {
     "data": {
      "text/plain": [
       "0    2015-08-11 12:12:28\n",
       "1    2017-09-02 04:43:57\n",
       "2    2013-01-12 00:20:50\n",
       "3    2012-03-17 03:24:11\n",
       "4    2015-07-04 08:35:03\n",
       "Name: launched, dtype: object"
      ]
     },
     "execution_count": 19,
     "metadata": {},
     "output_type": "execute_result"
    }
   ],
   "source": [
    "projects_2017['launched'].head()"
   ]
  },
  {
   "cell_type": "code",
   "execution_count": 20,
   "metadata": {
    "slideshow": {
     "slide_type": "subslide"
    }
   },
   "outputs": [],
   "source": [
    "# generamos nuevas columnas seteando el tipo datetime\n",
    "projects_2017['launched_datetime'] = pd.to_datetime(projects_2017['launched'])\n",
    "# generamos una nueva columna obteniendo el año, esto los usuaremos en visualizacion.\n",
    "projects_2017['year'] = projects_2017['launched_datetime'].dt.year\n"
   ]
  },
  {
   "cell_type": "code",
   "execution_count": 21,
   "metadata": {},
   "outputs": [
    {
     "name": "stdout",
     "output_type": "stream",
     "text": [
      "<class 'pandas.core.frame.DataFrame'>\n",
      "RangeIndex: 378661 entries, 0 to 378660\n",
      "Data columns (total 17 columns):\n",
      " #   Column             Non-Null Count   Dtype         \n",
      "---  ------             --------------   -----         \n",
      " 0   ID                 378661 non-null  int64         \n",
      " 1   name               378657 non-null  object        \n",
      " 2   category           378661 non-null  object        \n",
      " 3   main_category      378661 non-null  object        \n",
      " 4   currency           378661 non-null  object        \n",
      " 5   deadline           378661 non-null  object        \n",
      " 6   goal               378661 non-null  float64       \n",
      " 7   launched           378661 non-null  object        \n",
      " 8   pledged            378661 non-null  float64       \n",
      " 9   state              378661 non-null  object        \n",
      " 10  backers            378661 non-null  int64         \n",
      " 11  country            378661 non-null  object        \n",
      " 12  usd pledged        374864 non-null  float64       \n",
      " 13  usd_pledged_real   378661 non-null  float64       \n",
      " 14  usd_goal_real      378661 non-null  float64       \n",
      " 15  launched_datetime  378661 non-null  datetime64[ns]\n",
      " 16  year               378661 non-null  int64         \n",
      "dtypes: datetime64[ns](1), float64(5), int64(3), object(8)\n",
      "memory usage: 49.1+ MB\n"
     ]
    }
   ],
   "source": [
    "projects_2017.info()"
   ]
  },
  {
   "cell_type": "code",
   "execution_count": 22,
   "metadata": {
    "slideshow": {
     "slide_type": "subslide"
    }
   },
   "outputs": [
    {
     "data": {
      "text/plain": [
       "2015    77300\n",
       "2014    67745\n",
       "2016    57184\n",
       "2017    52200\n",
       "2013    44851\n",
       "2012    41165\n",
       "2011    26237\n",
       "2010    10519\n",
       "2009     1329\n",
       "2018      124\n",
       "1970        7\n",
       "Name: year, dtype: int64"
      ]
     },
     "execution_count": 22,
     "metadata": {},
     "output_type": "execute_result"
    }
   ],
   "source": [
    "projects_2017['year'].value_counts()"
   ]
  },
  {
   "cell_type": "markdown",
   "metadata": {
    "slideshow": {
     "slide_type": "subslide"
    }
   },
   "source": [
    "La cual podemos ver que nos indica la fecha de lanzamiento del proyecto y que podremos utilizar para desarrollar analisis de series de tiempo.\n",
    "\n",
    "Haciendo un analisis de algunas de las otras variables podemos tambien llegar a la conclusion de lo que representan las siguientes variables:\n",
    "\n",
    "- **Goal**: Objetivo a obtener de recaudacion para un proyecto\n",
    "- **Pledged**: Cantidad recaudada para un proyecto\n",
    "- **Backers**: Cantidad de personas que invirtieron en el proyecto."
   ]
  },
  {
   "cell_type": "markdown",
   "metadata": {
    "slideshow": {
     "slide_type": "slide"
    }
   },
   "source": [
    "### Analizando utilizacion de memoria del dataframe\n",
    "\n",
    "Es posible realizar un analisis de utilizacion de memoria del data frame para poder realizar mejoras en el uso de recursos."
   ]
  },
  {
   "cell_type": "code",
   "execution_count": 375,
   "metadata": {
    "slideshow": {
     "slide_type": "skip"
    }
   },
   "outputs": [
    {
     "data": {
      "text/plain": [
       "ID                            int64\n",
       "name                         object\n",
       "category                     object\n",
       "main_category                object\n",
       "currency                     object\n",
       "deadline                     object\n",
       "goal                        float64\n",
       "launched                     object\n",
       "pledged                     float64\n",
       "state                        object\n",
       "backers                       int64\n",
       "country                      object\n",
       "usd pledged                 float64\n",
       "usd_pledged_real            float64\n",
       "usd_goal_real               float64\n",
       "launched_datetime    datetime64[ns]\n",
       "year                          int64\n",
       "dtype: object"
      ]
     },
     "execution_count": 375,
     "metadata": {},
     "output_type": "execute_result"
    }
   ],
   "source": [
    "# si especificamente queremos saber los datatypes que estamos utilizando.\n",
    "# y por ejemplo decidir setear algunos especificamente en carga\n",
    "projects_2017.dtypes"
   ]
  },
  {
   "cell_type": "code",
   "execution_count": 376,
   "metadata": {
    "slideshow": {
     "slide_type": "subslide"
    }
   },
   "outputs": [
    {
     "name": "stdout",
     "output_type": "stream",
     "text": [
      "<class 'pandas.core.frame.DataFrame'>\n",
      "RangeIndex: 378661 entries, 0 to 378660\n",
      "Data columns (total 17 columns):\n",
      "ID                   378661 non-null int64\n",
      "name                 378657 non-null object\n",
      "category             378661 non-null object\n",
      "main_category        378661 non-null object\n",
      "currency             378661 non-null object\n",
      "deadline             378661 non-null object\n",
      "goal                 378661 non-null float64\n",
      "launched             378661 non-null object\n",
      "pledged              378661 non-null float64\n",
      "state                378661 non-null object\n",
      "backers              378661 non-null int64\n",
      "country              378661 non-null object\n",
      "usd pledged          374864 non-null float64\n",
      "usd_pledged_real     378661 non-null float64\n",
      "usd_goal_real        378661 non-null float64\n",
      "launched_datetime    378661 non-null datetime64[ns]\n",
      "year                 378661 non-null int64\n",
      "dtypes: datetime64[ns](1), float64(5), int64(3), object(8)\n",
      "memory usage: 49.1+ MB\n"
     ]
    }
   ],
   "source": [
    "# veamos la informacion general del dataframe con info()\n",
    "# nos brinda informacion de la cantidad de rows, si tiene campos nulos y el tipo\n",
    "projects_2017.info()"
   ]
  },
  {
   "cell_type": "code",
   "execution_count": 377,
   "metadata": {
    "slideshow": {
     "slide_type": "subslide"
    }
   },
   "outputs": [
    {
     "data": {
      "text/plain": [
       "49.112342834472656"
      ]
     },
     "execution_count": 377,
     "metadata": {},
     "output_type": "execute_result"
    }
   ],
   "source": [
    "# indica el uso en bytes de cada columna en bytes\n",
    "# la opcion deep no permite analizar en profundidad el uso que se esta haciendo de memoria a nivel sistema\n",
    "#projects_2017.memory_usage(deep=False)\n",
    "(projects_2017.memory_usage() / (1024 * 1024)).sum()"
   ]
  },
  {
   "cell_type": "markdown",
   "metadata": {
    "slideshow": {
     "slide_type": "slide"
    }
   },
   "source": [
    "Al contar con informacion sobre las columnas del dataframe o analizandolas podemos hacer mejoras en el uso de los tipos del dataframe de tal forma de optimizar el uso de memoria. Los dtypes usados por pandas son esencialmente los dtypes de NumPy."
   ]
  },
  {
   "cell_type": "markdown",
   "metadata": {
    "slideshow": {
     "slide_type": "slide"
    }
   },
   "source": [
    "### Conversion de Datos y mejoras en uso de memoria"
   ]
  },
  {
   "cell_type": "code",
   "execution_count": 378,
   "metadata": {
    "slideshow": {
     "slide_type": "subslide"
    }
   },
   "outputs": [
    {
     "data": {
      "text/plain": [
       "CategoricalDtype(categories=['Art', 'Comics', 'Crafts', 'Dance', 'Design', 'Fashion',\n",
       "                  'Film & Video', 'Food', 'Games', 'Journalism', 'Music',\n",
       "                  'Photography', 'Publishing', 'Technology', 'Theater'],\n",
       "                 ordered=False)"
      ]
     },
     "execution_count": 378,
     "metadata": {},
     "output_type": "execute_result"
    }
   ],
   "source": [
    "# por ejemplo podriamos castear especificamente una serie a un tipo categorico y verificar su dtype\n",
    "# esto reduce mucho la utilizacion de memoria.\n",
    "#main_categories\n",
    "main_categories.astype('category').dtypes"
   ]
  },
  {
   "cell_type": "code",
   "execution_count": 379,
   "metadata": {
    "slideshow": {
     "slide_type": "subslide"
    }
   },
   "outputs": [
    {
     "data": {
      "text/plain": [
       "Index                    128\n",
       "ID                   3029288\n",
       "name                 3029288\n",
       "category             3029288\n",
       "main_category         379421\n",
       "currency             3029288\n",
       "deadline             3029288\n",
       "goal                 3029288\n",
       "launched             3029288\n",
       "pledged              3029288\n",
       "state                3029288\n",
       "backers              3029288\n",
       "country              3029288\n",
       "usd pledged          3029288\n",
       "usd_pledged_real     3029288\n",
       "usd_goal_real        3029288\n",
       "launched_datetime    3029288\n",
       "year                 3029288\n",
       "dtype: int64"
      ]
     },
     "execution_count": 379,
     "metadata": {},
     "output_type": "execute_result"
    }
   ],
   "source": [
    "# lo realiza sobre una columna del dataframe especifico\n",
    "# considerar que devuelve una copia, ver el parametro 'copy'\n",
    "#projects_2017.astype({'main_category':'category'}).dtypes\n",
    "projects_2017.astype({'main_category':'category'}).memory_usage()"
   ]
  },
  {
   "cell_type": "code",
   "execution_count": 380,
   "metadata": {
    "slideshow": {
     "slide_type": "subslide"
    }
   },
   "outputs": [],
   "source": [
    "# otra forma de realizarlo es indicar en lectura de la fuente de datos los tipos\n",
    "projects = pd.read_csv('../data/kickstarter-projects/ks-projects-201801.csv', \\\n",
    "                            dtype={'main_category':'category','category':'category',\\\n",
    "                                   'country':'category'})"
   ]
  },
  {
   "cell_type": "code",
   "execution_count": 381,
   "metadata": {
    "slideshow": {
     "slide_type": "subslide"
    }
   },
   "outputs": [
    {
     "name": "stdout",
     "output_type": "stream",
     "text": [
      "<class 'pandas.core.frame.DataFrame'>\n",
      "RangeIndex: 378661 entries, 0 to 378660\n",
      "Data columns (total 15 columns):\n",
      "ID                  378661 non-null int64\n",
      "name                378657 non-null object\n",
      "category            378661 non-null category\n",
      "main_category       378661 non-null category\n",
      "currency            378661 non-null object\n",
      "deadline            378661 non-null object\n",
      "goal                378661 non-null float64\n",
      "launched            378661 non-null object\n",
      "pledged             378661 non-null float64\n",
      "state               378661 non-null object\n",
      "backers             378661 non-null int64\n",
      "country             378661 non-null category\n",
      "usd pledged         374864 non-null float64\n",
      "usd_pledged_real    378661 non-null float64\n",
      "usd_goal_real       378661 non-null float64\n",
      "dtypes: category(3), float64(5), int64(2), object(5)\n",
      "memory usage: 36.1+ MB\n"
     ]
    }
   ],
   "source": [
    "projects.info()"
   ]
  },
  {
   "cell_type": "code",
   "execution_count": 382,
   "metadata": {
    "slideshow": {
     "slide_type": "subslide"
    }
   },
   "outputs": [
    {
     "data": {
      "text/plain": [
       "Index                   128\n",
       "ID                  3029288\n",
       "name                3029288\n",
       "category             763714\n",
       "main_category        379421\n",
       "currency            3029288\n",
       "deadline            3029288\n",
       "goal                3029288\n",
       "launched            3029288\n",
       "pledged             3029288\n",
       "state               3029288\n",
       "backers             3029288\n",
       "country              379485\n",
       "usd pledged         3029288\n",
       "usd_pledged_real    3029288\n",
       "usd_goal_real       3029288\n",
       "dtype: int64"
      ]
     },
     "execution_count": 382,
     "metadata": {},
     "output_type": "execute_result"
    }
   ],
   "source": [
    "projects.memory_usage()"
   ]
  },
  {
   "cell_type": "code",
   "execution_count": 383,
   "metadata": {
    "slideshow": {
     "slide_type": "subslide"
    }
   },
   "outputs": [
    {
     "data": {
      "text/html": [
       "<div>\n",
       "<style scoped>\n",
       "    .dataframe tbody tr th:only-of-type {\n",
       "        vertical-align: middle;\n",
       "    }\n",
       "\n",
       "    .dataframe tbody tr th {\n",
       "        vertical-align: top;\n",
       "    }\n",
       "\n",
       "    .dataframe thead th {\n",
       "        text-align: right;\n",
       "    }\n",
       "</style>\n",
       "<table border=\"1\" class=\"dataframe\">\n",
       "  <thead>\n",
       "    <tr style=\"text-align: right;\">\n",
       "      <th></th>\n",
       "      <th>ID</th>\n",
       "      <th>goal</th>\n",
       "      <th>pledged</th>\n",
       "      <th>backers</th>\n",
       "      <th>usd pledged</th>\n",
       "      <th>usd_pledged_real</th>\n",
       "      <th>usd_goal_real</th>\n",
       "    </tr>\n",
       "  </thead>\n",
       "  <tbody>\n",
       "    <tr>\n",
       "      <td>0</td>\n",
       "      <td>1000002330</td>\n",
       "      <td>1,000.00</td>\n",
       "      <td>0.00</td>\n",
       "      <td>0</td>\n",
       "      <td>0.00</td>\n",
       "      <td>0.00</td>\n",
       "      <td>1,533.95</td>\n",
       "    </tr>\n",
       "    <tr>\n",
       "      <td>1</td>\n",
       "      <td>1000003930</td>\n",
       "      <td>30,000.00</td>\n",
       "      <td>2,421.00</td>\n",
       "      <td>15</td>\n",
       "      <td>100.00</td>\n",
       "      <td>2,421.00</td>\n",
       "      <td>30,000.00</td>\n",
       "    </tr>\n",
       "    <tr>\n",
       "      <td>2</td>\n",
       "      <td>1000004038</td>\n",
       "      <td>45,000.00</td>\n",
       "      <td>220.00</td>\n",
       "      <td>3</td>\n",
       "      <td>220.00</td>\n",
       "      <td>220.00</td>\n",
       "      <td>45,000.00</td>\n",
       "    </tr>\n",
       "    <tr>\n",
       "      <td>3</td>\n",
       "      <td>1000007540</td>\n",
       "      <td>5,000.00</td>\n",
       "      <td>1.00</td>\n",
       "      <td>1</td>\n",
       "      <td>1.00</td>\n",
       "      <td>1.00</td>\n",
       "      <td>5,000.00</td>\n",
       "    </tr>\n",
       "    <tr>\n",
       "      <td>4</td>\n",
       "      <td>1000011046</td>\n",
       "      <td>19,500.00</td>\n",
       "      <td>1,283.00</td>\n",
       "      <td>14</td>\n",
       "      <td>1,283.00</td>\n",
       "      <td>1,283.00</td>\n",
       "      <td>19,500.00</td>\n",
       "    </tr>\n",
       "    <tr>\n",
       "      <td>...</td>\n",
       "      <td>...</td>\n",
       "      <td>...</td>\n",
       "      <td>...</td>\n",
       "      <td>...</td>\n",
       "      <td>...</td>\n",
       "      <td>...</td>\n",
       "      <td>...</td>\n",
       "    </tr>\n",
       "    <tr>\n",
       "      <td>378656</td>\n",
       "      <td>999976400</td>\n",
       "      <td>50,000.00</td>\n",
       "      <td>25.00</td>\n",
       "      <td>1</td>\n",
       "      <td>25.00</td>\n",
       "      <td>25.00</td>\n",
       "      <td>50,000.00</td>\n",
       "    </tr>\n",
       "    <tr>\n",
       "      <td>378657</td>\n",
       "      <td>999977640</td>\n",
       "      <td>1,500.00</td>\n",
       "      <td>155.00</td>\n",
       "      <td>5</td>\n",
       "      <td>155.00</td>\n",
       "      <td>155.00</td>\n",
       "      <td>1,500.00</td>\n",
       "    </tr>\n",
       "    <tr>\n",
       "      <td>378658</td>\n",
       "      <td>999986353</td>\n",
       "      <td>15,000.00</td>\n",
       "      <td>20.00</td>\n",
       "      <td>1</td>\n",
       "      <td>20.00</td>\n",
       "      <td>20.00</td>\n",
       "      <td>15,000.00</td>\n",
       "    </tr>\n",
       "    <tr>\n",
       "      <td>378659</td>\n",
       "      <td>999987933</td>\n",
       "      <td>15,000.00</td>\n",
       "      <td>200.00</td>\n",
       "      <td>6</td>\n",
       "      <td>200.00</td>\n",
       "      <td>200.00</td>\n",
       "      <td>15,000.00</td>\n",
       "    </tr>\n",
       "    <tr>\n",
       "      <td>378660</td>\n",
       "      <td>999988282</td>\n",
       "      <td>2,000.00</td>\n",
       "      <td>524.00</td>\n",
       "      <td>17</td>\n",
       "      <td>524.00</td>\n",
       "      <td>524.00</td>\n",
       "      <td>2,000.00</td>\n",
       "    </tr>\n",
       "  </tbody>\n",
       "</table>\n",
       "<p>378661 rows × 7 columns</p>\n",
       "</div>"
      ],
      "text/plain": [
       "                ID                 goal              pledged  backers  \\\n",
       "0       1000002330             1,000.00                 0.00        0   \n",
       "1       1000003930            30,000.00             2,421.00       15   \n",
       "2       1000004038            45,000.00               220.00        3   \n",
       "3       1000007540             5,000.00                 1.00        1   \n",
       "4       1000011046            19,500.00             1,283.00       14   \n",
       "...            ...                  ...                  ...      ...   \n",
       "378656   999976400            50,000.00                25.00        1   \n",
       "378657   999977640             1,500.00               155.00        5   \n",
       "378658   999986353            15,000.00                20.00        1   \n",
       "378659   999987933            15,000.00               200.00        6   \n",
       "378660   999988282             2,000.00               524.00       17   \n",
       "\n",
       "                usd pledged     usd_pledged_real        usd_goal_real  \n",
       "0                      0.00                 0.00             1,533.95  \n",
       "1                    100.00             2,421.00            30,000.00  \n",
       "2                    220.00               220.00            45,000.00  \n",
       "3                      1.00                 1.00             5,000.00  \n",
       "4                  1,283.00             1,283.00            19,500.00  \n",
       "...                     ...                  ...                  ...  \n",
       "378656                25.00                25.00            50,000.00  \n",
       "378657               155.00               155.00             1,500.00  \n",
       "378658                20.00                20.00            15,000.00  \n",
       "378659               200.00               200.00            15,000.00  \n",
       "378660               524.00               524.00             2,000.00  \n",
       "\n",
       "[378661 rows x 7 columns]"
      ]
     },
     "execution_count": 383,
     "metadata": {},
     "output_type": "execute_result"
    }
   ],
   "source": [
    "# devuelve solo las columnas de tipo numerico\n",
    "projects.select_dtypes('number')"
   ]
  },
  {
   "cell_type": "code",
   "execution_count": 384,
   "metadata": {
    "slideshow": {
     "slide_type": "subslide"
    }
   },
   "outputs": [
    {
     "data": {
      "text/html": [
       "<div>\n",
       "<style scoped>\n",
       "    .dataframe tbody tr th:only-of-type {\n",
       "        vertical-align: middle;\n",
       "    }\n",
       "\n",
       "    .dataframe tbody tr th {\n",
       "        vertical-align: top;\n",
       "    }\n",
       "\n",
       "    .dataframe thead th {\n",
       "        text-align: right;\n",
       "    }\n",
       "</style>\n",
       "<table border=\"1\" class=\"dataframe\">\n",
       "  <thead>\n",
       "    <tr style=\"text-align: right;\">\n",
       "      <th></th>\n",
       "      <th>category</th>\n",
       "      <th>main_category</th>\n",
       "      <th>country</th>\n",
       "    </tr>\n",
       "  </thead>\n",
       "  <tbody>\n",
       "    <tr>\n",
       "      <td>0</td>\n",
       "      <td>Poetry</td>\n",
       "      <td>Publishing</td>\n",
       "      <td>GB</td>\n",
       "    </tr>\n",
       "    <tr>\n",
       "      <td>1</td>\n",
       "      <td>Narrative Film</td>\n",
       "      <td>Film &amp; Video</td>\n",
       "      <td>US</td>\n",
       "    </tr>\n",
       "    <tr>\n",
       "      <td>2</td>\n",
       "      <td>Narrative Film</td>\n",
       "      <td>Film &amp; Video</td>\n",
       "      <td>US</td>\n",
       "    </tr>\n",
       "    <tr>\n",
       "      <td>3</td>\n",
       "      <td>Music</td>\n",
       "      <td>Music</td>\n",
       "      <td>US</td>\n",
       "    </tr>\n",
       "    <tr>\n",
       "      <td>4</td>\n",
       "      <td>Film &amp; Video</td>\n",
       "      <td>Film &amp; Video</td>\n",
       "      <td>US</td>\n",
       "    </tr>\n",
       "    <tr>\n",
       "      <td>...</td>\n",
       "      <td>...</td>\n",
       "      <td>...</td>\n",
       "      <td>...</td>\n",
       "    </tr>\n",
       "    <tr>\n",
       "      <td>378656</td>\n",
       "      <td>Documentary</td>\n",
       "      <td>Film &amp; Video</td>\n",
       "      <td>US</td>\n",
       "    </tr>\n",
       "    <tr>\n",
       "      <td>378657</td>\n",
       "      <td>Narrative Film</td>\n",
       "      <td>Film &amp; Video</td>\n",
       "      <td>US</td>\n",
       "    </tr>\n",
       "    <tr>\n",
       "      <td>378658</td>\n",
       "      <td>Narrative Film</td>\n",
       "      <td>Film &amp; Video</td>\n",
       "      <td>US</td>\n",
       "    </tr>\n",
       "    <tr>\n",
       "      <td>378659</td>\n",
       "      <td>Technology</td>\n",
       "      <td>Technology</td>\n",
       "      <td>US</td>\n",
       "    </tr>\n",
       "    <tr>\n",
       "      <td>378660</td>\n",
       "      <td>Performance Art</td>\n",
       "      <td>Art</td>\n",
       "      <td>US</td>\n",
       "    </tr>\n",
       "  </tbody>\n",
       "</table>\n",
       "<p>378661 rows × 3 columns</p>\n",
       "</div>"
      ],
      "text/plain": [
       "               category main_category country\n",
       "0                Poetry    Publishing      GB\n",
       "1        Narrative Film  Film & Video      US\n",
       "2        Narrative Film  Film & Video      US\n",
       "3                 Music         Music      US\n",
       "4          Film & Video  Film & Video      US\n",
       "...                 ...           ...     ...\n",
       "378656      Documentary  Film & Video      US\n",
       "378657   Narrative Film  Film & Video      US\n",
       "378658   Narrative Film  Film & Video      US\n",
       "378659       Technology    Technology      US\n",
       "378660  Performance Art           Art      US\n",
       "\n",
       "[378661 rows x 3 columns]"
      ]
     },
     "execution_count": 384,
     "metadata": {},
     "output_type": "execute_result"
    }
   ],
   "source": [
    "# devuelve solo las columnas de tipo categorico que inicializamos en el dataframe\n",
    "projects.select_dtypes('category')"
   ]
  },
  {
   "cell_type": "code",
   "execution_count": 385,
   "metadata": {},
   "outputs": [
    {
     "data": {
      "text/plain": [
       "Film & Video    63585\n",
       "Music           51918\n",
       "Publishing      39874\n",
       "Games           35231\n",
       "Technology      32569\n",
       "Design          30070\n",
       "Art             28153\n",
       "Food            24602\n",
       "Fashion         22816\n",
       "Theater         10913\n",
       "Comics          10819\n",
       "Photography     10779\n",
       "Crafts           8809\n",
       "Journalism       4755\n",
       "Dance            3768\n",
       "Name: main_category, dtype: int64"
      ]
     },
     "execution_count": 385,
     "metadata": {},
     "output_type": "execute_result"
    }
   ],
   "source": [
    "main_categories.value_counts()"
   ]
  },
  {
   "cell_type": "code",
   "execution_count": 386,
   "metadata": {
    "slideshow": {
     "slide_type": "subslide"
    }
   },
   "outputs": [
    {
     "name": "stdout",
     "output_type": "stream",
     "text": [
      "[63585, 51918, 39874, 35231, 32569, 30070, 28153, 24602, 22816, 10913, 10819, 10779, 8809, 4755, 3768]\n",
      "<class 'list'>\n"
     ]
    }
   ],
   "source": [
    "# conversion de pd.Series a python list\n",
    "counts = main_categories.value_counts().tolist()\n",
    "print(counts)\n",
    "print(type(counts))"
   ]
  },
  {
   "cell_type": "code",
   "execution_count": 387,
   "metadata": {},
   "outputs": [
    {
     "data": {
      "text/plain": [
       "Index(['Film & Video', 'Music', 'Publishing', 'Games', 'Technology', 'Design',\n",
       "       'Art', 'Food', 'Fashion', 'Theater', 'Comics', 'Photography', 'Crafts',\n",
       "       'Journalism', 'Dance'],\n",
       "      dtype='object')"
      ]
     },
     "execution_count": 387,
     "metadata": {},
     "output_type": "execute_result"
    }
   ],
   "source": [
    "main_categories.value_counts().index"
   ]
  },
  {
   "cell_type": "code",
   "execution_count": 388,
   "metadata": {
    "slideshow": {
     "slide_type": "subslide"
    }
   },
   "outputs": [
    {
     "data": {
      "text/html": [
       "<div>\n",
       "<style scoped>\n",
       "    .dataframe tbody tr th:only-of-type {\n",
       "        vertical-align: middle;\n",
       "    }\n",
       "\n",
       "    .dataframe tbody tr th {\n",
       "        vertical-align: top;\n",
       "    }\n",
       "\n",
       "    .dataframe thead th {\n",
       "        text-align: right;\n",
       "    }\n",
       "</style>\n",
       "<table border=\"1\" class=\"dataframe\">\n",
       "  <thead>\n",
       "    <tr style=\"text-align: right;\">\n",
       "      <th></th>\n",
       "      <th>main_category</th>\n",
       "    </tr>\n",
       "  </thead>\n",
       "  <tbody>\n",
       "    <tr>\n",
       "      <td>0</td>\n",
       "      <td>Publishing</td>\n",
       "    </tr>\n",
       "    <tr>\n",
       "      <td>1</td>\n",
       "      <td>Film &amp; Video</td>\n",
       "    </tr>\n",
       "    <tr>\n",
       "      <td>2</td>\n",
       "      <td>Film &amp; Video</td>\n",
       "    </tr>\n",
       "    <tr>\n",
       "      <td>3</td>\n",
       "      <td>Music</td>\n",
       "    </tr>\n",
       "    <tr>\n",
       "      <td>4</td>\n",
       "      <td>Film &amp; Video</td>\n",
       "    </tr>\n",
       "    <tr>\n",
       "      <td>...</td>\n",
       "      <td>...</td>\n",
       "    </tr>\n",
       "    <tr>\n",
       "      <td>378656</td>\n",
       "      <td>Film &amp; Video</td>\n",
       "    </tr>\n",
       "    <tr>\n",
       "      <td>378657</td>\n",
       "      <td>Film &amp; Video</td>\n",
       "    </tr>\n",
       "    <tr>\n",
       "      <td>378658</td>\n",
       "      <td>Film &amp; Video</td>\n",
       "    </tr>\n",
       "    <tr>\n",
       "      <td>378659</td>\n",
       "      <td>Technology</td>\n",
       "    </tr>\n",
       "    <tr>\n",
       "      <td>378660</td>\n",
       "      <td>Art</td>\n",
       "    </tr>\n",
       "  </tbody>\n",
       "</table>\n",
       "<p>378661 rows × 1 columns</p>\n",
       "</div>"
      ],
      "text/plain": [
       "       main_category\n",
       "0         Publishing\n",
       "1       Film & Video\n",
       "2       Film & Video\n",
       "3              Music\n",
       "4       Film & Video\n",
       "...              ...\n",
       "378656  Film & Video\n",
       "378657  Film & Video\n",
       "378658  Film & Video\n",
       "378659    Technology\n",
       "378660           Art\n",
       "\n",
       "[378661 rows x 1 columns]"
      ]
     },
     "execution_count": 388,
     "metadata": {},
     "output_type": "execute_result"
    }
   ],
   "source": [
    "# conversion de pd.Series a pd.DataFrame\n",
    "main_categories.to_frame()"
   ]
  },
  {
   "cell_type": "markdown",
   "metadata": {},
   "source": [
    "## Reestructurando Datos\n",
    "\n",
    "Para poder trabajar con nuestro set de datos es importante darle importancia a como se encuentran estructurados/presentados para poder facilitar nuestro analisis. Para ello tres principios basicos son de importancia:\n",
    "\n",
    "- Cada variable conforma una columna\n",
    "- Cada observacion representa una fila\n",
    "- Cada tipo de conjunto/unidad de observaciones conforma una tabla\n",
    "\n",
    "Para facilitar esto estaremos usando algunas funciones como:\n",
    "\n",
    "- stack\n",
    "- unstack\n",
    "- pivot_table\n"
   ]
  },
  {
   "cell_type": "markdown",
   "metadata": {},
   "source": [
    "### Stack y Unstack\n",
    "\n",
    "Esta funcion fue nombrada por una analogia con una coleccion de libros que es reorganizada estando lado a lado en posicion horizontal (las columnas de un data frame) a estar apilados verticalmente uno encima del otro (en el indice del DataFrame).\n",
    "\n",
    "Asumamos que tenemos un DataFrame con MultiIndices on las filas y columnas. Realizar un Stacking de un DataFrame significa mover el indice por columna mas interno del DataFrame para que se convierta en el indice por fila mas interno del DataFrame resultante (algo asi como rotar y pivotear).\n",
    "\n",
    "La operacion inversa se llama unstacking. Esto significa mover el indice por fila mas interno del DataFrame para que se convierta en el indice por columna mas interno del DataFrame resultante.\n",
    "\n",
    "En la siguiente representacion grafica se puede entender mas claramente:\n",
    "\n",
    "![title](img/stack-unstack1.png)\n",
    "\n",
    "Podemos entonces trabajar con los siguientes ejemplos"
   ]
  },
  {
   "cell_type": "code",
   "execution_count": 23,
   "metadata": {},
   "outputs": [],
   "source": [
    "projects_by_main_category = projects_2017.groupby('main_category')\\\n",
    "    .agg({'backers':['mean','sum'],'pledged':'mean',\\\n",
    "          'goal':'mean', 'category': 'count'}) "
   ]
  },
  {
   "cell_type": "code",
   "execution_count": 24,
   "metadata": {},
   "outputs": [
    {
     "data": {
      "text/html": [
       "<div>\n",
       "<style scoped>\n",
       "    .dataframe tbody tr th:only-of-type {\n",
       "        vertical-align: middle;\n",
       "    }\n",
       "\n",
       "    .dataframe tbody tr th {\n",
       "        vertical-align: top;\n",
       "    }\n",
       "\n",
       "    .dataframe thead tr th {\n",
       "        text-align: left;\n",
       "    }\n",
       "\n",
       "    .dataframe thead tr:last-of-type th {\n",
       "        text-align: right;\n",
       "    }\n",
       "</style>\n",
       "<table border=\"1\" class=\"dataframe\">\n",
       "  <thead>\n",
       "    <tr>\n",
       "      <th></th>\n",
       "      <th colspan=\"2\" halign=\"left\">backers</th>\n",
       "      <th>pledged</th>\n",
       "      <th>goal</th>\n",
       "      <th>category</th>\n",
       "    </tr>\n",
       "    <tr>\n",
       "      <th></th>\n",
       "      <th>mean</th>\n",
       "      <th>sum</th>\n",
       "      <th>mean</th>\n",
       "      <th>mean</th>\n",
       "      <th>count</th>\n",
       "    </tr>\n",
       "    <tr>\n",
       "      <th>main_category</th>\n",
       "      <th></th>\n",
       "      <th></th>\n",
       "      <th></th>\n",
       "      <th></th>\n",
       "      <th></th>\n",
       "    </tr>\n",
       "  </thead>\n",
       "  <tbody>\n",
       "    <tr>\n",
       "      <th>Art</th>\n",
       "      <td>42.21</td>\n",
       "      <td>1188200</td>\n",
       "      <td>3,606.97</td>\n",
       "      <td>40,829.18</td>\n",
       "      <td>28153</td>\n",
       "    </tr>\n",
       "    <tr>\n",
       "      <th>Comics</th>\n",
       "      <td>134.77</td>\n",
       "      <td>1458090</td>\n",
       "      <td>6,899.31</td>\n",
       "      <td>20,243.65</td>\n",
       "      <td>10819</td>\n",
       "    </tr>\n",
       "    <tr>\n",
       "      <th>Crafts</th>\n",
       "      <td>27.28</td>\n",
       "      <td>240342</td>\n",
       "      <td>2,016.15</td>\n",
       "      <td>11,592.29</td>\n",
       "      <td>8809</td>\n",
       "    </tr>\n",
       "    <tr>\n",
       "      <th>Dance</th>\n",
       "      <td>42.80</td>\n",
       "      <td>161275</td>\n",
       "      <td>3,690.80</td>\n",
       "      <td>10,321.33</td>\n",
       "      <td>3768</td>\n",
       "    </tr>\n",
       "    <tr>\n",
       "      <th>Design</th>\n",
       "      <td>241.30</td>\n",
       "      <td>7255880</td>\n",
       "      <td>27,119.75</td>\n",
       "      <td>46,733.63</td>\n",
       "      <td>30070</td>\n",
       "    </tr>\n",
       "    <tr>\n",
       "      <th>Fashion</th>\n",
       "      <td>61.45</td>\n",
       "      <td>1401993</td>\n",
       "      <td>6,549.03</td>\n",
       "      <td>24,818.25</td>\n",
       "      <td>22816</td>\n",
       "    </tr>\n",
       "    <tr>\n",
       "      <th>Film &amp; Video</th>\n",
       "      <td>66.02</td>\n",
       "      <td>4197577</td>\n",
       "      <td>6,362.73</td>\n",
       "      <td>84,334.01</td>\n",
       "      <td>63585</td>\n",
       "    </tr>\n",
       "    <tr>\n",
       "      <th>Food</th>\n",
       "      <td>54.17</td>\n",
       "      <td>1332751</td>\n",
       "      <td>5,340.16</td>\n",
       "      <td>48,693.75</td>\n",
       "      <td>24602</td>\n",
       "    </tr>\n",
       "    <tr>\n",
       "      <th>Games</th>\n",
       "      <td>321.79</td>\n",
       "      <td>11336829</td>\n",
       "      <td>21,865.17</td>\n",
       "      <td>50,711.30</td>\n",
       "      <td>35231</td>\n",
       "    </tr>\n",
       "    <tr>\n",
       "      <th>Journalism</th>\n",
       "      <td>38.29</td>\n",
       "      <td>182091</td>\n",
       "      <td>3,218.09</td>\n",
       "      <td>88,783.58</td>\n",
       "      <td>4755</td>\n",
       "    </tr>\n",
       "  </tbody>\n",
       "</table>\n",
       "</div>"
      ],
      "text/plain": [
       "                           backers                        pledged  \\\n",
       "                              mean       sum                 mean   \n",
       "main_category                                                       \n",
       "Art                          42.21   1188200             3,606.97   \n",
       "Comics                      134.77   1458090             6,899.31   \n",
       "Crafts                       27.28    240342             2,016.15   \n",
       "Dance                        42.80    161275             3,690.80   \n",
       "Design                      241.30   7255880            27,119.75   \n",
       "Fashion                      61.45   1401993             6,549.03   \n",
       "Film & Video                 66.02   4197577             6,362.73   \n",
       "Food                         54.17   1332751             5,340.16   \n",
       "Games                       321.79  11336829            21,865.17   \n",
       "Journalism                   38.29    182091             3,218.09   \n",
       "\n",
       "                              goal category  \n",
       "                              mean    count  \n",
       "main_category                                \n",
       "Art                      40,829.18    28153  \n",
       "Comics                   20,243.65    10819  \n",
       "Crafts                   11,592.29     8809  \n",
       "Dance                    10,321.33     3768  \n",
       "Design                   46,733.63    30070  \n",
       "Fashion                  24,818.25    22816  \n",
       "Film & Video             84,334.01    63585  \n",
       "Food                     48,693.75    24602  \n",
       "Games                    50,711.30    35231  \n",
       "Journalism               88,783.58     4755  "
      ]
     },
     "execution_count": 24,
     "metadata": {},
     "output_type": "execute_result"
    }
   ],
   "source": [
    "projects_by_main_category.head(10)"
   ]
  },
  {
   "cell_type": "code",
   "execution_count": 25,
   "metadata": {},
   "outputs": [
    {
     "data": {
      "text/html": [
       "<div>\n",
       "<style scoped>\n",
       "    .dataframe tbody tr th:only-of-type {\n",
       "        vertical-align: middle;\n",
       "    }\n",
       "\n",
       "    .dataframe tbody tr th {\n",
       "        vertical-align: top;\n",
       "    }\n",
       "\n",
       "    .dataframe thead th {\n",
       "        text-align: right;\n",
       "    }\n",
       "</style>\n",
       "<table border=\"1\" class=\"dataframe\">\n",
       "  <thead>\n",
       "    <tr style=\"text-align: right;\">\n",
       "      <th></th>\n",
       "      <th>backers_mean</th>\n",
       "      <th>backers_total</th>\n",
       "      <th>pledged_mean</th>\n",
       "      <th>goal_mean</th>\n",
       "      <th>projects_total</th>\n",
       "    </tr>\n",
       "    <tr>\n",
       "      <th>main_category</th>\n",
       "      <th></th>\n",
       "      <th></th>\n",
       "      <th></th>\n",
       "      <th></th>\n",
       "      <th></th>\n",
       "    </tr>\n",
       "  </thead>\n",
       "  <tbody>\n",
       "    <tr>\n",
       "      <th>Art</th>\n",
       "      <td>42.21</td>\n",
       "      <td>1188200</td>\n",
       "      <td>3,606.97</td>\n",
       "      <td>40,829.18</td>\n",
       "      <td>28153</td>\n",
       "    </tr>\n",
       "    <tr>\n",
       "      <th>Comics</th>\n",
       "      <td>134.77</td>\n",
       "      <td>1458090</td>\n",
       "      <td>6,899.31</td>\n",
       "      <td>20,243.65</td>\n",
       "      <td>10819</td>\n",
       "    </tr>\n",
       "    <tr>\n",
       "      <th>Crafts</th>\n",
       "      <td>27.28</td>\n",
       "      <td>240342</td>\n",
       "      <td>2,016.15</td>\n",
       "      <td>11,592.29</td>\n",
       "      <td>8809</td>\n",
       "    </tr>\n",
       "    <tr>\n",
       "      <th>Dance</th>\n",
       "      <td>42.80</td>\n",
       "      <td>161275</td>\n",
       "      <td>3,690.80</td>\n",
       "      <td>10,321.33</td>\n",
       "      <td>3768</td>\n",
       "    </tr>\n",
       "    <tr>\n",
       "      <th>Design</th>\n",
       "      <td>241.30</td>\n",
       "      <td>7255880</td>\n",
       "      <td>27,119.75</td>\n",
       "      <td>46,733.63</td>\n",
       "      <td>30070</td>\n",
       "    </tr>\n",
       "    <tr>\n",
       "      <th>Fashion</th>\n",
       "      <td>61.45</td>\n",
       "      <td>1401993</td>\n",
       "      <td>6,549.03</td>\n",
       "      <td>24,818.25</td>\n",
       "      <td>22816</td>\n",
       "    </tr>\n",
       "    <tr>\n",
       "      <th>Film &amp; Video</th>\n",
       "      <td>66.02</td>\n",
       "      <td>4197577</td>\n",
       "      <td>6,362.73</td>\n",
       "      <td>84,334.01</td>\n",
       "      <td>63585</td>\n",
       "    </tr>\n",
       "    <tr>\n",
       "      <th>Food</th>\n",
       "      <td>54.17</td>\n",
       "      <td>1332751</td>\n",
       "      <td>5,340.16</td>\n",
       "      <td>48,693.75</td>\n",
       "      <td>24602</td>\n",
       "    </tr>\n",
       "    <tr>\n",
       "      <th>Games</th>\n",
       "      <td>321.79</td>\n",
       "      <td>11336829</td>\n",
       "      <td>21,865.17</td>\n",
       "      <td>50,711.30</td>\n",
       "      <td>35231</td>\n",
       "    </tr>\n",
       "    <tr>\n",
       "      <th>Journalism</th>\n",
       "      <td>38.29</td>\n",
       "      <td>182091</td>\n",
       "      <td>3,218.09</td>\n",
       "      <td>88,783.58</td>\n",
       "      <td>4755</td>\n",
       "    </tr>\n",
       "    <tr>\n",
       "      <th>Music</th>\n",
       "      <td>52.17</td>\n",
       "      <td>2708475</td>\n",
       "      <td>3,992.74</td>\n",
       "      <td>16,056.36</td>\n",
       "      <td>51918</td>\n",
       "    </tr>\n",
       "    <tr>\n",
       "      <th>Photography</th>\n",
       "      <td>39.71</td>\n",
       "      <td>428078</td>\n",
       "      <td>3,664.65</td>\n",
       "      <td>13,003.23</td>\n",
       "      <td>10779</td>\n",
       "    </tr>\n",
       "    <tr>\n",
       "      <th>Publishing</th>\n",
       "      <td>55.97</td>\n",
       "      <td>2231589</td>\n",
       "      <td>3,638.72</td>\n",
       "      <td>29,131.46</td>\n",
       "      <td>39874</td>\n",
       "    </tr>\n",
       "    <tr>\n",
       "      <th>Technology</th>\n",
       "      <td>164.47</td>\n",
       "      <td>5356513</td>\n",
       "      <td>22,586.16</td>\n",
       "      <td>119,712.32</td>\n",
       "      <td>32569</td>\n",
       "    </tr>\n",
       "    <tr>\n",
       "      <th>Theater</th>\n",
       "      <td>47.06</td>\n",
       "      <td>513536</td>\n",
       "      <td>4,097.22</td>\n",
       "      <td>27,542.35</td>\n",
       "      <td>10913</td>\n",
       "    </tr>\n",
       "  </tbody>\n",
       "</table>\n",
       "</div>"
      ],
      "text/plain": [
       "                      backers_mean  backers_total         pledged_mean  \\\n",
       "main_category                                                            \n",
       "Art                          42.21        1188200             3,606.97   \n",
       "Comics                      134.77        1458090             6,899.31   \n",
       "Crafts                       27.28         240342             2,016.15   \n",
       "Dance                        42.80         161275             3,690.80   \n",
       "Design                      241.30        7255880            27,119.75   \n",
       "Fashion                      61.45        1401993             6,549.03   \n",
       "Film & Video                 66.02        4197577             6,362.73   \n",
       "Food                         54.17        1332751             5,340.16   \n",
       "Games                       321.79       11336829            21,865.17   \n",
       "Journalism                   38.29         182091             3,218.09   \n",
       "Music                        52.17        2708475             3,992.74   \n",
       "Photography                  39.71         428078             3,664.65   \n",
       "Publishing                   55.97        2231589             3,638.72   \n",
       "Technology                  164.47        5356513            22,586.16   \n",
       "Theater                      47.06         513536             4,097.22   \n",
       "\n",
       "                         goal_mean  projects_total  \n",
       "main_category                                       \n",
       "Art                      40,829.18           28153  \n",
       "Comics                   20,243.65           10819  \n",
       "Crafts                   11,592.29            8809  \n",
       "Dance                    10,321.33            3768  \n",
       "Design                   46,733.63           30070  \n",
       "Fashion                  24,818.25           22816  \n",
       "Film & Video             84,334.01           63585  \n",
       "Food                     48,693.75           24602  \n",
       "Games                    50,711.30           35231  \n",
       "Journalism               88,783.58            4755  \n",
       "Music                    16,056.36           51918  \n",
       "Photography              13,003.23           10779  \n",
       "Publishing               29,131.46           39874  \n",
       "Technology              119,712.32           32569  \n",
       "Theater                  27,542.35           10913  "
      ]
     },
     "execution_count": 25,
     "metadata": {},
     "output_type": "execute_result"
    }
   ],
   "source": [
    "#renombramos las columnas eliminando el multi indice\n",
    "projects_by_main_category.columns = ['backers_mean', 'backers_total', 'pledged_mean', 'goal_mean', 'projects_total']\n",
    "projects_by_main_category"
   ]
  },
  {
   "cell_type": "code",
   "execution_count": 26,
   "metadata": {},
   "outputs": [
    {
     "data": {
      "text/plain": [
       "main_category                \n",
       "Art            backers_mean                    42.21\n",
       "               backers_total            1,188,200.00\n",
       "               pledged_mean                 3,606.97\n",
       "               goal_mean                   40,829.18\n",
       "               projects_total              28,153.00\n",
       "                                        ...         \n",
       "Theater        backers_mean                    47.06\n",
       "               backers_total              513,536.00\n",
       "               pledged_mean                 4,097.22\n",
       "               goal_mean                   27,542.35\n",
       "               projects_total              10,913.00\n",
       "Length: 75, dtype: float64"
      ]
     },
     "execution_count": 26,
     "metadata": {},
     "output_type": "execute_result"
    }
   ],
   "source": [
    "# stackeamos los valores\n",
    "stacked = projects_by_main_category.stack()\n",
    "stacked"
   ]
  },
  {
   "cell_type": "code",
   "execution_count": 27,
   "metadata": {},
   "outputs": [
    {
     "data": {
      "text/html": [
       "<div>\n",
       "<style scoped>\n",
       "    .dataframe tbody tr th:only-of-type {\n",
       "        vertical-align: middle;\n",
       "    }\n",
       "\n",
       "    .dataframe tbody tr th {\n",
       "        vertical-align: top;\n",
       "    }\n",
       "\n",
       "    .dataframe thead th {\n",
       "        text-align: right;\n",
       "    }\n",
       "</style>\n",
       "<table border=\"1\" class=\"dataframe\">\n",
       "  <thead>\n",
       "    <tr style=\"text-align: right;\">\n",
       "      <th></th>\n",
       "      <th>backers_mean</th>\n",
       "      <th>backers_total</th>\n",
       "      <th>pledged_mean</th>\n",
       "      <th>goal_mean</th>\n",
       "      <th>projects_total</th>\n",
       "    </tr>\n",
       "    <tr>\n",
       "      <th>main_category</th>\n",
       "      <th></th>\n",
       "      <th></th>\n",
       "      <th></th>\n",
       "      <th></th>\n",
       "      <th></th>\n",
       "    </tr>\n",
       "  </thead>\n",
       "  <tbody>\n",
       "    <tr>\n",
       "      <th>Art</th>\n",
       "      <td>42.21</td>\n",
       "      <td>1,188,200.00</td>\n",
       "      <td>3,606.97</td>\n",
       "      <td>40,829.18</td>\n",
       "      <td>28,153.00</td>\n",
       "    </tr>\n",
       "    <tr>\n",
       "      <th>Comics</th>\n",
       "      <td>134.77</td>\n",
       "      <td>1,458,090.00</td>\n",
       "      <td>6,899.31</td>\n",
       "      <td>20,243.65</td>\n",
       "      <td>10,819.00</td>\n",
       "    </tr>\n",
       "    <tr>\n",
       "      <th>Crafts</th>\n",
       "      <td>27.28</td>\n",
       "      <td>240,342.00</td>\n",
       "      <td>2,016.15</td>\n",
       "      <td>11,592.29</td>\n",
       "      <td>8,809.00</td>\n",
       "    </tr>\n",
       "    <tr>\n",
       "      <th>Dance</th>\n",
       "      <td>42.80</td>\n",
       "      <td>161,275.00</td>\n",
       "      <td>3,690.80</td>\n",
       "      <td>10,321.33</td>\n",
       "      <td>3,768.00</td>\n",
       "    </tr>\n",
       "    <tr>\n",
       "      <th>Design</th>\n",
       "      <td>241.30</td>\n",
       "      <td>7,255,880.00</td>\n",
       "      <td>27,119.75</td>\n",
       "      <td>46,733.63</td>\n",
       "      <td>30,070.00</td>\n",
       "    </tr>\n",
       "    <tr>\n",
       "      <th>Fashion</th>\n",
       "      <td>61.45</td>\n",
       "      <td>1,401,993.00</td>\n",
       "      <td>6,549.03</td>\n",
       "      <td>24,818.25</td>\n",
       "      <td>22,816.00</td>\n",
       "    </tr>\n",
       "    <tr>\n",
       "      <th>Film &amp; Video</th>\n",
       "      <td>66.02</td>\n",
       "      <td>4,197,577.00</td>\n",
       "      <td>6,362.73</td>\n",
       "      <td>84,334.01</td>\n",
       "      <td>63,585.00</td>\n",
       "    </tr>\n",
       "    <tr>\n",
       "      <th>Food</th>\n",
       "      <td>54.17</td>\n",
       "      <td>1,332,751.00</td>\n",
       "      <td>5,340.16</td>\n",
       "      <td>48,693.75</td>\n",
       "      <td>24,602.00</td>\n",
       "    </tr>\n",
       "    <tr>\n",
       "      <th>Games</th>\n",
       "      <td>321.79</td>\n",
       "      <td>11,336,829.00</td>\n",
       "      <td>21,865.17</td>\n",
       "      <td>50,711.30</td>\n",
       "      <td>35,231.00</td>\n",
       "    </tr>\n",
       "    <tr>\n",
       "      <th>Journalism</th>\n",
       "      <td>38.29</td>\n",
       "      <td>182,091.00</td>\n",
       "      <td>3,218.09</td>\n",
       "      <td>88,783.58</td>\n",
       "      <td>4,755.00</td>\n",
       "    </tr>\n",
       "    <tr>\n",
       "      <th>Music</th>\n",
       "      <td>52.17</td>\n",
       "      <td>2,708,475.00</td>\n",
       "      <td>3,992.74</td>\n",
       "      <td>16,056.36</td>\n",
       "      <td>51,918.00</td>\n",
       "    </tr>\n",
       "    <tr>\n",
       "      <th>Photography</th>\n",
       "      <td>39.71</td>\n",
       "      <td>428,078.00</td>\n",
       "      <td>3,664.65</td>\n",
       "      <td>13,003.23</td>\n",
       "      <td>10,779.00</td>\n",
       "    </tr>\n",
       "    <tr>\n",
       "      <th>Publishing</th>\n",
       "      <td>55.97</td>\n",
       "      <td>2,231,589.00</td>\n",
       "      <td>3,638.72</td>\n",
       "      <td>29,131.46</td>\n",
       "      <td>39,874.00</td>\n",
       "    </tr>\n",
       "    <tr>\n",
       "      <th>Technology</th>\n",
       "      <td>164.47</td>\n",
       "      <td>5,356,513.00</td>\n",
       "      <td>22,586.16</td>\n",
       "      <td>119,712.32</td>\n",
       "      <td>32,569.00</td>\n",
       "    </tr>\n",
       "    <tr>\n",
       "      <th>Theater</th>\n",
       "      <td>47.06</td>\n",
       "      <td>513,536.00</td>\n",
       "      <td>4,097.22</td>\n",
       "      <td>27,542.35</td>\n",
       "      <td>10,913.00</td>\n",
       "    </tr>\n",
       "  </tbody>\n",
       "</table>\n",
       "</div>"
      ],
      "text/plain": [
       "                      backers_mean        backers_total         pledged_mean  \\\n",
       "main_category                                                                  \n",
       "Art                          42.21         1,188,200.00             3,606.97   \n",
       "Comics                      134.77         1,458,090.00             6,899.31   \n",
       "Crafts                       27.28           240,342.00             2,016.15   \n",
       "Dance                        42.80           161,275.00             3,690.80   \n",
       "Design                      241.30         7,255,880.00            27,119.75   \n",
       "Fashion                      61.45         1,401,993.00             6,549.03   \n",
       "Film & Video                 66.02         4,197,577.00             6,362.73   \n",
       "Food                         54.17         1,332,751.00             5,340.16   \n",
       "Games                       321.79        11,336,829.00            21,865.17   \n",
       "Journalism                   38.29           182,091.00             3,218.09   \n",
       "Music                        52.17         2,708,475.00             3,992.74   \n",
       "Photography                  39.71           428,078.00             3,664.65   \n",
       "Publishing                   55.97         2,231,589.00             3,638.72   \n",
       "Technology                  164.47         5,356,513.00            22,586.16   \n",
       "Theater                      47.06           513,536.00             4,097.22   \n",
       "\n",
       "                         goal_mean       projects_total  \n",
       "main_category                                            \n",
       "Art                      40,829.18            28,153.00  \n",
       "Comics                   20,243.65            10,819.00  \n",
       "Crafts                   11,592.29             8,809.00  \n",
       "Dance                    10,321.33             3,768.00  \n",
       "Design                   46,733.63            30,070.00  \n",
       "Fashion                  24,818.25            22,816.00  \n",
       "Film & Video             84,334.01            63,585.00  \n",
       "Food                     48,693.75            24,602.00  \n",
       "Games                    50,711.30            35,231.00  \n",
       "Journalism               88,783.58             4,755.00  \n",
       "Music                    16,056.36            51,918.00  \n",
       "Photography              13,003.23            10,779.00  \n",
       "Publishing               29,131.46            39,874.00  \n",
       "Technology              119,712.32            32,569.00  \n",
       "Theater                  27,542.35            10,913.00  "
      ]
     },
     "execution_count": 27,
     "metadata": {},
     "output_type": "execute_result"
    }
   ],
   "source": [
    "stacked.unstack()"
   ]
  },
  {
   "cell_type": "code",
   "execution_count": 28,
   "metadata": {},
   "outputs": [],
   "source": [
    "projects_by_main_category_reshaped = projects_by_main_category.stack()"
   ]
  },
  {
   "cell_type": "code",
   "execution_count": 29,
   "metadata": {},
   "outputs": [
    {
     "data": {
      "text/plain": [
       "main_category                \n",
       "Art            backers_mean                    42.21\n",
       "               backers_total            1,188,200.00\n",
       "               pledged_mean                 3,606.97\n",
       "               goal_mean                   40,829.18\n",
       "               projects_total              28,153.00\n",
       "                                        ...         \n",
       "Theater        backers_mean                    47.06\n",
       "               backers_total              513,536.00\n",
       "               pledged_mean                 4,097.22\n",
       "               goal_mean                   27,542.35\n",
       "               projects_total              10,913.00\n",
       "Length: 75, dtype: float64"
      ]
     },
     "execution_count": 29,
     "metadata": {},
     "output_type": "execute_result"
    }
   ],
   "source": [
    "# nos queda un multi indice en las filas\n",
    "projects_by_main_category_reshaped"
   ]
  },
  {
   "cell_type": "code",
   "execution_count": 30,
   "metadata": {},
   "outputs": [],
   "source": [
    "projects_by_main_category_reshaped = projects_by_main_category_reshaped.reset_index()"
   ]
  },
  {
   "cell_type": "code",
   "execution_count": 31,
   "metadata": {},
   "outputs": [
    {
     "data": {
      "text/html": [
       "<div>\n",
       "<style scoped>\n",
       "    .dataframe tbody tr th:only-of-type {\n",
       "        vertical-align: middle;\n",
       "    }\n",
       "\n",
       "    .dataframe tbody tr th {\n",
       "        vertical-align: top;\n",
       "    }\n",
       "\n",
       "    .dataframe thead th {\n",
       "        text-align: right;\n",
       "    }\n",
       "</style>\n",
       "<table border=\"1\" class=\"dataframe\">\n",
       "  <thead>\n",
       "    <tr style=\"text-align: right;\">\n",
       "      <th></th>\n",
       "      <th>main_category</th>\n",
       "      <th>level_1</th>\n",
       "      <th>0</th>\n",
       "    </tr>\n",
       "  </thead>\n",
       "  <tbody>\n",
       "    <tr>\n",
       "      <th>0</th>\n",
       "      <td>Art</td>\n",
       "      <td>backers_mean</td>\n",
       "      <td>42.21</td>\n",
       "    </tr>\n",
       "    <tr>\n",
       "      <th>1</th>\n",
       "      <td>Art</td>\n",
       "      <td>backers_total</td>\n",
       "      <td>1,188,200.00</td>\n",
       "    </tr>\n",
       "    <tr>\n",
       "      <th>2</th>\n",
       "      <td>Art</td>\n",
       "      <td>pledged_mean</td>\n",
       "      <td>3,606.97</td>\n",
       "    </tr>\n",
       "    <tr>\n",
       "      <th>3</th>\n",
       "      <td>Art</td>\n",
       "      <td>goal_mean</td>\n",
       "      <td>40,829.18</td>\n",
       "    </tr>\n",
       "    <tr>\n",
       "      <th>4</th>\n",
       "      <td>Art</td>\n",
       "      <td>projects_total</td>\n",
       "      <td>28,153.00</td>\n",
       "    </tr>\n",
       "    <tr>\n",
       "      <th>5</th>\n",
       "      <td>Comics</td>\n",
       "      <td>backers_mean</td>\n",
       "      <td>134.77</td>\n",
       "    </tr>\n",
       "    <tr>\n",
       "      <th>6</th>\n",
       "      <td>Comics</td>\n",
       "      <td>backers_total</td>\n",
       "      <td>1,458,090.00</td>\n",
       "    </tr>\n",
       "    <tr>\n",
       "      <th>7</th>\n",
       "      <td>Comics</td>\n",
       "      <td>pledged_mean</td>\n",
       "      <td>6,899.31</td>\n",
       "    </tr>\n",
       "    <tr>\n",
       "      <th>8</th>\n",
       "      <td>Comics</td>\n",
       "      <td>goal_mean</td>\n",
       "      <td>20,243.65</td>\n",
       "    </tr>\n",
       "    <tr>\n",
       "      <th>9</th>\n",
       "      <td>Comics</td>\n",
       "      <td>projects_total</td>\n",
       "      <td>10,819.00</td>\n",
       "    </tr>\n",
       "  </tbody>\n",
       "</table>\n",
       "</div>"
      ],
      "text/plain": [
       "  main_category         level_1                    0\n",
       "0           Art    backers_mean                42.21\n",
       "1           Art   backers_total         1,188,200.00\n",
       "2           Art    pledged_mean             3,606.97\n",
       "3           Art       goal_mean            40,829.18\n",
       "4           Art  projects_total            28,153.00\n",
       "5        Comics    backers_mean               134.77\n",
       "6        Comics   backers_total         1,458,090.00\n",
       "7        Comics    pledged_mean             6,899.31\n",
       "8        Comics       goal_mean            20,243.65\n",
       "9        Comics  projects_total            10,819.00"
      ]
     },
     "execution_count": 31,
     "metadata": {},
     "output_type": "execute_result"
    }
   ],
   "source": [
    "projects_by_main_category_reshaped.head(10)"
   ]
  },
  {
   "cell_type": "code",
   "execution_count": 32,
   "metadata": {},
   "outputs": [],
   "source": [
    "projects_by_main_category_reshaped.columns = ['main_category','statistics','values']"
   ]
  },
  {
   "cell_type": "code",
   "execution_count": 33,
   "metadata": {},
   "outputs": [
    {
     "data": {
      "text/html": [
       "<div>\n",
       "<style scoped>\n",
       "    .dataframe tbody tr th:only-of-type {\n",
       "        vertical-align: middle;\n",
       "    }\n",
       "\n",
       "    .dataframe tbody tr th {\n",
       "        vertical-align: top;\n",
       "    }\n",
       "\n",
       "    .dataframe thead th {\n",
       "        text-align: right;\n",
       "    }\n",
       "</style>\n",
       "<table border=\"1\" class=\"dataframe\">\n",
       "  <thead>\n",
       "    <tr style=\"text-align: right;\">\n",
       "      <th></th>\n",
       "      <th>main_category</th>\n",
       "      <th>statistics</th>\n",
       "      <th>values</th>\n",
       "    </tr>\n",
       "  </thead>\n",
       "  <tbody>\n",
       "    <tr>\n",
       "      <th>0</th>\n",
       "      <td>Art</td>\n",
       "      <td>backers_mean</td>\n",
       "      <td>42.21</td>\n",
       "    </tr>\n",
       "    <tr>\n",
       "      <th>1</th>\n",
       "      <td>Art</td>\n",
       "      <td>backers_total</td>\n",
       "      <td>1,188,200.00</td>\n",
       "    </tr>\n",
       "    <tr>\n",
       "      <th>2</th>\n",
       "      <td>Art</td>\n",
       "      <td>pledged_mean</td>\n",
       "      <td>3,606.97</td>\n",
       "    </tr>\n",
       "    <tr>\n",
       "      <th>3</th>\n",
       "      <td>Art</td>\n",
       "      <td>goal_mean</td>\n",
       "      <td>40,829.18</td>\n",
       "    </tr>\n",
       "    <tr>\n",
       "      <th>4</th>\n",
       "      <td>Art</td>\n",
       "      <td>projects_total</td>\n",
       "      <td>28,153.00</td>\n",
       "    </tr>\n",
       "    <tr>\n",
       "      <th>5</th>\n",
       "      <td>Comics</td>\n",
       "      <td>backers_mean</td>\n",
       "      <td>134.77</td>\n",
       "    </tr>\n",
       "    <tr>\n",
       "      <th>6</th>\n",
       "      <td>Comics</td>\n",
       "      <td>backers_total</td>\n",
       "      <td>1,458,090.00</td>\n",
       "    </tr>\n",
       "    <tr>\n",
       "      <th>7</th>\n",
       "      <td>Comics</td>\n",
       "      <td>pledged_mean</td>\n",
       "      <td>6,899.31</td>\n",
       "    </tr>\n",
       "    <tr>\n",
       "      <th>8</th>\n",
       "      <td>Comics</td>\n",
       "      <td>goal_mean</td>\n",
       "      <td>20,243.65</td>\n",
       "    </tr>\n",
       "    <tr>\n",
       "      <th>9</th>\n",
       "      <td>Comics</td>\n",
       "      <td>projects_total</td>\n",
       "      <td>10,819.00</td>\n",
       "    </tr>\n",
       "  </tbody>\n",
       "</table>\n",
       "</div>"
      ],
      "text/plain": [
       "  main_category      statistics               values\n",
       "0           Art    backers_mean                42.21\n",
       "1           Art   backers_total         1,188,200.00\n",
       "2           Art    pledged_mean             3,606.97\n",
       "3           Art       goal_mean            40,829.18\n",
       "4           Art  projects_total            28,153.00\n",
       "5        Comics    backers_mean               134.77\n",
       "6        Comics   backers_total         1,458,090.00\n",
       "7        Comics    pledged_mean             6,899.31\n",
       "8        Comics       goal_mean            20,243.65\n",
       "9        Comics  projects_total            10,819.00"
      ]
     },
     "execution_count": 33,
     "metadata": {},
     "output_type": "execute_result"
    }
   ],
   "source": [
    "projects_by_main_category_reshaped.head(10)"
   ]
  },
  {
   "cell_type": "markdown",
   "metadata": {},
   "source": [
    "## Unstack\n",
    "\n",
    "Nos permite deshacer la accion de stack."
   ]
  },
  {
   "cell_type": "code",
   "execution_count": 34,
   "metadata": {},
   "outputs": [],
   "source": [
    "projects_by_main_category_stacked = projects_by_main_category.stack()"
   ]
  },
  {
   "cell_type": "code",
   "execution_count": 35,
   "metadata": {},
   "outputs": [
    {
     "data": {
      "text/plain": [
       "main_category                \n",
       "Art            backers_mean                    42.21\n",
       "               backers_total            1,188,200.00\n",
       "               pledged_mean                 3,606.97\n",
       "               goal_mean                   40,829.18\n",
       "               projects_total              28,153.00\n",
       "Comics         backers_mean                   134.77\n",
       "               backers_total            1,458,090.00\n",
       "               pledged_mean                 6,899.31\n",
       "               goal_mean                   20,243.65\n",
       "               projects_total              10,819.00\n",
       "dtype: float64"
      ]
     },
     "execution_count": 35,
     "metadata": {},
     "output_type": "execute_result"
    }
   ],
   "source": [
    "projects_by_main_category_stacked.head(10)"
   ]
  },
  {
   "cell_type": "code",
   "execution_count": 36,
   "metadata": {},
   "outputs": [
    {
     "data": {
      "text/html": [
       "<div>\n",
       "<style scoped>\n",
       "    .dataframe tbody tr th:only-of-type {\n",
       "        vertical-align: middle;\n",
       "    }\n",
       "\n",
       "    .dataframe tbody tr th {\n",
       "        vertical-align: top;\n",
       "    }\n",
       "\n",
       "    .dataframe thead th {\n",
       "        text-align: right;\n",
       "    }\n",
       "</style>\n",
       "<table border=\"1\" class=\"dataframe\">\n",
       "  <thead>\n",
       "    <tr style=\"text-align: right;\">\n",
       "      <th></th>\n",
       "      <th>backers_mean</th>\n",
       "      <th>backers_total</th>\n",
       "      <th>pledged_mean</th>\n",
       "      <th>goal_mean</th>\n",
       "      <th>projects_total</th>\n",
       "    </tr>\n",
       "    <tr>\n",
       "      <th>main_category</th>\n",
       "      <th></th>\n",
       "      <th></th>\n",
       "      <th></th>\n",
       "      <th></th>\n",
       "      <th></th>\n",
       "    </tr>\n",
       "  </thead>\n",
       "  <tbody>\n",
       "    <tr>\n",
       "      <th>Art</th>\n",
       "      <td>42.21</td>\n",
       "      <td>1,188,200.00</td>\n",
       "      <td>3,606.97</td>\n",
       "      <td>40,829.18</td>\n",
       "      <td>28,153.00</td>\n",
       "    </tr>\n",
       "    <tr>\n",
       "      <th>Comics</th>\n",
       "      <td>134.77</td>\n",
       "      <td>1,458,090.00</td>\n",
       "      <td>6,899.31</td>\n",
       "      <td>20,243.65</td>\n",
       "      <td>10,819.00</td>\n",
       "    </tr>\n",
       "    <tr>\n",
       "      <th>Crafts</th>\n",
       "      <td>27.28</td>\n",
       "      <td>240,342.00</td>\n",
       "      <td>2,016.15</td>\n",
       "      <td>11,592.29</td>\n",
       "      <td>8,809.00</td>\n",
       "    </tr>\n",
       "    <tr>\n",
       "      <th>Dance</th>\n",
       "      <td>42.80</td>\n",
       "      <td>161,275.00</td>\n",
       "      <td>3,690.80</td>\n",
       "      <td>10,321.33</td>\n",
       "      <td>3,768.00</td>\n",
       "    </tr>\n",
       "    <tr>\n",
       "      <th>Design</th>\n",
       "      <td>241.30</td>\n",
       "      <td>7,255,880.00</td>\n",
       "      <td>27,119.75</td>\n",
       "      <td>46,733.63</td>\n",
       "      <td>30,070.00</td>\n",
       "    </tr>\n",
       "    <tr>\n",
       "      <th>Fashion</th>\n",
       "      <td>61.45</td>\n",
       "      <td>1,401,993.00</td>\n",
       "      <td>6,549.03</td>\n",
       "      <td>24,818.25</td>\n",
       "      <td>22,816.00</td>\n",
       "    </tr>\n",
       "    <tr>\n",
       "      <th>Film &amp; Video</th>\n",
       "      <td>66.02</td>\n",
       "      <td>4,197,577.00</td>\n",
       "      <td>6,362.73</td>\n",
       "      <td>84,334.01</td>\n",
       "      <td>63,585.00</td>\n",
       "    </tr>\n",
       "    <tr>\n",
       "      <th>Food</th>\n",
       "      <td>54.17</td>\n",
       "      <td>1,332,751.00</td>\n",
       "      <td>5,340.16</td>\n",
       "      <td>48,693.75</td>\n",
       "      <td>24,602.00</td>\n",
       "    </tr>\n",
       "    <tr>\n",
       "      <th>Games</th>\n",
       "      <td>321.79</td>\n",
       "      <td>11,336,829.00</td>\n",
       "      <td>21,865.17</td>\n",
       "      <td>50,711.30</td>\n",
       "      <td>35,231.00</td>\n",
       "    </tr>\n",
       "    <tr>\n",
       "      <th>Journalism</th>\n",
       "      <td>38.29</td>\n",
       "      <td>182,091.00</td>\n",
       "      <td>3,218.09</td>\n",
       "      <td>88,783.58</td>\n",
       "      <td>4,755.00</td>\n",
       "    </tr>\n",
       "    <tr>\n",
       "      <th>Music</th>\n",
       "      <td>52.17</td>\n",
       "      <td>2,708,475.00</td>\n",
       "      <td>3,992.74</td>\n",
       "      <td>16,056.36</td>\n",
       "      <td>51,918.00</td>\n",
       "    </tr>\n",
       "    <tr>\n",
       "      <th>Photography</th>\n",
       "      <td>39.71</td>\n",
       "      <td>428,078.00</td>\n",
       "      <td>3,664.65</td>\n",
       "      <td>13,003.23</td>\n",
       "      <td>10,779.00</td>\n",
       "    </tr>\n",
       "    <tr>\n",
       "      <th>Publishing</th>\n",
       "      <td>55.97</td>\n",
       "      <td>2,231,589.00</td>\n",
       "      <td>3,638.72</td>\n",
       "      <td>29,131.46</td>\n",
       "      <td>39,874.00</td>\n",
       "    </tr>\n",
       "    <tr>\n",
       "      <th>Technology</th>\n",
       "      <td>164.47</td>\n",
       "      <td>5,356,513.00</td>\n",
       "      <td>22,586.16</td>\n",
       "      <td>119,712.32</td>\n",
       "      <td>32,569.00</td>\n",
       "    </tr>\n",
       "    <tr>\n",
       "      <th>Theater</th>\n",
       "      <td>47.06</td>\n",
       "      <td>513,536.00</td>\n",
       "      <td>4,097.22</td>\n",
       "      <td>27,542.35</td>\n",
       "      <td>10,913.00</td>\n",
       "    </tr>\n",
       "  </tbody>\n",
       "</table>\n",
       "</div>"
      ],
      "text/plain": [
       "                      backers_mean        backers_total         pledged_mean  \\\n",
       "main_category                                                                  \n",
       "Art                          42.21         1,188,200.00             3,606.97   \n",
       "Comics                      134.77         1,458,090.00             6,899.31   \n",
       "Crafts                       27.28           240,342.00             2,016.15   \n",
       "Dance                        42.80           161,275.00             3,690.80   \n",
       "Design                      241.30         7,255,880.00            27,119.75   \n",
       "Fashion                      61.45         1,401,993.00             6,549.03   \n",
       "Film & Video                 66.02         4,197,577.00             6,362.73   \n",
       "Food                         54.17         1,332,751.00             5,340.16   \n",
       "Games                       321.79        11,336,829.00            21,865.17   \n",
       "Journalism                   38.29           182,091.00             3,218.09   \n",
       "Music                        52.17         2,708,475.00             3,992.74   \n",
       "Photography                  39.71           428,078.00             3,664.65   \n",
       "Publishing                   55.97         2,231,589.00             3,638.72   \n",
       "Technology                  164.47         5,356,513.00            22,586.16   \n",
       "Theater                      47.06           513,536.00             4,097.22   \n",
       "\n",
       "                         goal_mean       projects_total  \n",
       "main_category                                            \n",
       "Art                      40,829.18            28,153.00  \n",
       "Comics                   20,243.65            10,819.00  \n",
       "Crafts                   11,592.29             8,809.00  \n",
       "Dance                    10,321.33             3,768.00  \n",
       "Design                   46,733.63            30,070.00  \n",
       "Fashion                  24,818.25            22,816.00  \n",
       "Film & Video             84,334.01            63,585.00  \n",
       "Food                     48,693.75            24,602.00  \n",
       "Games                    50,711.30            35,231.00  \n",
       "Journalism               88,783.58             4,755.00  \n",
       "Music                    16,056.36            51,918.00  \n",
       "Photography              13,003.23            10,779.00  \n",
       "Publishing               29,131.46            39,874.00  \n",
       "Technology              119,712.32            32,569.00  \n",
       "Theater                  27,542.35            10,913.00  "
      ]
     },
     "execution_count": 36,
     "metadata": {},
     "output_type": "execute_result"
    }
   ],
   "source": [
    "projects_by_main_category_stacked.unstack() \n",
    "# toma nivel -1 del indice como default, es decir los labels backers_mean, backers_total que son devueltos como columnas\n"
   ]
  },
  {
   "cell_type": "code",
   "execution_count": 37,
   "metadata": {},
   "outputs": [
    {
     "data": {
      "text/plain": [
       "main_category                \n",
       "Art            backers_mean                    42.21\n",
       "               backers_total            1,188,200.00\n",
       "               pledged_mean                 3,606.97\n",
       "               goal_mean                   40,829.18\n",
       "               projects_total              28,153.00\n",
       "                                        ...         \n",
       "Theater        backers_mean                    47.06\n",
       "               backers_total              513,536.00\n",
       "               pledged_mean                 4,097.22\n",
       "               goal_mean                   27,542.35\n",
       "               projects_total              10,913.00\n",
       "Length: 75, dtype: float64"
      ]
     },
     "execution_count": 37,
     "metadata": {},
     "output_type": "execute_result"
    }
   ],
   "source": [
    "projects_by_main_category_stacked"
   ]
  },
  {
   "cell_type": "code",
   "execution_count": 38,
   "metadata": {},
   "outputs": [
    {
     "data": {
      "text/html": [
       "<div>\n",
       "<style scoped>\n",
       "    .dataframe tbody tr th:only-of-type {\n",
       "        vertical-align: middle;\n",
       "    }\n",
       "\n",
       "    .dataframe tbody tr th {\n",
       "        vertical-align: top;\n",
       "    }\n",
       "\n",
       "    .dataframe thead th {\n",
       "        text-align: right;\n",
       "    }\n",
       "</style>\n",
       "<table border=\"1\" class=\"dataframe\">\n",
       "  <thead>\n",
       "    <tr style=\"text-align: right;\">\n",
       "      <th>main_category</th>\n",
       "      <th>Art</th>\n",
       "      <th>Comics</th>\n",
       "      <th>Crafts</th>\n",
       "      <th>Dance</th>\n",
       "      <th>Design</th>\n",
       "      <th>Fashion</th>\n",
       "      <th>Film &amp; Video</th>\n",
       "      <th>Food</th>\n",
       "      <th>Games</th>\n",
       "      <th>Journalism</th>\n",
       "      <th>Music</th>\n",
       "      <th>Photography</th>\n",
       "      <th>Publishing</th>\n",
       "      <th>Technology</th>\n",
       "      <th>Theater</th>\n",
       "    </tr>\n",
       "  </thead>\n",
       "  <tbody>\n",
       "    <tr>\n",
       "      <th>backers_mean</th>\n",
       "      <td>42.21</td>\n",
       "      <td>134.77</td>\n",
       "      <td>27.28</td>\n",
       "      <td>42.80</td>\n",
       "      <td>241.30</td>\n",
       "      <td>61.45</td>\n",
       "      <td>66.02</td>\n",
       "      <td>54.17</td>\n",
       "      <td>321.79</td>\n",
       "      <td>38.29</td>\n",
       "      <td>52.17</td>\n",
       "      <td>39.71</td>\n",
       "      <td>55.97</td>\n",
       "      <td>164.47</td>\n",
       "      <td>47.06</td>\n",
       "    </tr>\n",
       "    <tr>\n",
       "      <th>backers_total</th>\n",
       "      <td>1,188,200.00</td>\n",
       "      <td>1,458,090.00</td>\n",
       "      <td>240,342.00</td>\n",
       "      <td>161,275.00</td>\n",
       "      <td>7,255,880.00</td>\n",
       "      <td>1,401,993.00</td>\n",
       "      <td>4,197,577.00</td>\n",
       "      <td>1,332,751.00</td>\n",
       "      <td>11,336,829.00</td>\n",
       "      <td>182,091.00</td>\n",
       "      <td>2,708,475.00</td>\n",
       "      <td>428,078.00</td>\n",
       "      <td>2,231,589.00</td>\n",
       "      <td>5,356,513.00</td>\n",
       "      <td>513,536.00</td>\n",
       "    </tr>\n",
       "    <tr>\n",
       "      <th>pledged_mean</th>\n",
       "      <td>3,606.97</td>\n",
       "      <td>6,899.31</td>\n",
       "      <td>2,016.15</td>\n",
       "      <td>3,690.80</td>\n",
       "      <td>27,119.75</td>\n",
       "      <td>6,549.03</td>\n",
       "      <td>6,362.73</td>\n",
       "      <td>5,340.16</td>\n",
       "      <td>21,865.17</td>\n",
       "      <td>3,218.09</td>\n",
       "      <td>3,992.74</td>\n",
       "      <td>3,664.65</td>\n",
       "      <td>3,638.72</td>\n",
       "      <td>22,586.16</td>\n",
       "      <td>4,097.22</td>\n",
       "    </tr>\n",
       "    <tr>\n",
       "      <th>goal_mean</th>\n",
       "      <td>40,829.18</td>\n",
       "      <td>20,243.65</td>\n",
       "      <td>11,592.29</td>\n",
       "      <td>10,321.33</td>\n",
       "      <td>46,733.63</td>\n",
       "      <td>24,818.25</td>\n",
       "      <td>84,334.01</td>\n",
       "      <td>48,693.75</td>\n",
       "      <td>50,711.30</td>\n",
       "      <td>88,783.58</td>\n",
       "      <td>16,056.36</td>\n",
       "      <td>13,003.23</td>\n",
       "      <td>29,131.46</td>\n",
       "      <td>119,712.32</td>\n",
       "      <td>27,542.35</td>\n",
       "    </tr>\n",
       "    <tr>\n",
       "      <th>projects_total</th>\n",
       "      <td>28,153.00</td>\n",
       "      <td>10,819.00</td>\n",
       "      <td>8,809.00</td>\n",
       "      <td>3,768.00</td>\n",
       "      <td>30,070.00</td>\n",
       "      <td>22,816.00</td>\n",
       "      <td>63,585.00</td>\n",
       "      <td>24,602.00</td>\n",
       "      <td>35,231.00</td>\n",
       "      <td>4,755.00</td>\n",
       "      <td>51,918.00</td>\n",
       "      <td>10,779.00</td>\n",
       "      <td>39,874.00</td>\n",
       "      <td>32,569.00</td>\n",
       "      <td>10,913.00</td>\n",
       "    </tr>\n",
       "  </tbody>\n",
       "</table>\n",
       "</div>"
      ],
      "text/plain": [
       "main_category                   Art               Comics               Crafts  \\\n",
       "backers_mean                  42.21               134.77                27.28   \n",
       "backers_total          1,188,200.00         1,458,090.00           240,342.00   \n",
       "pledged_mean               3,606.97             6,899.31             2,016.15   \n",
       "goal_mean                 40,829.18            20,243.65            11,592.29   \n",
       "projects_total            28,153.00            10,819.00             8,809.00   \n",
       "\n",
       "main_category                 Dance               Design              Fashion  \\\n",
       "backers_mean                  42.80               241.30                61.45   \n",
       "backers_total            161,275.00         7,255,880.00         1,401,993.00   \n",
       "pledged_mean               3,690.80            27,119.75             6,549.03   \n",
       "goal_mean                 10,321.33            46,733.63            24,818.25   \n",
       "projects_total             3,768.00            30,070.00            22,816.00   \n",
       "\n",
       "main_category          Film & Video                 Food                Games  \\\n",
       "backers_mean                  66.02                54.17               321.79   \n",
       "backers_total          4,197,577.00         1,332,751.00        11,336,829.00   \n",
       "pledged_mean               6,362.73             5,340.16            21,865.17   \n",
       "goal_mean                 84,334.01            48,693.75            50,711.30   \n",
       "projects_total            63,585.00            24,602.00            35,231.00   \n",
       "\n",
       "main_category            Journalism                Music          Photography  \\\n",
       "backers_mean                  38.29                52.17                39.71   \n",
       "backers_total            182,091.00         2,708,475.00           428,078.00   \n",
       "pledged_mean               3,218.09             3,992.74             3,664.65   \n",
       "goal_mean                 88,783.58            16,056.36            13,003.23   \n",
       "projects_total             4,755.00            51,918.00            10,779.00   \n",
       "\n",
       "main_category            Publishing           Technology              Theater  \n",
       "backers_mean                  55.97               164.47                47.06  \n",
       "backers_total          2,231,589.00         5,356,513.00           513,536.00  \n",
       "pledged_mean               3,638.72            22,586.16             4,097.22  \n",
       "goal_mean                 29,131.46           119,712.32            27,542.35  \n",
       "projects_total            39,874.00            32,569.00            10,913.00  "
      ]
     },
     "execution_count": 38,
     "metadata": {},
     "output_type": "execute_result"
    }
   ],
   "source": [
    "projects_by_main_category_stacked.unstack(0)\n",
    "# toma el nivel 0 del indice, por lo cual quedan las columnas de cada categoria."
   ]
  },
  {
   "cell_type": "code",
   "execution_count": 39,
   "metadata": {},
   "outputs": [
    {
     "data": {
      "text/html": [
       "<div>\n",
       "<style scoped>\n",
       "    .dataframe tbody tr th:only-of-type {\n",
       "        vertical-align: middle;\n",
       "    }\n",
       "\n",
       "    .dataframe tbody tr th {\n",
       "        vertical-align: top;\n",
       "    }\n",
       "\n",
       "    .dataframe thead th {\n",
       "        text-align: right;\n",
       "    }\n",
       "</style>\n",
       "<table border=\"1\" class=\"dataframe\">\n",
       "  <thead>\n",
       "    <tr style=\"text-align: right;\">\n",
       "      <th>main_category</th>\n",
       "      <th>Art</th>\n",
       "      <th>Comics</th>\n",
       "      <th>Crafts</th>\n",
       "      <th>Dance</th>\n",
       "      <th>Design</th>\n",
       "      <th>Fashion</th>\n",
       "      <th>Film &amp; Video</th>\n",
       "      <th>Food</th>\n",
       "      <th>Games</th>\n",
       "      <th>Journalism</th>\n",
       "      <th>Music</th>\n",
       "      <th>Photography</th>\n",
       "      <th>Publishing</th>\n",
       "      <th>Technology</th>\n",
       "      <th>Theater</th>\n",
       "    </tr>\n",
       "  </thead>\n",
       "  <tbody>\n",
       "    <tr>\n",
       "      <th>backers_mean</th>\n",
       "      <td>42.21</td>\n",
       "      <td>134.77</td>\n",
       "      <td>27.28</td>\n",
       "      <td>42.80</td>\n",
       "      <td>241.30</td>\n",
       "      <td>61.45</td>\n",
       "      <td>66.02</td>\n",
       "      <td>54.17</td>\n",
       "      <td>321.79</td>\n",
       "      <td>38.29</td>\n",
       "      <td>52.17</td>\n",
       "      <td>39.71</td>\n",
       "      <td>55.97</td>\n",
       "      <td>164.47</td>\n",
       "      <td>47.06</td>\n",
       "    </tr>\n",
       "    <tr>\n",
       "      <th>backers_total</th>\n",
       "      <td>1,188,200.00</td>\n",
       "      <td>1,458,090.00</td>\n",
       "      <td>240,342.00</td>\n",
       "      <td>161,275.00</td>\n",
       "      <td>7,255,880.00</td>\n",
       "      <td>1,401,993.00</td>\n",
       "      <td>4,197,577.00</td>\n",
       "      <td>1,332,751.00</td>\n",
       "      <td>11,336,829.00</td>\n",
       "      <td>182,091.00</td>\n",
       "      <td>2,708,475.00</td>\n",
       "      <td>428,078.00</td>\n",
       "      <td>2,231,589.00</td>\n",
       "      <td>5,356,513.00</td>\n",
       "      <td>513,536.00</td>\n",
       "    </tr>\n",
       "    <tr>\n",
       "      <th>pledged_mean</th>\n",
       "      <td>3,606.97</td>\n",
       "      <td>6,899.31</td>\n",
       "      <td>2,016.15</td>\n",
       "      <td>3,690.80</td>\n",
       "      <td>27,119.75</td>\n",
       "      <td>6,549.03</td>\n",
       "      <td>6,362.73</td>\n",
       "      <td>5,340.16</td>\n",
       "      <td>21,865.17</td>\n",
       "      <td>3,218.09</td>\n",
       "      <td>3,992.74</td>\n",
       "      <td>3,664.65</td>\n",
       "      <td>3,638.72</td>\n",
       "      <td>22,586.16</td>\n",
       "      <td>4,097.22</td>\n",
       "    </tr>\n",
       "    <tr>\n",
       "      <th>goal_mean</th>\n",
       "      <td>40,829.18</td>\n",
       "      <td>20,243.65</td>\n",
       "      <td>11,592.29</td>\n",
       "      <td>10,321.33</td>\n",
       "      <td>46,733.63</td>\n",
       "      <td>24,818.25</td>\n",
       "      <td>84,334.01</td>\n",
       "      <td>48,693.75</td>\n",
       "      <td>50,711.30</td>\n",
       "      <td>88,783.58</td>\n",
       "      <td>16,056.36</td>\n",
       "      <td>13,003.23</td>\n",
       "      <td>29,131.46</td>\n",
       "      <td>119,712.32</td>\n",
       "      <td>27,542.35</td>\n",
       "    </tr>\n",
       "    <tr>\n",
       "      <th>projects_total</th>\n",
       "      <td>28,153.00</td>\n",
       "      <td>10,819.00</td>\n",
       "      <td>8,809.00</td>\n",
       "      <td>3,768.00</td>\n",
       "      <td>30,070.00</td>\n",
       "      <td>22,816.00</td>\n",
       "      <td>63,585.00</td>\n",
       "      <td>24,602.00</td>\n",
       "      <td>35,231.00</td>\n",
       "      <td>4,755.00</td>\n",
       "      <td>51,918.00</td>\n",
       "      <td>10,779.00</td>\n",
       "      <td>39,874.00</td>\n",
       "      <td>32,569.00</td>\n",
       "      <td>10,913.00</td>\n",
       "    </tr>\n",
       "  </tbody>\n",
       "</table>\n",
       "</div>"
      ],
      "text/plain": [
       "main_category                   Art               Comics               Crafts  \\\n",
       "backers_mean                  42.21               134.77                27.28   \n",
       "backers_total          1,188,200.00         1,458,090.00           240,342.00   \n",
       "pledged_mean               3,606.97             6,899.31             2,016.15   \n",
       "goal_mean                 40,829.18            20,243.65            11,592.29   \n",
       "projects_total            28,153.00            10,819.00             8,809.00   \n",
       "\n",
       "main_category                 Dance               Design              Fashion  \\\n",
       "backers_mean                  42.80               241.30                61.45   \n",
       "backers_total            161,275.00         7,255,880.00         1,401,993.00   \n",
       "pledged_mean               3,690.80            27,119.75             6,549.03   \n",
       "goal_mean                 10,321.33            46,733.63            24,818.25   \n",
       "projects_total             3,768.00            30,070.00            22,816.00   \n",
       "\n",
       "main_category          Film & Video                 Food                Games  \\\n",
       "backers_mean                  66.02                54.17               321.79   \n",
       "backers_total          4,197,577.00         1,332,751.00        11,336,829.00   \n",
       "pledged_mean               6,362.73             5,340.16            21,865.17   \n",
       "goal_mean                 84,334.01            48,693.75            50,711.30   \n",
       "projects_total            63,585.00            24,602.00            35,231.00   \n",
       "\n",
       "main_category            Journalism                Music          Photography  \\\n",
       "backers_mean                  38.29                52.17                39.71   \n",
       "backers_total            182,091.00         2,708,475.00           428,078.00   \n",
       "pledged_mean               3,218.09             3,992.74             3,664.65   \n",
       "goal_mean                 88,783.58            16,056.36            13,003.23   \n",
       "projects_total             4,755.00            51,918.00            10,779.00   \n",
       "\n",
       "main_category            Publishing           Technology              Theater  \n",
       "backers_mean                  55.97               164.47                47.06  \n",
       "backers_total          2,231,589.00         5,356,513.00           513,536.00  \n",
       "pledged_mean               3,638.72            22,586.16             4,097.22  \n",
       "goal_mean                 29,131.46           119,712.32            27,542.35  \n",
       "projects_total            39,874.00            32,569.00            10,913.00  "
      ]
     },
     "execution_count": 39,
     "metadata": {},
     "output_type": "execute_result"
    }
   ],
   "source": [
    "# esto es igual a trasponer el DataFrame original\n",
    "projects_by_main_category.T"
   ]
  },
  {
   "cell_type": "markdown",
   "metadata": {},
   "source": [
    "### pivot / pivot_table\n",
    "\n",
    "La funcion de pivot es utilizada para crear una nueva tabla derivada a partir de una dada. Toma 3 argumentos con los siguientes nombres: index, columns y values. Como valores de cada uno de estos parametros, es necesario especificar el nombre de una columna de la tabla original. Luego la funcion de pivot va a crear una nueva tabla donde:\n",
    "\n",
    "- Los indices de fila y columna son los valores unicos de los parametros respectivos.\n",
    "- Los valores de las celdas de las nueva table son tomados de la columna dada en el parametro values\n",
    "\n",
    "Dado que pivot tiene algunos aspectos a considerar en relacion a duplicados, vamos a considerar la funcion pivot_table que resuelve esto con una funcion de agregacion que se puede indicar como se ve en el siguiente ejemplo:\n",
    "\n",
    "![title](img/pivoting_table_simple1.png)\n"
   ]
  },
  {
   "cell_type": "code",
   "execution_count": 484,
   "metadata": {},
   "outputs": [
    {
     "data": {
      "text/plain": [
       "Index(['main_category', 'statistics', 'values'], dtype='object')"
      ]
     },
     "execution_count": 484,
     "metadata": {},
     "output_type": "execute_result"
    }
   ],
   "source": [
    "projects_by_main_category_reshaped.columns"
   ]
  },
  {
   "cell_type": "code",
   "execution_count": 485,
   "metadata": {},
   "outputs": [
    {
     "data": {
      "text/html": [
       "<div>\n",
       "<style scoped>\n",
       "    .dataframe tbody tr th:only-of-type {\n",
       "        vertical-align: middle;\n",
       "    }\n",
       "\n",
       "    .dataframe tbody tr th {\n",
       "        vertical-align: top;\n",
       "    }\n",
       "\n",
       "    .dataframe thead th {\n",
       "        text-align: right;\n",
       "    }\n",
       "</style>\n",
       "<table border=\"1\" class=\"dataframe\">\n",
       "  <thead>\n",
       "    <tr style=\"text-align: right;\">\n",
       "      <th></th>\n",
       "      <th>main_category</th>\n",
       "      <th>statistics</th>\n",
       "      <th>values</th>\n",
       "    </tr>\n",
       "  </thead>\n",
       "  <tbody>\n",
       "    <tr>\n",
       "      <td>0</td>\n",
       "      <td>Art</td>\n",
       "      <td>backers_mean</td>\n",
       "      <td>43.03</td>\n",
       "    </tr>\n",
       "    <tr>\n",
       "      <td>1</td>\n",
       "      <td>Art</td>\n",
       "      <td>backers_total</td>\n",
       "      <td>960,020.00</td>\n",
       "    </tr>\n",
       "    <tr>\n",
       "      <td>2</td>\n",
       "      <td>Art</td>\n",
       "      <td>pledged_mean</td>\n",
       "      <td>3,306.61</td>\n",
       "    </tr>\n",
       "    <tr>\n",
       "      <td>3</td>\n",
       "      <td>Art</td>\n",
       "      <td>goal_mean</td>\n",
       "      <td>32,925.69</td>\n",
       "    </tr>\n",
       "    <tr>\n",
       "      <td>4</td>\n",
       "      <td>Art</td>\n",
       "      <td>projects_total</td>\n",
       "      <td>22,311.00</td>\n",
       "    </tr>\n",
       "    <tr>\n",
       "      <td>...</td>\n",
       "      <td>...</td>\n",
       "      <td>...</td>\n",
       "      <td>...</td>\n",
       "    </tr>\n",
       "    <tr>\n",
       "      <td>70</td>\n",
       "      <td>Theater</td>\n",
       "      <td>backers_mean</td>\n",
       "      <td>50.32</td>\n",
       "    </tr>\n",
       "    <tr>\n",
       "      <td>71</td>\n",
       "      <td>Theater</td>\n",
       "      <td>backers_total</td>\n",
       "      <td>438,197.00</td>\n",
       "    </tr>\n",
       "    <tr>\n",
       "      <td>72</td>\n",
       "      <td>Theater</td>\n",
       "      <td>pledged_mean</td>\n",
       "      <td>4,293.06</td>\n",
       "    </tr>\n",
       "    <tr>\n",
       "      <td>73</td>\n",
       "      <td>Theater</td>\n",
       "      <td>goal_mean</td>\n",
       "      <td>28,198.26</td>\n",
       "    </tr>\n",
       "    <tr>\n",
       "      <td>74</td>\n",
       "      <td>Theater</td>\n",
       "      <td>projects_total</td>\n",
       "      <td>8,709.00</td>\n",
       "    </tr>\n",
       "  </tbody>\n",
       "</table>\n",
       "<p>75 rows × 3 columns</p>\n",
       "</div>"
      ],
      "text/plain": [
       "   main_category      statistics               values\n",
       "0            Art    backers_mean                43.03\n",
       "1            Art   backers_total           960,020.00\n",
       "2            Art    pledged_mean             3,306.61\n",
       "3            Art       goal_mean            32,925.69\n",
       "4            Art  projects_total            22,311.00\n",
       "..           ...             ...                  ...\n",
       "70       Theater    backers_mean                50.32\n",
       "71       Theater   backers_total           438,197.00\n",
       "72       Theater    pledged_mean             4,293.06\n",
       "73       Theater       goal_mean            28,198.26\n",
       "74       Theater  projects_total             8,709.00\n",
       "\n",
       "[75 rows x 3 columns]"
      ]
     },
     "execution_count": 485,
     "metadata": {},
     "output_type": "execute_result"
    }
   ],
   "source": [
    "projects_by_main_category_reshaped"
   ]
  },
  {
   "cell_type": "code",
   "execution_count": 487,
   "metadata": {},
   "outputs": [
    {
     "data": {
      "text/html": [
       "<div>\n",
       "<style scoped>\n",
       "    .dataframe tbody tr th:only-of-type {\n",
       "        vertical-align: middle;\n",
       "    }\n",
       "\n",
       "    .dataframe tbody tr th {\n",
       "        vertical-align: top;\n",
       "    }\n",
       "\n",
       "    .dataframe thead th {\n",
       "        text-align: right;\n",
       "    }\n",
       "</style>\n",
       "<table border=\"1\" class=\"dataframe\">\n",
       "  <thead>\n",
       "    <tr style=\"text-align: right;\">\n",
       "      <th>statistics</th>\n",
       "      <th>backers_mean</th>\n",
       "      <th>backers_total</th>\n",
       "      <th>goal_mean</th>\n",
       "      <th>pledged_mean</th>\n",
       "      <th>projects_total</th>\n",
       "    </tr>\n",
       "    <tr>\n",
       "      <th>main_category</th>\n",
       "      <th></th>\n",
       "      <th></th>\n",
       "      <th></th>\n",
       "      <th></th>\n",
       "      <th></th>\n",
       "    </tr>\n",
       "  </thead>\n",
       "  <tbody>\n",
       "    <tr>\n",
       "      <td>Art</td>\n",
       "      <td>43.03</td>\n",
       "      <td>960,020.00</td>\n",
       "      <td>32,925.69</td>\n",
       "      <td>3,306.61</td>\n",
       "      <td>22,311.00</td>\n",
       "    </tr>\n",
       "    <tr>\n",
       "      <td>Comics</td>\n",
       "      <td>141.33</td>\n",
       "      <td>1,259,287.00</td>\n",
       "      <td>22,111.48</td>\n",
       "      <td>7,072.70</td>\n",
       "      <td>8,910.00</td>\n",
       "    </tr>\n",
       "    <tr>\n",
       "      <td>Crafts</td>\n",
       "      <td>29.87</td>\n",
       "      <td>198,575.00</td>\n",
       "      <td>10,689.84</td>\n",
       "      <td>1,720.49</td>\n",
       "      <td>6,648.00</td>\n",
       "    </tr>\n",
       "    <tr>\n",
       "      <td>Dance</td>\n",
       "      <td>45.67</td>\n",
       "      <td>147,427.00</td>\n",
       "      <td>9,345.09</td>\n",
       "      <td>3,695.30</td>\n",
       "      <td>3,228.00</td>\n",
       "    </tr>\n",
       "    <tr>\n",
       "      <td>Design</td>\n",
       "      <td>269.82</td>\n",
       "      <td>5,852,322.00</td>\n",
       "      <td>44,079.06</td>\n",
       "      <td>26,732.96</td>\n",
       "      <td>21,690.00</td>\n",
       "    </tr>\n",
       "    <tr>\n",
       "      <td>Fashion</td>\n",
       "      <td>67.79</td>\n",
       "      <td>1,124,305.00</td>\n",
       "      <td>22,524.95</td>\n",
       "      <td>6,079.90</td>\n",
       "      <td>16,584.00</td>\n",
       "    </tr>\n",
       "    <tr>\n",
       "      <td>Film &amp; Video</td>\n",
       "      <td>70.86</td>\n",
       "      <td>3,679,279.00</td>\n",
       "      <td>80,393.30</td>\n",
       "      <td>6,659.95</td>\n",
       "      <td>51,922.00</td>\n",
       "    </tr>\n",
       "    <tr>\n",
       "      <td>Food</td>\n",
       "      <td>59.31</td>\n",
       "      <td>1,182,631.00</td>\n",
       "      <td>36,526.48</td>\n",
       "      <td>5,648.47</td>\n",
       "      <td>19,941.00</td>\n",
       "    </tr>\n",
       "    <tr>\n",
       "      <td>Games</td>\n",
       "      <td>375.69</td>\n",
       "      <td>9,255,400.00</td>\n",
       "      <td>49,400.62</td>\n",
       "      <td>24,947.34</td>\n",
       "      <td>24,636.00</td>\n",
       "    </tr>\n",
       "    <tr>\n",
       "      <td>Journalism</td>\n",
       "      <td>40.25</td>\n",
       "      <td>142,481.00</td>\n",
       "      <td>102,191.03</td>\n",
       "      <td>2,815.56</td>\n",
       "      <td>3,540.00</td>\n",
       "    </tr>\n",
       "    <tr>\n",
       "      <td>Music</td>\n",
       "      <td>56.89</td>\n",
       "      <td>2,459,726.00</td>\n",
       "      <td>15,831.12</td>\n",
       "      <td>4,087.06</td>\n",
       "      <td>43,238.00</td>\n",
       "    </tr>\n",
       "    <tr>\n",
       "      <td>Photography</td>\n",
       "      <td>40.14</td>\n",
       "      <td>320,634.00</td>\n",
       "      <td>12,742.45</td>\n",
       "      <td>3,662.67</td>\n",
       "      <td>7,988.00</td>\n",
       "    </tr>\n",
       "    <tr>\n",
       "      <td>Publishing</td>\n",
       "      <td>56.25</td>\n",
       "      <td>1,784,505.00</td>\n",
       "      <td>26,743.17</td>\n",
       "      <td>3,361.63</td>\n",
       "      <td>31,726.00</td>\n",
       "    </tr>\n",
       "    <tr>\n",
       "      <td>Technology</td>\n",
       "      <td>198.79</td>\n",
       "      <td>4,285,067.00</td>\n",
       "      <td>100,281.63</td>\n",
       "      <td>25,789.47</td>\n",
       "      <td>21,556.00</td>\n",
       "    </tr>\n",
       "    <tr>\n",
       "      <td>Theater</td>\n",
       "      <td>50.32</td>\n",
       "      <td>438,197.00</td>\n",
       "      <td>28,198.26</td>\n",
       "      <td>4,293.06</td>\n",
       "      <td>8,709.00</td>\n",
       "    </tr>\n",
       "  </tbody>\n",
       "</table>\n",
       "</div>"
      ],
      "text/plain": [
       "statistics            backers_mean        backers_total            goal_mean  \\\n",
       "main_category                                                                  \n",
       "Art                          43.03           960,020.00            32,925.69   \n",
       "Comics                      141.33         1,259,287.00            22,111.48   \n",
       "Crafts                       29.87           198,575.00            10,689.84   \n",
       "Dance                        45.67           147,427.00             9,345.09   \n",
       "Design                      269.82         5,852,322.00            44,079.06   \n",
       "Fashion                      67.79         1,124,305.00            22,524.95   \n",
       "Film & Video                 70.86         3,679,279.00            80,393.30   \n",
       "Food                         59.31         1,182,631.00            36,526.48   \n",
       "Games                       375.69         9,255,400.00            49,400.62   \n",
       "Journalism                   40.25           142,481.00           102,191.03   \n",
       "Music                        56.89         2,459,726.00            15,831.12   \n",
       "Photography                  40.14           320,634.00            12,742.45   \n",
       "Publishing                   56.25         1,784,505.00            26,743.17   \n",
       "Technology                  198.79         4,285,067.00           100,281.63   \n",
       "Theater                      50.32           438,197.00            28,198.26   \n",
       "\n",
       "statistics            pledged_mean       projects_total  \n",
       "main_category                                            \n",
       "Art                       3,306.61            22,311.00  \n",
       "Comics                    7,072.70             8,910.00  \n",
       "Crafts                    1,720.49             6,648.00  \n",
       "Dance                     3,695.30             3,228.00  \n",
       "Design                   26,732.96            21,690.00  \n",
       "Fashion                   6,079.90            16,584.00  \n",
       "Film & Video              6,659.95            51,922.00  \n",
       "Food                      5,648.47            19,941.00  \n",
       "Games                    24,947.34            24,636.00  \n",
       "Journalism                2,815.56             3,540.00  \n",
       "Music                     4,087.06            43,238.00  \n",
       "Photography               3,662.67             7,988.00  \n",
       "Publishing                3,361.63            31,726.00  \n",
       "Technology               25,789.47            21,556.00  \n",
       "Theater                   4,293.06             8,709.00  "
      ]
     },
     "execution_count": 487,
     "metadata": {},
     "output_type": "execute_result"
    }
   ],
   "source": [
    "projects_by_main_category_reshaped.pivot_table(index='main_category',columns='statistics',values='values')"
   ]
  }
 ],
 "metadata": {
  "celltoolbar": "Slideshow",
  "kernelspec": {
   "display_name": "Python 3",
   "language": "python",
   "name": "python3"
  },
  "language_info": {
   "codemirror_mode": {
    "name": "ipython",
    "version": 3
   },
   "file_extension": ".py",
   "mimetype": "text/x-python",
   "name": "python",
   "nbconvert_exporter": "python",
   "pygments_lexer": "ipython3",
   "version": "3.8.2"
  }
 },
 "nbformat": 4,
 "nbformat_minor": 4
}
